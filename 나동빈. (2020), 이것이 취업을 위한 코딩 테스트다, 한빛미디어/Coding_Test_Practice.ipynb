{
  "nbformat": 4,
  "nbformat_minor": 0,
  "metadata": {
    "colab": {
      "provenance": [],
      "toc_visible": true,
      "authorship_tag": "ABX9TyNdTNeccTHWBqJ/2NnZgTaZ",
      "include_colab_link": true
    },
    "kernelspec": {
      "name": "python3",
      "display_name": "Python 3"
    },
    "language_info": {
      "name": "python"
    }
  },
  "cells": [
    {
      "cell_type": "markdown",
      "metadata": {
        "id": "view-in-github",
        "colab_type": "text"
      },
      "source": [
        "<a href=\"https://colab.research.google.com/github/orangNLP/Algorithm_practice-PUB-/blob/main/%EB%82%98%EB%8F%99%EB%B9%88.%20(2020)%2C%20%EC%9D%B4%EA%B2%83%EC%9D%B4%20%EC%B7%A8%EC%97%85%EC%9D%84%20%EC%9C%84%ED%95%9C%20%EC%BD%94%EB%94%A9%20%ED%85%8C%EC%8A%A4%ED%8A%B8%EB%8B%A4%2C%20%ED%95%9C%EB%B9%9B%EB%AF%B8%EB%94%94%EC%96%B4/Coding_Test_Practice.ipynb\" target=\"_parent\"><img src=\"https://colab.research.google.com/assets/colab-badge.svg\" alt=\"Open In Colab\"/></a>"
      ]
    },
    {
      "cell_type": "code",
      "execution_count": null,
      "metadata": {
        "id": "Lm7O1nuBZqAI"
      },
      "outputs": [],
      "source": [
        "#시간 측정 알고리즘\n",
        "import time\n",
        "start_time = time.time()\n",
        "'''\n",
        "code\n",
        "'''\n",
        "end_time = time.time()\n",
        "print(\"time :\", end_time - start_time)"
      ]
    },
    {
      "cell_type": "markdown",
      "source": [
        "#**■그리디 알고리즘**"
      ],
      "metadata": {
        "id": "4iMWA-xS9bli"
      }
    },
    {
      "cell_type": "markdown",
      "source": [
        "##**거스름돈**\n",
        "\n",
        "---\n",
        "\n"
      ],
      "metadata": {
        "id": "VIBymbUZ8-34"
      }
    },
    {
      "cell_type": "code",
      "source": [
        "#거스름돈\n",
        "'''\n",
        "import sys\n",
        "\n",
        "inpt = int(sys.stdin.readline().strip())\n",
        "'''\n",
        "inpt = int(input())\n",
        "answer = 0\n",
        "coins = [500, 100, 50, 10]\n",
        "for i in coins:\n",
        "  answer += inpt // i\n",
        "  inpt %= i\n",
        "\n",
        "print(answer)"
      ],
      "metadata": {
        "id": "FF7x_l48pvPc"
      },
      "execution_count": null,
      "outputs": []
    },
    {
      "cell_type": "markdown",
      "source": [
        "##**큰수의 법칙**\n",
        "\n",
        "---\n",
        "\n"
      ],
      "metadata": {
        "id": "2xyyiVoU9Caz"
      }
    },
    {
      "cell_type": "code",
      "source": [
        "N, M, K = map(int, input().split())\n",
        "data = list(map(int,input().split()))\n",
        "\n",
        "import time\n",
        "start_time = time.time()\n",
        "\n",
        "data.sort()\n",
        "answer = 0\n",
        "for i in range(M):\n",
        "  i += 1\n",
        "  if (i%K) == 0:\n",
        "    answer += data[-2]\n",
        "  else:\n",
        "    answer += data[-1]\n",
        "print(answer)\n",
        "\n",
        "end_time = time.time()\n",
        "print(\"time :\", end_time - start_time)"
      ],
      "metadata": {
        "id": "Dc9I8-6LuFaW"
      },
      "execution_count": null,
      "outputs": []
    },
    {
      "cell_type": "code",
      "source": [
        "N, M, K = map(int, input().split())\n",
        "data = list(map(int,input().split()))\n",
        "\n",
        "import time\n",
        "start_time = time.time()\n",
        "\n",
        "data.sort()\n",
        "first = data[-1]\n",
        "second = data[-2]\n",
        "\n",
        "count = (M/(K+1))*K\n",
        "count += M%(K+1)\n",
        "\n",
        "result = 0\n",
        "result += count * first\n",
        "result += (M - count) * second\n",
        "\n",
        "print(result)\n",
        "\n",
        "end_time = time.time()\n",
        "print(\"time :\", end_time - start_time)"
      ],
      "metadata": {
        "id": "pPsAl0wEyFGy"
      },
      "execution_count": null,
      "outputs": []
    },
    {
      "cell_type": "markdown",
      "source": [
        "##**숫자 카드 게임**"
      ],
      "metadata": {
        "id": "2x9YVsYl9I_O"
      }
    },
    {
      "cell_type": "code",
      "source": [
        "import numpy as np\n",
        "\n",
        "N, M = map(int, input().split())\n",
        "inpt = np.zeros(shape=(N,M))\n",
        "for i in range(N):\n",
        "  inpt[i,:] = list(map(int,input().split()))\n",
        "print(int(max(np.min(inpt, axis = 1)))) #np.max / np.min에서 axis는 그 축을 따라 이동한다는 뜻. 즉 행들의 최소값을 얻고 싶다면 axis를 1(열)로 설정해야 함"
      ],
      "metadata": {
        "id": "b2ny3gN04JZU"
      },
      "execution_count": null,
      "outputs": []
    },
    {
      "cell_type": "markdown",
      "source": [
        "##**1이 될 때까지**\n",
        "\n",
        "\n",
        "---\n",
        "\n"
      ],
      "metadata": {
        "id": "vgLuC_Gd9Smm"
      }
    },
    {
      "cell_type": "code",
      "source": [
        "N, K = map(int, input().split())\n",
        "\n",
        "import time\n",
        "start_time = time.time()\n",
        "count = 0\n",
        "while True:\n",
        "  if N == 1:\n",
        "    break\n",
        "  elif N % K == 0:\n",
        "    N //= K\n",
        "  else:\n",
        "    N -= 1\n",
        "  count += 1\n",
        "print(count)\n",
        "\n",
        "end_time = time.time()\n",
        "print(\"time :\", end_time - start_time)"
      ],
      "metadata": {
        "id": "v7_9rxbY9RlL"
      },
      "execution_count": null,
      "outputs": []
    },
    {
      "cell_type": "markdown",
      "source": [
        "# **■구현**"
      ],
      "metadata": {
        "id": "8S6jl9uGFnFY"
      }
    },
    {
      "cell_type": "markdown",
      "source": [
        "## **상하좌우**\n",
        "\n",
        "---\n",
        "\n"
      ],
      "metadata": {
        "id": "jSEmargRFrqy"
      }
    },
    {
      "cell_type": "code",
      "source": [
        "N = int(input())\n",
        "course = input().split()\n",
        "\n",
        "import time\n",
        "start_time = time.time()\n",
        "\n",
        "x_location = 1\n",
        "y_location = 1\n",
        "for i in course:\n",
        "  if i == 'R':\n",
        "    x_location += 1\n",
        "  if i == 'L':\n",
        "    x_location -= 1\n",
        "  if i == 'U' :\n",
        "    y_location -= 1\n",
        "  if i == 'D' :\n",
        "    y_location += 1\n",
        "  if x_location == 0:\n",
        "    x_location = 1\n",
        "  if y_location == 0:\n",
        "    y_location = 1\n",
        "  if x_location > N:\n",
        "    x_location = N\n",
        "  if y_location > N:\n",
        "    y_location = N\n",
        "print(y_location, x_location)\n",
        "\n",
        "end_time = time.time()\n",
        "print(\"time :\", end_time - start_time)"
      ],
      "metadata": {
        "id": "nnt4hJIMFuJq"
      },
      "execution_count": null,
      "outputs": []
    },
    {
      "cell_type": "code",
      "source": [
        "#simple code\n",
        "n = int(input())\n",
        "course = input().split()\n",
        "\n",
        "import time\n",
        "start_time = time.time()\n",
        "\n",
        "x = 1\n",
        "y = 1\n",
        "ways = ['R', 'L', 'U', 'D']\n",
        "x_location = [1, -1, 0, 0]\n",
        "y_location = [0, 0, -1, 1]\n",
        "\n",
        "for i in course:\n",
        "  for k in range(len(ways)):\n",
        "    if i == ways[k]:\n",
        "      nx = x + x_location[k]\n",
        "      ny = y + y_location[k]\n",
        "  if nx == 0 or ny == 0 or nx > n or ny > n:\n",
        "    continue\n",
        "  else:\n",
        "    x, y = nx, ny\n",
        "\n",
        "print(y, x)\n",
        "\n",
        "end_time = time.time()\n",
        "print(\"time :\", end_time - start_time)"
      ],
      "metadata": {
        "id": "7LRtPEviHuxE"
      },
      "execution_count": null,
      "outputs": []
    },
    {
      "cell_type": "markdown",
      "source": [
        "## **시각**\n",
        "\n",
        "---\n",
        "\n"
      ],
      "metadata": {
        "id": "7NmN6XZhLJ22"
      }
    },
    {
      "cell_type": "code",
      "source": [
        "N = int(input())\n",
        "\n",
        "count = 0\n",
        "\n",
        "for hour in range(N+1):\n",
        "  for min in range(60):\n",
        "    for sec in range(60):\n",
        "      if '3' in str(hour) + str(min) + str(sec):\n",
        "        count += 1\n",
        "print(count)"
      ],
      "metadata": {
        "id": "dZT0_BLXHxlH"
      },
      "execution_count": null,
      "outputs": []
    },
    {
      "cell_type": "markdown",
      "source": [
        "## **왕실의 나이트**\n",
        "\n",
        "---\n",
        "\n"
      ],
      "metadata": {
        "id": "PBIKi6R0OlTn"
      }
    },
    {
      "cell_type": "code",
      "source": [
        "import itertools\n",
        "\n",
        "location = input()\n",
        "\n",
        "import time\n",
        "start_time = time.time()\n",
        "\n",
        "movement = []\n",
        "count = 0\n",
        "\n",
        "for i in itertools.product([1,-1],[2,-2]):\n",
        "  movement.append(i)\n",
        "\n",
        "for i in itertools.product([2,-2],[1,-1]):\n",
        "  movement.append(i)\n",
        "\n",
        "location_vec = (ord(location[0]) - 96, int(location[1]))\n",
        "\n",
        "for i in movement:\n",
        "  temp_x = location_vec[0] + i[0]\n",
        "  temp_y = location_vec[1] + i[1]\n",
        "\n",
        "  if temp_x < 1 or temp_x > 8 or temp_y < 1 or temp_y > 8:\n",
        "    continue\n",
        "    \n",
        "  count += 1\n",
        "\n",
        "print(count)\n",
        "\n",
        "end_time = time.time()\n",
        "print(\"time :\", end_time - start_time)"
      ],
      "metadata": {
        "id": "2F5FZNmYOooM"
      },
      "execution_count": null,
      "outputs": []
    },
    {
      "cell_type": "markdown",
      "source": [
        "## **게임 개발**\n",
        "\n",
        "---\n",
        "\n"
      ],
      "metadata": {
        "id": "almZE-HB3-tS"
      }
    },
    {
      "cell_type": "code",
      "source": [
        "import numpy as np\n",
        "import collections\n",
        "N, M = map(int, input().split())\n",
        "ch_row, ch_col, dir = map(int, input().split())\n",
        "\n",
        "worldmap = np.zeros((N,M))\n",
        "\n",
        "for i in range(N):\n",
        "  worldmap[i] = list(map(int, input().split()))\n",
        "\n",
        "\n",
        "import time\n",
        "start_time = time.time()\n",
        "\n",
        "ch = np.array([ch_row,ch_col])\n",
        "\n",
        "dir_path = np.array([[0,-1],[1,0],[0,1],[-1,0]])\n",
        "\n",
        "while True:\n",
        "  reset += 1\n",
        "  if dir == 0:\n",
        "    dir = 3\n",
        "  else:\n",
        "    dir -= 1\n",
        "  a, b = ch + dir_path[dir]\n",
        "  if a < 0 or a > N:\n",
        "    continue\n",
        "  if worldmap[a-1][b-1] == 0:\n",
        "    worldmap[a-1][b-1] = 2\n",
        "    ch = [a,b]\n",
        "    reset = 0\n",
        "  if reset == 4:\n",
        "   ch = ch - dir_path[dir]\n",
        "   reset = 0\n",
        "   if worldmap[ch[0],ch[1]] == 1:\n",
        "     break\n",
        "\n",
        "print(collections.Counter(np.reshape(worldmap,(-1)))[2])\n",
        "\n",
        "end_time = time.time()\n",
        "print(\"time :\", end_time - start_time)"
      ],
      "metadata": {
        "id": "6GlO5qER4GJ0"
      },
      "execution_count": null,
      "outputs": []
    },
    {
      "cell_type": "markdown",
      "source": [
        "# **■DFS/BFS**"
      ],
      "metadata": {
        "id": "2-zx8WbaLHoF"
      }
    },
    {
      "cell_type": "code",
      "source": [
        "#'Depth First Search' Examples\n",
        "\n",
        "def dfs(graph, v, visited):\n",
        "  visited[v-1] = True\n",
        "  print(v, end= ' ')\n",
        "  for i in graph[v]:\n",
        "    if not visited[i-1]:\n",
        "      dfs(graph,i,visited)\n",
        "\n",
        "graph = [\n",
        "    [1,[2,3,8]],\n",
        "    [2,[1,7]],\n",
        "    [3,[1,4,5]],\n",
        "    [4,[3,5]],\n",
        "    [5,[3,4]],\n",
        "    [6,[7]],\n",
        "    [7,[2,6,8]],\n",
        "    [8,[1,7]]\n",
        "]\n",
        "graph = dict(graph)\n",
        "visited = [False] * len(graph.keys())\n",
        "\n",
        "dfs(graph,1,visited)"
      ],
      "metadata": {
        "id": "Wf0ilanYLNHg"
      },
      "execution_count": null,
      "outputs": []
    },
    {
      "cell_type": "code",
      "source": [
        "#'Breadth First Search' Examples\n",
        "import collections\n",
        "def bfs(graph, start, visited):\n",
        "  queue = collections.deque([start])\n",
        "  visited[start -1] = True\n",
        "  while queue:\n",
        "    v = queue.popleft()\n",
        "    print(v, end = ' ')\n",
        "    for i in graph[v]:\n",
        "      if not visited[i-1]:\n",
        "        queue.append(i)\n",
        "        visited[i-1] = True\n",
        "\n",
        "visited = [False] * len(graph.keys())\n",
        "bfs(graph, 1, visited)"
      ],
      "metadata": {
        "id": "29xcZkdWTH2c"
      },
      "execution_count": null,
      "outputs": []
    },
    {
      "cell_type": "markdown",
      "source": [
        "## **음료수 얼려 먹기**\n",
        "\n",
        "---\n",
        "\n"
      ],
      "metadata": {
        "id": "jTpBkaGOXgwZ"
      }
    },
    {
      "cell_type": "code",
      "source": [
        "N, M = map(int,input().split())\n",
        "\n",
        "graph = []\n",
        "for i in range(N):\n",
        "  graph.append(list(map(int,input())))\n",
        "\n",
        "def dfs(x, y):\n",
        "  global graph\n",
        "  if x < 0 or x >= N or y < 0 or y >= M:\n",
        "    return False\n",
        "  if graph[x][y] == 0:\n",
        "    graph[x][y] = 1\n",
        "    dfs(x-1, y)\n",
        "    dfs(x, y-1)\n",
        "    dfs(x+1, y)\n",
        "    dfs(x, y+1)\n",
        "    return True\n",
        "  return False\n",
        "\n",
        "result = 0\n",
        "for i in range(N):\n",
        "  for j in range(M):\n",
        "    if dfs(i,j) == True:\n",
        "      result += 1\n",
        "print(result) "
      ],
      "metadata": {
        "id": "HzXR6TjhXcky"
      },
      "execution_count": null,
      "outputs": []
    },
    {
      "cell_type": "markdown",
      "source": [
        "## **미로 탈출**\n",
        "\n",
        "---"
      ],
      "metadata": {
        "id": "jdVcoAsF9CNw"
      }
    },
    {
      "cell_type": "code",
      "source": [
        "import numpy as np\n",
        "\n",
        "N, M = map(int, input().split())\n",
        "graph = [list(map(int, list(input()))) for _ in range(N)]\n",
        "dx = [-1,1,0,0]\n",
        "dy = [0,0,-1,1]\n",
        "\n",
        "def BFS(x,y):\n",
        "  queue = collections.deque()\n",
        "  queue.append((x,y))\n",
        "  while queue:\n",
        "    x, y = queue.popleft()\n",
        "    for i in range(4):\n",
        "      nx = x +dx[i]\n",
        "      ny = y +dy[i]\n",
        "      if nx <0 or nx >= N or ny < 0 or ny >= M:\n",
        "        continue\n",
        "      if graph[nx][ny] == 0:\n",
        "        continue\n",
        "      if graph[nx][ny] == 1:\n",
        "        graph[nx][ny] = graph[x][y] + 1\n",
        "        queue.append((nx,ny))\n",
        "        print(queue)\n",
        "  print(queue)      \n",
        "  return graph[N-1][M-1]\n",
        "\n",
        "import collections\n",
        "BFS(0,0)"
      ],
      "metadata": {
        "id": "9bYe-t0ZD-B_"
      },
      "execution_count": null,
      "outputs": []
    },
    {
      "cell_type": "code",
      "source": [
        "graph"
      ],
      "metadata": {
        "id": "axhwPEKmKZIT"
      },
      "execution_count": null,
      "outputs": []
    },
    {
      "cell_type": "markdown",
      "source": [
        "# **■정렬**"
      ],
      "metadata": {
        "id": "PeFmVnUQM0yh"
      }
    },
    {
      "cell_type": "markdown",
      "source": [
        "##**선택 정렬(Selection Sort)**\n",
        "\n",
        "---\n",
        " **O(N^2)** 가장 기본적인 정렬 방법. 배열에서 가장 작은 수를 찾아 앞 쪽으로 보내는 연산을 n^2 반복한다."
      ],
      "metadata": {
        "id": "sHiZ3gjQNdKi"
      }
    },
    {
      "cell_type": "code",
      "source": [
        "array = [7,5,9,0,3,1,6,2,4,8]\n",
        "\n",
        "for i in range(len(array)):\n",
        "  min_index = i\n",
        "  for j in range(i+1, len(array)):\n",
        "    if array[min_index] > array[j]:\n",
        "      min_index = j\n",
        "  array[i] , array[min_index] = array[min_index],array[i]\n",
        "  print(array)"
      ],
      "metadata": {
        "id": "0uiYF3aVNiuL"
      },
      "execution_count": null,
      "outputs": []
    },
    {
      "cell_type": "markdown",
      "source": [
        "##**삽입 정렬(Insertion Sort)**\n",
        "\n",
        "---\n",
        "**O(N^2)** 정렬하려는 원소를 정렬된 원소 리스트들과 대소 비교해서 적절한 위치로 옮기는 연산을 반복한다."
      ],
      "metadata": {
        "id": "ioXxrRDmPGQ0"
      }
    },
    {
      "cell_type": "code",
      "source": [
        "array = [7,5,9,0,3,1,6,2,4,8]\n",
        "for i in range(1, len(array)):\n",
        "  for j in range(i,0,-1):\n",
        "    if array[j] < array[j-1]:\n",
        "      array[j], array[j-1] = array[j-1], array[j]\n",
        "    else:\n",
        "      break\n",
        "    print(array)"
      ],
      "metadata": {
        "id": "y5gBiej8PMyK"
      },
      "execution_count": null,
      "outputs": []
    },
    {
      "cell_type": "markdown",
      "source": [
        "##**퀵 정렬(Quick Sort)**\n",
        "\n",
        "---\n",
        "**O(NlogN) on avg** 특정 원소를 pivot으로 삼아 pivot보다 작은 원소를 pivot의 좌측으로, 큰 원소를 우측으로 정렬하는 것을 반복한다.\n"
      ],
      "metadata": {
        "id": "X8S5p45PSuGa"
      }
    },
    {
      "cell_type": "code",
      "source": [
        "  import time\n",
        "  start_time = time.time()\n",
        "\n",
        "  array = [5, 7, 9, 0, 3, 1, 6, 2, 4, 8]\n",
        "\n",
        "  def quick_sort(array, start, end):\n",
        "    if start >= end:\n",
        "      return\n",
        "    pivot = start\n",
        "    left = start + 1\n",
        "    right = end\n",
        "    while left <= right:\n",
        "      while left <= end and array[left] <= array[pivot]: #pivot보다 큰 데이터 left부터 찾기\n",
        "        left += 1\n",
        "      while right > start and array[right] >= array[pivot]: #pivot보다 작은 데이터 right부터 찾기\n",
        "        right -= 1\n",
        "      if left > right: #left가 right보다 커져 엇갈렸다면 작은데이터의 위치와 pivot을 교체\n",
        "        array[right], array[pivot] = array[pivot], array[right] #엇갈리려면 좌측에는 모두 pivot보다 작은 값이, 오른쪽에는 모두 pivot보다 큰 값이 있어야 함. pivot을 중심에 넣는다.)\n",
        "      else:\n",
        "        array[left], array[right] = array[right], array[left] #엇갈리지 않았다면 작은 데이터와 큰 데이터를 교체\n",
        "      print(array)\n",
        "    quick_sort(array, start, right -1)\n",
        "    quick_sort(array, right+1, end)\n",
        "  \n",
        "  quick_sort(array,0,len(array)-1)\n",
        "  print(array)\n",
        "\n",
        "  end_time = time.time()\n",
        "  print(\"time :\", end_time - start_time)"
      ],
      "metadata": {
        "id": "ylcQKqu5XAKR"
      },
      "execution_count": null,
      "outputs": []
    },
    {
      "cell_type": "code",
      "source": [
        "import time\n",
        "start_time = time.time()\n",
        "\n",
        "#파이썬 list comprehension 활용 quick sort\n",
        "array = [5, 7, 9, 0, 3, 1, 6, 2, 4, 8]\n",
        "\n",
        "def quick_sort(array):\n",
        "  if len(array) <= 1:\n",
        "    return array\n",
        "  pivot = array[0]\n",
        "  left = [i for i in array if i < pivot]\n",
        "  right = [i for i in array if i > pivot]\n",
        "  return quick_sort(left) + [pivot] + quick_sort(right)\n",
        "\n",
        "quick_sort(array)\n",
        "\n",
        "end_time = time.time()\n",
        "print(\"time :\", end_time - start_time)"
      ],
      "metadata": {
        "id": "yml1CRwjbgkU"
      },
      "execution_count": null,
      "outputs": []
    },
    {
      "cell_type": "markdown",
      "source": [
        "##**계수 정렬(Count Sort)**\n",
        "\n",
        "---\n",
        "**O(N+k)** 데이터가 정수일 경우에만 사용 가능. 최소값~최대값 사이의 수를 모두 리스트로 저장한 후 데이터를 돌면서 원소가 나온 횟수를 카운트한다. 공간 복잡도의 측면에서 데이터 간의 값 편차가 클 경우 비효율적이게 되기에 *'데이터의 크기가 한정되어 있고'*, *'데이터의 크기가 많이 중복되어 있을수록'* 효율적이다.\n"
      ],
      "metadata": {
        "id": "QbgFyEAod5vI"
      }
    },
    {
      "cell_type": "code",
      "source": [
        "array = [7, 5, 9, 0, 3, 1, 6, 2, 9, 1, 4, 8, 0, 5, 2]\n",
        "\n",
        "count = [0]*(max(array)+1)\n",
        "\n",
        "for i in range(len(array)):\n",
        "  count[array[i]] += 1\n",
        "\n",
        "for i in range(len(count)):\n",
        "  for j in range(count[i]):\n",
        "    print(i, end=' ')"
      ],
      "metadata": {
        "id": "8HMmRewEd9mH"
      },
      "execution_count": null,
      "outputs": []
    },
    {
      "cell_type": "markdown",
      "source": [
        "##**위에서 아래로**\n",
        "\n",
        "---\n",
        "\n"
      ],
      "metadata": {
        "id": "iMOkkNmZjUmF"
      }
    },
    {
      "cell_type": "code",
      "source": [
        "N = int(input())\n",
        "array = []\n",
        "for i in range(N):\n",
        "  array.append(int(input()))\n",
        "\n",
        "print(' '.join(map(str,sorted(array, reverse = True))))"
      ],
      "metadata": {
        "id": "pQrsc6iAjX_K"
      },
      "execution_count": null,
      "outputs": []
    },
    {
      "cell_type": "markdown",
      "source": [
        "## **성적이 낮은 순서로 학생 출력하기**\n",
        "\n",
        "---\n",
        "\n"
      ],
      "metadata": {
        "id": "ZNCBvEz9ld-B"
      }
    },
    {
      "cell_type": "code",
      "source": [
        "N = int(input())\n",
        "dic = {}\n",
        "for i in range(N):\n",
        "  name, score = map(str, input().split())\n",
        "  dic[name] = int(score)\n",
        "print(' '.join([i[0] for i in sorted(dic.items(), key = lambda x: x[1])]))"
      ],
      "metadata": {
        "id": "VuEwzPGClg9T"
      },
      "execution_count": null,
      "outputs": []
    },
    {
      "cell_type": "markdown",
      "source": [
        "## **두 배열의 원소 교체**\n",
        "\n",
        "---\n",
        "\n"
      ],
      "metadata": {
        "id": "CeiXQDD0ng4J"
      }
    },
    {
      "cell_type": "code",
      "source": [
        "N, K = map(int,input().split())\n",
        "array_A = sorted(list(map(int,input().split())),reverse=True)\n",
        "array_B = sorted(list(map(int,input().split())))\n",
        "\n",
        "for i in range(K):\n",
        "  array_A.pop()\n",
        "  array_A.insert(0,(array_B.pop()))\n",
        "print(sum(array_A))"
      ],
      "metadata": {
        "id": "EgFbvdzznnl_"
      },
      "execution_count": null,
      "outputs": []
    },
    {
      "cell_type": "markdown",
      "source": [
        "# **■이진 탐색**"
      ],
      "metadata": {
        "id": "in9mOaOercox"
      }
    },
    {
      "cell_type": "markdown",
      "source": [
        "##**순차 탐색(Sequential Search)**\n",
        "\n",
        "---\n",
        "\n"
      ],
      "metadata": {
        "id": "5FodO-7CrkT4"
      }
    },
    {
      "cell_type": "code",
      "source": [
        "def sequential_search(target, array):\n",
        "  for i in range(len(array)):\n",
        "    if array[i] == target:\n",
        "      return i + 1\n",
        "array = ['Hanul', 'Jonggu', 'Dongbin', 'Taeil', 'Sangwook']\n",
        "target = 'Dongbin'\n",
        "\n",
        "print(sequential_search(target, array))"
      ],
      "metadata": {
        "id": "SvKlw3pOrrTe"
      },
      "execution_count": null,
      "outputs": []
    },
    {
      "cell_type": "markdown",
      "source": [
        "## **이진 탐색(Binary Search)**\n",
        "\n",
        "\n",
        "---\n",
        "\n"
      ],
      "metadata": {
        "id": "hwpZK74osu0Z"
      }
    },
    {
      "cell_type": "code",
      "source": [
        "def binary_search(array, target, start, end):\n",
        "  if start > end:\n",
        "    return None\n",
        "  mid = (start + end) // 2\n",
        "  if target < array[mid]:\n",
        "    return binary_search(array, target, start, mid - 1)\n",
        "  elif target > array[mid]:\n",
        "    return binary_search(array, target, mid+1, end)\n",
        "  elif target == array[mid]:\n",
        "    return mid\n",
        "\n",
        "print(binary_search([0,2,4,6,8,10,12,14,16,18], 4, 0, 9))"
      ],
      "metadata": {
        "id": "6mnlBByLs07L"
      },
      "execution_count": null,
      "outputs": []
    },
    {
      "cell_type": "markdown",
      "source": [
        "## **부품 찾기**\n",
        "\n",
        "---\n",
        "\n"
      ],
      "metadata": {
        "id": "e3oYxl27xoTF"
      }
    },
    {
      "cell_type": "code",
      "source": [
        "N = int(input())\n",
        "N_list = sorted(list(map(int,input().split())))\n",
        "M = int(input())\n",
        "M_list = sorted(list(map(int,input().split())))\n",
        "\n",
        "def binary_search_BottomUp(array, target, start, end):\n",
        "  while start <= end:\n",
        "    mid = (start + end) // 2\n",
        "    if array[mid] == target:\n",
        "      return mid\n",
        "    elif target < array[mid]:\n",
        "      end = mid - 1\n",
        "    else:\n",
        "      start = mid + 1\n",
        "  return None\n",
        "\n",
        "for i in M_list:\n",
        "  result = binary_search_BottomUp(N_list, i, 0, len(N_list)-1)\n",
        "  if result != None:\n",
        "    print('yes', end=' ')\n",
        "  else:\n",
        "    print('no', end=' ')"
      ],
      "metadata": {
        "id": "xkQEYJ7gxmsA"
      },
      "execution_count": null,
      "outputs": []
    },
    {
      "cell_type": "markdown",
      "source": [
        "## **떡볶이 떡 만들기**\n",
        "\n",
        "\n",
        "---\n"
      ],
      "metadata": {
        "id": "LTKmUM8d5Wz2"
      }
    },
    {
      "cell_type": "code",
      "source": [
        "N, M = map(int,input().split())\n",
        "height = list(map(int, input().split()))\n",
        "\n",
        "start = 0\n",
        "end = max(height)\n",
        "\n",
        "\n",
        "result = 0\n",
        "while(start <= end):\n",
        "  total = 0\n",
        "  mid = (start+end) // 2\n",
        "  for i in height:\n",
        "    if i > mid:\n",
        "      total += i - mid\n",
        "  \n",
        "  if total < M:\n",
        "    end = mid -1\n",
        "  else:\n",
        "    result = mid\n",
        "    start = mid + 1\n",
        "\n",
        "print(result)"
      ],
      "metadata": {
        "id": "tRayItcY42lT"
      },
      "execution_count": null,
      "outputs": []
    },
    {
      "cell_type": "markdown",
      "source": [
        "# **■다이나믹 프로그래밍**"
      ],
      "metadata": {
        "id": "rsgZaOAxknh4"
      }
    },
    {
      "cell_type": "markdown",
      "source": [
        "##**피보나치 수열(재귀적)**\n",
        "\n",
        "---\n",
        "\n"
      ],
      "metadata": {
        "id": "TgGDdmkJkpEy"
      }
    },
    {
      "cell_type": "code",
      "source": [
        "import time\n",
        "start_time = time.time()\n",
        "\n",
        "d = [0]*100 #Memoization\n",
        "\n",
        "def fibo(x): #recursive. Top-down dynamic programming\n",
        "  if x == 1 or x == 2 :\n",
        "    return 1\n",
        "  \n",
        "  if d[x] != 0:\n",
        "    return d[x]\n",
        "  \n",
        "  d[x] = fibo(x-1) + fibo(x-2)\n",
        "  return d[x]\n",
        "\n",
        "print(fibo(99))\n",
        "\n",
        "end_time = time.time()\n",
        "print(\"time :\", end_time - start_time)"
      ],
      "metadata": {
        "id": "EJYTjITrmM9r"
      },
      "execution_count": null,
      "outputs": []
    },
    {
      "cell_type": "markdown",
      "source": [
        "## **피보나치 수열(반복적)**\n",
        "\n",
        "---\n",
        "\n"
      ],
      "metadata": {
        "id": "GaI5eqyMmKHF"
      }
    },
    {
      "cell_type": "code",
      "source": [
        "import time\n",
        "start_time = time.time()\n",
        "\n",
        "d = [0]*100 #BottomUp 방식의 결과 저장용 list => DP 테이블\n",
        "\n",
        "d[1] = 1\n",
        "d[2] = 1\n",
        "n = 99\n",
        "for i in range(3, n+1):\n",
        "  d[i] = d[i-1] + d[i-2]\n",
        "\n",
        "print(d[n])\n",
        "\n",
        "end_time = time.time()\n",
        "print(\"time :\", end_time - start_time)"
      ],
      "metadata": {
        "id": "953Q5y-Ym6c8"
      },
      "execution_count": null,
      "outputs": []
    },
    {
      "cell_type": "markdown",
      "source": [
        "##**1로 만들기**\n",
        "\n",
        "---\n",
        "\n"
      ],
      "metadata": {
        "id": "31mst0-qoHgW"
      }
    },
    {
      "cell_type": "code",
      "source": [
        "n = int(input())\n",
        "d = [0] * (n+1)\n",
        "for i in range(2, n+1):\n",
        "  d[i] = d[i-1] + 1\n",
        "  if i % 2 == 0:\n",
        "    d[i] = min(d[i], d[i // 2] + 1)\n",
        "  if i % 3 == 0:\n",
        "    d[i] = min(d[i], d[i // 3] + 1)\n",
        "  if i % 5 == 0:\n",
        "    d[i] = min(d[i], d[i // 5] + 1)\n",
        "print(d[n])"
      ],
      "metadata": {
        "id": "AOtSRb-voKsI"
      },
      "execution_count": null,
      "outputs": []
    },
    {
      "cell_type": "markdown",
      "source": [
        "##**개미 전사**\n",
        "\n",
        "---\n",
        "\n"
      ],
      "metadata": {
        "id": "wDmDBzblvZ1E"
      }
    },
    {
      "cell_type": "code",
      "source": [
        "N = int(input())\n",
        "K = list(map(int,input().split()))\n",
        "K.insert(0, 0)\n",
        "d = [0] * (N+1)\n",
        "d[1] = K[1]\n",
        "for i in range(2, N+1):\n",
        "  d[i] = max(d[i-2] + K[i], d[i-1])\n",
        "print(d[N])"
      ],
      "metadata": {
        "id": "D9ytFtiTvcj3"
      },
      "execution_count": null,
      "outputs": []
    },
    {
      "cell_type": "markdown",
      "source": [
        "##**바닥 공사**\n",
        "\n",
        "---\n",
        "\n"
      ],
      "metadata": {
        "id": "mP1LgMz7yxYW"
      }
    },
    {
      "cell_type": "code",
      "source": [
        "N = int(input())\n",
        "d = [0] * (N+1)\n",
        "d[1] = 1\n",
        "d[2] = 3\n",
        "for i in range(3, N+1):\n",
        "  d[i] = (d[i-2] * 2) + d[i-1]\n",
        "print(d[N]%796796)"
      ],
      "metadata": {
        "id": "mvkvgym3yu7Q"
      },
      "execution_count": null,
      "outputs": []
    },
    {
      "cell_type": "markdown",
      "source": [
        "##**효율적인 화폐 구성**\n",
        "\n",
        "---\n",
        "\n"
      ],
      "metadata": {
        "id": "bFwliVOm3abC"
      }
    },
    {
      "cell_type": "code",
      "source": [
        "N, M = map(int,input().split())\n",
        "money_list = []\n",
        "for i in range(N):\n",
        "  money_list.append(int(input()))\n",
        "d = [10001] * (M+1)\n",
        "d[0] = 0\n",
        "for i in sorted(money_list):\n",
        "  if M>=i:\n",
        "    d[i] = 1\n",
        "  for k in range(M+1-i):\n",
        "    d[k+i] = min(d[k+i],d[k]+1)\n",
        "if d[M] != 10001:\n",
        "  print(d[M])\n",
        "else:\n",
        "  print(-1)"
      ],
      "metadata": {
        "id": "929pTreJ3dW4"
      },
      "execution_count": null,
      "outputs": []
    },
    {
      "cell_type": "markdown",
      "source": [
        "#**■최단 경로**\n",
        "\n"
      ],
      "metadata": {
        "id": "KKCHDrhNEY6h"
      }
    },
    {
      "cell_type": "markdown",
      "source": [
        "##**다익스트라 경로 탐색**\n",
        "\n",
        "---\n",
        "\n"
      ],
      "metadata": {
        "id": "Kl-0DKhUEZOb"
      }
    },
    {
      "cell_type": "code",
      "source": [
        "#input\n",
        "n, m = 6, 11\n",
        "start = 1\n",
        "graph= [\n",
        "    [],\n",
        "    [(2,2),(3,5),(4,1)],\n",
        "    [(3,3),(4,2)],\n",
        "    [(2,3),(6,5)],\n",
        "    [(3,3),(5,1)],\n",
        "    [(3,1),(6,2)],\n",
        "    []\n",
        "]\n",
        "\n",
        "\n",
        "INF = int(1e9)\n",
        "visited = [False]*(n+1)\n",
        "distance = [INF]*(n+1)\n",
        "\n",
        "def get_smallest_node():\n",
        "  min_value = INF\n",
        "  index = 0\n",
        "  for i in range(1,n+1):\n",
        "    if distance[i] < min_value and not visited[i]:\n",
        "      min_value = distance[i]\n",
        "      index = i\n",
        "  return index\n",
        "\n",
        "def dijkstra(start):\n",
        "  distance[start] = 0\n",
        "  visited[start] = True\n",
        "  for j in graph[start]:\n",
        "    distance[j[0]] = j[1]\n",
        "  for i in range(n-1):\n",
        "    temp = get_smallest_node()\n",
        "    visited[temp] = True\n",
        "    for p in graph[temp]:\n",
        "      if p[1] + distance[temp] < distance[p[0]]:\n",
        "        distance[p[0]] = p[1] + distance[temp]\n",
        "\n",
        "dijkstra(start)\n",
        "\n",
        "for i in range(1,n+1):\n",
        "  print(distance[i])"
      ],
      "metadata": {
        "colab": {
          "base_uri": "https://localhost:8080/"
        },
        "id": "3eMCNNn5EZkr",
        "outputId": "b108f10c-b893-4847-c37f-985ae202a3ab"
      },
      "execution_count": null,
      "outputs": [
        {
          "output_type": "stream",
          "name": "stdout",
          "text": [
            "0\n",
            "2\n",
            "3\n",
            "1\n",
            "2\n",
            "4\n"
          ]
        }
      ]
    },
    {
      "cell_type": "code",
      "source": [
        "#optimized version with priority queue and heap\n",
        "\n",
        "n, m = 6, 11\n",
        "start = 1\n",
        "graph= [\n",
        "    [],\n",
        "    [(2,2),(3,5),(4,1)],\n",
        "    [(3,3),(4,2)],\n",
        "    [(2,3),(6,5)],\n",
        "    [(3,3),(5,1)],\n",
        "    [(3,1),(6,2)],\n",
        "    []\n",
        "]\n",
        "\n",
        "INF = int(1e9)\n",
        "distance = [INF] *(n+1)\n",
        "\n",
        "import heapq\n",
        "def optimized_dijkstra(start):\n",
        "  q = []\n",
        "  heapq.heappush(q, (0, start))\n",
        "  distance[start] = 0\n",
        "  while q:\n",
        "    dist, indx = heapq.heappop(q)\n",
        "    if distance[indx] < dist:\n",
        "      continue\n",
        "    for i in graph[indx]:\n",
        "      cost = dist + i[1]\n",
        "      if cost < distance[i[0]]:\n",
        "        distance[i[0]] = cost\n",
        "        heapq.heappush(q,(cost,i[0]))\n",
        "\n",
        "\n",
        "optimized_dijkstra(start)\n",
        "\n",
        "for i in range(1,n+1):\n",
        "  print(distance[i])"
      ],
      "metadata": {
        "colab": {
          "base_uri": "https://localhost:8080/"
        },
        "id": "0pbkhCkPFGnT",
        "outputId": "5ed16900-08cc-4cb6-c8f7-52af9ded2b77"
      },
      "execution_count": null,
      "outputs": [
        {
          "output_type": "stream",
          "name": "stdout",
          "text": [
            "0\n",
            "2\n",
            "3\n",
            "1\n",
            "2\n",
            "4\n"
          ]
        }
      ]
    },
    {
      "cell_type": "markdown",
      "source": [
        "## **플로이드 워셜 알고리즘**\n",
        "\n",
        "---\n",
        "\n"
      ],
      "metadata": {
        "id": "9ClMUfcMK7Ao"
      }
    },
    {
      "cell_type": "code",
      "source": [
        "INF = int(1e9)\n",
        "\n",
        "#input\n",
        "n , m = 4, 7\n",
        "graph = [[INF]*(n+1) for i in range(n+1)]\n",
        "for a in range(1,n+1):\n",
        "  for b in range(1,n+1):\n",
        "    if a==b:\n",
        "      graph[a][b] = 0\n",
        "\n",
        "graph[1][2] = 4\n",
        "graph[1][4] = 6\n",
        "graph[2][1] = 3\n",
        "graph[2][3] = 7\n",
        "graph[3][1] = 5\n",
        "graph[3][4] = 4\n",
        "graph[4][3] = 2\n",
        "\n",
        "for k in range(1, n+1):\n",
        "  for a in range(1,n+1):\n",
        "    for b in range(1,n+1):\n",
        "      graph[a][b] = min(graph[a][b] , graph[a][k] + graph[k][b])\n",
        "\n",
        "for a in range(1,n+1):\n",
        "  for b in range(1,n+1):\n",
        "    print(graph[a][b], end= ' ')\n",
        "  print()"
      ],
      "metadata": {
        "colab": {
          "base_uri": "https://localhost:8080/"
        },
        "id": "ny7S79keK_RV",
        "outputId": "0b632bf4-d040-4f43-84b2-b071eeff8d71"
      },
      "execution_count": null,
      "outputs": [
        {
          "output_type": "stream",
          "name": "stdout",
          "text": [
            "0 4 8 6 \n",
            "3 0 7 9 \n",
            "5 9 0 4 \n",
            "7 11 2 0 \n"
          ]
        }
      ]
    },
    {
      "cell_type": "markdown",
      "source": [
        "##**미래 도시**\n",
        "---\n",
        "\n"
      ],
      "metadata": {
        "id": "wrP-aY-uMhCq"
      }
    },
    {
      "cell_type": "code",
      "source": [
        "#input\n",
        "N, M = 5, 7\n",
        "INF = int(1e9)\n",
        "graph = [[INF]*(N+1) for _ in range(N+1)]\n",
        "graph[1][2] = 1\n",
        "graph[2][1] = 1\n",
        "graph[1][3] = 1\n",
        "graph[3][1] = 1\n",
        "graph[1][4] = 1\n",
        "graph[4][1] = 1\n",
        "graph[2][4] = 1\n",
        "graph[4][2] = 1\n",
        "graph[3][4] = 1\n",
        "graph[4][3] = 1\n",
        "graph[3][5] = 1\n",
        "graph[5][3] = 1\n",
        "graph[4][5] = 1\n",
        "graph[5][4] = 1\n",
        "\n",
        "X, K = map(int,input().split())\n",
        "\n",
        "for k in range(1,N+1):\n",
        "  for a in range(1,N+1):\n",
        "    for b in range(1,N+1):\n",
        "      graph[a][b] = min(graph[a][b], graph[a][k] + graph[k][b])\n",
        "answer =  graph[1][K] + graph[K][X]\n",
        "if answer < INF:\n",
        "  print(answer)\n",
        "else:\n",
        "  print(-1)"
      ],
      "metadata": {
        "colab": {
          "base_uri": "https://localhost:8080/"
        },
        "id": "wiNYQ2_MMjjx",
        "outputId": "0c1abfe7-3be2-4225-ed98-0ea688899a43"
      },
      "execution_count": null,
      "outputs": [
        {
          "output_type": "stream",
          "name": "stdout",
          "text": [
            "0 1\n",
            "-1\n"
          ]
        }
      ]
    },
    {
      "cell_type": "markdown",
      "source": [
        "##**전보**\n",
        "\n",
        "---\n",
        "\n"
      ],
      "metadata": {
        "id": "2Gj1oSdoV1Ej"
      }
    },
    {
      "cell_type": "code",
      "source": [
        "import heapq\n",
        "#input\n",
        "N, M, C = 3, 2, 1\n",
        "graph = [[],\n",
        "         [(2,4),(3,2)],\n",
        "         [],\n",
        "         []\n",
        "]\n",
        "INF = int(1e9)\n",
        "q = []\n",
        "distance = [INF]*(N+1)\n",
        "start = 1\n",
        "distance[start] = 0\n",
        "heapq.heappush(q,(start,0))\n",
        "while q:\n",
        "  index, dist = heapq.heappop(q)\n",
        "  if dist > distance[index]:\n",
        "    continue\n",
        "  for i in graph[index]:\n",
        "    cost = i[1] + distance[index]\n",
        "    if cost < distance[i[0]]:\n",
        "      distance[i[0]] = cost\n",
        "      heapq.heappush(q,(i[0], cost))\n",
        "\n",
        "count = 0\n",
        "max_time = 0\n",
        "for i in distance:\n",
        "  if 0< i and i < INF:\n",
        "    count+=1\n",
        "    max_time=max(max_time, i)\n",
        "\n",
        "print(count, max_time)"
      ],
      "metadata": {
        "colab": {
          "base_uri": "https://localhost:8080/"
        },
        "id": "fVDxfP2iV4ux",
        "outputId": "3983c553-d11d-412c-b999-23e866ff7b29"
      },
      "execution_count": null,
      "outputs": [
        {
          "output_type": "stream",
          "name": "stdout",
          "text": [
            "2 4\n"
          ]
        }
      ]
    },
    {
      "cell_type": "markdown",
      "source": [
        "#**■그래프 이론**"
      ],
      "metadata": {
        "id": "S4UKLTBDMZFN"
      }
    },
    {
      "cell_type": "markdown",
      "source": [
        "##**서로소 집합**\n",
        "\n",
        "---\n",
        "\n"
      ],
      "metadata": {
        "id": "5X7aJ3KueMUp"
      }
    },
    {
      "cell_type": "code",
      "source": [
        "import pandas as pd\n",
        "\n",
        "'''\n",
        "def find_parent(parent,x):\n",
        "  if parent[x] != x:\n",
        "    return find_parent(parent, parent[x])\n",
        "  return x\n",
        "'''\n",
        "\n",
        "#경로 압축 기법 적용\n",
        "def find_parent(parent, x):\n",
        "  if parent[x] != x:\n",
        "    parent[x] = find_parent(parent, parent[x])\n",
        "  return parent[x]\n",
        "\n",
        "def union_parent(parent, a, b):\n",
        "  a = find_parent(parent, a)\n",
        "  b = find_parent(parent, b)\n",
        "  if a < b:\n",
        "    parent[b] = a\n",
        "  else:\n",
        "    parent[a] = b\n",
        "v, e = map(int,input().split())\n",
        "parent = [0] * (v+1)\n",
        "\n",
        "for i in range(1,v+1):\n",
        "  parent[i] = i\n",
        "\n",
        "for i in range(e):\n",
        "  a, b= map(int,input().split())\n",
        "  union_parent(parent,a,b)\n",
        "belong = []\n",
        "for i in range(1, v + 1):\n",
        "  belong.append(find_parent(parent,i))\n",
        "parent.pop(0)\n",
        "elements = [i for i in range(1, v+1)]\n",
        "a = pd.DataFrame({'elements': elements,'parent': parent,'belong': belong}).transpose()\n",
        "print(a)"
      ],
      "metadata": {
        "colab": {
          "base_uri": "https://localhost:8080/"
        },
        "id": "qpWnGwDTVoHi",
        "outputId": "77f2134b-3d05-4933-c63b-fff9d5c0a8c7"
      },
      "execution_count": null,
      "outputs": [
        {
          "output_type": "stream",
          "name": "stdout",
          "text": [
            "6 4\n",
            "1 4\n",
            "2 3\n",
            "2 4\n",
            "5 6\n",
            "          0  1  2  3  4  5\n",
            "elements  1  2  3  4  5  6\n",
            "parent    1  1  2  1  5  5\n",
            "belong    1  1  1  1  5  5\n"
          ]
        }
      ]
    },
    {
      "cell_type": "code",
      "source": [
        "#무향 그래프 cycle 판별\n",
        "def find_parent(parent, x):\n",
        "  if parent[x] != x:\n",
        "    parent[x] = find_parent(parent, parent[x])\n",
        "  return parent[x]\n",
        "\n",
        "def union_parent(parent, a, b):\n",
        "  a = find_parent(parent, a)\n",
        "  b = find_parent(parent, b)\n",
        "  if a < b:\n",
        "    parent[b] = a\n",
        "  else:\n",
        "    parent[a] = b\n",
        "\n",
        "v, e =map(int,input().split())\n",
        "parent = [0] * (v+1)\n",
        "for i in range(1, v+1):\n",
        "  parent[i] = i\n",
        "\n",
        "cycle = False\n",
        "\n",
        "for i in range(e):\n",
        "  a, b = map(int,input().split())\n",
        "  if find_parent(parent, a) == find_parent(parent, b):\n",
        "    cycle = True\n",
        "    break\n",
        "  else:\n",
        "    union_parent(parent, a,b)\n",
        "\n",
        "if cycle:\n",
        "  print('Cycle occured')\n",
        "else:\n",
        "  print('Cycle didn\\'t occur')"
      ],
      "metadata": {
        "colab": {
          "base_uri": "https://localhost:8080/"
        },
        "id": "uYDpz8Uj0AyH",
        "outputId": "0d726943-6aa0-4bfa-8e33-c009683c72a2"
      },
      "execution_count": null,
      "outputs": [
        {
          "output_type": "stream",
          "name": "stdout",
          "text": [
            "3 3\n",
            "1 2\n",
            "1 3\n",
            "2 3\n",
            "Cycle occured\n"
          ]
        }
      ]
    },
    {
      "cell_type": "markdown",
      "source": [
        "##**신장 트리(Spanning Tree)**\n",
        "\n",
        "---\n",
        "\n",
        "Spanning Tree: 하나의 그래프가 있을 때, 모든 노드를 포함하면서 사이클이 존재하지 않는 부분 그래프"
      ],
      "metadata": {
        "id": "zPZTOI_F1wnQ"
      }
    },
    {
      "cell_type": "code",
      "source": [
        "#크루스칼 알고리즘(그리디 형식의 최소 신장 트리 알고리즘)\n",
        "def find_parent(parent, x):\n",
        "  if parent[x] != x:\n",
        "    parent[x] = find_parent(parent, parent[x])\n",
        "  return parent[x]\n",
        "\n",
        "def union_parent(parent, a, b):\n",
        "  a = find_parent(parent, a)\n",
        "  b = find_parent(parent, b)\n",
        "  if a < b:\n",
        "    parent[b] = a\n",
        "  else:\n",
        "    parent[a] = b\n",
        "\n",
        "v, e = map(int,input().split())\n",
        "parent = [0] * (v+1)\n",
        "\n",
        "for i in range(1, (v+1)):\n",
        "  parent[i] = i\n",
        "\n",
        "edges=[]\n",
        "for i in range(e):\n",
        "  f, s, cost = map(int,input().split())\n",
        "  edges.append([f,s,cost])\n",
        "edges.sort(key = lambda x: x[2])\n",
        "result = 0\n",
        "for i in edges:\n",
        "  if find_parent(parent, i[0]) != find_parent(parent, i[1]):\n",
        "    union_parent(parent, i[0], i[1])\n",
        "    result += i[2]\n",
        "\n",
        "print(result)"
      ],
      "metadata": {
        "colab": {
          "base_uri": "https://localhost:8080/"
        },
        "id": "mOViOx_j1yiy",
        "outputId": "7f253ab5-396c-4205-c07f-b3353c1affeb"
      },
      "execution_count": null,
      "outputs": [
        {
          "output_type": "stream",
          "name": "stdout",
          "text": [
            "7 9\n",
            "1 2 29\n",
            "1 5 75\n",
            "2 3 35\n",
            "2 6 34\n",
            "3 4 7\n",
            "4 6 23\n",
            "4 7 13\n",
            "5 6 53\n",
            "6 7 25\n",
            "159\n"
          ]
        }
      ]
    },
    {
      "cell_type": "markdown",
      "source": [
        "##**위상 정렬(Topology Sort)**\n",
        "\n",
        "---\n",
        "\n"
      ],
      "metadata": {
        "id": "Eq5FTNKvBGRn"
      }
    },
    {
      "cell_type": "code",
      "source": [
        "import collections\n",
        "\n",
        "v, e = map(int, input().split())\n",
        "\n",
        "indegree= [0] * (v+1)\n",
        "\n",
        "graph = [ [] for i in range(v+1)]\n",
        "\n",
        "for _ in range(e):\n",
        "  a, b = map(int, input().split())\n",
        "  graph[a].append(b)\n",
        "  indegree[b] += 1\n",
        "\n",
        "def topology_sort():\n",
        "  result = []\n",
        "  q = collections.deque()\n",
        "\n",
        "  for i in range(1, v+1):\n",
        "    if indegree[i] == 0:\n",
        "      q.append(i)\n",
        "  while q:\n",
        "    index = q.popleft()\n",
        "    result.append(index)\n",
        "    for i in graph[index]:\n",
        "      indegree[i] -= 1\n",
        "      if indegree[i] == 0:\n",
        "        q.append(i)\n",
        "  return result\n",
        "\n",
        "result = topology_sort()\n",
        "result"
      ],
      "metadata": {
        "colab": {
          "base_uri": "https://localhost:8080/"
        },
        "id": "HWEnGDuNBoIH",
        "outputId": "b69bfaa1-de40-4565-99ce-237489da68f2"
      },
      "execution_count": null,
      "outputs": [
        {
          "name": "stdout",
          "output_type": "stream",
          "text": [
            "7 8\n",
            "1 2\n",
            "1 5\n",
            "2 3\n",
            "2 6\n",
            "3 4\n",
            "4 7\n",
            "5 6\n",
            "6 4\n"
          ]
        },
        {
          "output_type": "execute_result",
          "data": {
            "text/plain": [
              "[1, 2, 5, 3, 6, 4, 7]"
            ]
          },
          "metadata": {},
          "execution_count": 19
        }
      ]
    },
    {
      "cell_type": "markdown",
      "source": [
        "##**팀 결성**\n",
        "\n",
        "---\n",
        "\n"
      ],
      "metadata": {
        "id": "fF-KzcDqEM1o"
      }
    },
    {
      "cell_type": "code",
      "source": [
        "N, M = map(int, input().split())\n",
        "def find_parent(parent, x):\n",
        "  if parent[x] != x:\n",
        "    parent[x] = find_parent(parent, parent[x])\n",
        "  return parent[x]\n",
        "\n",
        "def union_parent(parent, a, b):\n",
        "  a = find_parent(parent, a)\n",
        "  b = find_parent(parent, b)\n",
        "  if a < b:\n",
        "    parent[b] = a\n",
        "  else:\n",
        "    parent[a] = b\n",
        "\n",
        "parent = [0] * (N+1)\n",
        "for i in range(N+1):\n",
        "  parent[i] = i\n",
        "for _ in range(M):\n",
        "  cal, t1, t2 = map(int,input().split())\n",
        "  if cal == 0:\n",
        "    union_parent(parent, t1, t2)\n",
        "  else:\n",
        "    if find_parent(parent,t1) == find_parent(parent,t2):\n",
        "      print('YES')\n",
        "    else:\n",
        "      print('NO')\n"
      ],
      "metadata": {
        "colab": {
          "base_uri": "https://localhost:8080/"
        },
        "id": "YVRssyb6ET37",
        "outputId": "c5fca232-7df8-40d7-8abe-f8f915c52649"
      },
      "execution_count": null,
      "outputs": [
        {
          "output_type": "stream",
          "name": "stdout",
          "text": [
            "7 8\n",
            "0 1 3\n",
            "1 1 7\n",
            "NO\n",
            "0 7 6\n",
            "1 7 1\n",
            "NO\n",
            "0 3 7\n",
            "0 4 2\n",
            "0 1 1\n",
            "1 1 1\n",
            "YES\n"
          ]
        }
      ]
    },
    {
      "cell_type": "markdown",
      "source": [
        "##**도시 분할 계획**\n",
        "\n",
        "---\n",
        "\n"
      ],
      "metadata": {
        "id": "yyn2HJSeHSd6"
      }
    },
    {
      "cell_type": "code",
      "source": [
        "N, M = map(int, input().split())\n",
        "def find_parent(parent, x):\n",
        "  if parent[x] != x:\n",
        "    parent[x] = find_parent(parent, parent[x])\n",
        "  return parent[x]\n",
        "\n",
        "def union_parent(parent, a, b):\n",
        "  a = find_parent(parent, a)\n",
        "  b = find_parent(parent, b)\n",
        "  if a < b:\n",
        "    parent[b] = a\n",
        "  else:\n",
        "    parent[a] = b\n",
        "\n",
        "parent = [0] * (N+1)\n",
        "for i in range(1, N+1):\n",
        "  parent[i] = i\n",
        "  \n",
        "edges = []\n",
        "for i in range(M):\n",
        "  i1, i2, cost = map(int,input().split())\n",
        "  edges.append([cost, i1, i2])\n",
        "edges.sort()\n",
        "result = 0\n",
        "for i in edges:\n",
        "  if find_parent(parent, i[1]) != find_parent(parent, i[2]):\n",
        "    union_parent(parent, i[1], i[2])\n",
        "    result += i[0]\n",
        "    largest_cost = i[0]\n",
        "\n",
        "print(result - largest_cost)\n",
        "\n"
      ],
      "metadata": {
        "colab": {
          "base_uri": "https://localhost:8080/"
        },
        "id": "uUfMsvS3HSjW",
        "outputId": "36ed8985-e06a-4f40-c468-9823083604ee"
      },
      "execution_count": null,
      "outputs": [
        {
          "output_type": "stream",
          "name": "stdout",
          "text": [
            "7 12\n",
            "1 2 3\n",
            "1 3 2\n",
            "3 2 1\n",
            "2 5 2\n",
            "3 4 4\n",
            "7 3 6\n",
            "5 1 5\n",
            "1 6 2\n",
            "6 4 1\n",
            "6 5 3\n",
            "4 5 3\n",
            "6 7 4\n",
            "8\n"
          ]
        }
      ]
    },
    {
      "cell_type": "markdown",
      "source": [
        "##**커리큘럼**\n",
        "\n",
        "---"
      ],
      "metadata": {
        "id": "sxZ8CryLO4rv"
      }
    },
    {
      "cell_type": "code",
      "source": [
        "from collections import deque\n",
        "import copy\n",
        "\n",
        "N = int(input())\n",
        "\n",
        "graph = [[] for i in range(N+1)]\n",
        "indegree = [0] * (N+1)\n",
        "time = [0]*(N+1)\n",
        "for i in range(1,N+1):\n",
        "  data = list(map(int,input().split()))\n",
        "  time[i] = data[0]\n",
        "  for x in data[1:-1]:\n",
        "    indegree[i] += 1\n",
        "    graph[x].append(i)\n",
        "\n",
        "def topology_sort():\n",
        "  q = deque()\n",
        "  result = copy.deepcopy(time)\n",
        "  for i in range(1, N+1):\n",
        "    if indegree[i] == 0:\n",
        "      q.append(i)\n",
        "  while q:\n",
        "    index = q.popleft()\n",
        "    print('index=', index)\n",
        "    for i in graph[index]:\n",
        "      result[i] = max(result[i], time[i] + result[index])\n",
        "      indegree[i] -= 1\n",
        "      if indegree[i] == 0:\n",
        "        q.append(i)\n",
        "  \n",
        "  return(result)\n",
        "topology_sort()"
      ],
      "metadata": {
        "colab": {
          "base_uri": "https://localhost:8080/"
        },
        "id": "lGHwjc6fO6VP",
        "outputId": "ac4ff57a-07f2-4e8a-e258-f93ce21223bc"
      },
      "execution_count": null,
      "outputs": [
        {
          "output_type": "stream",
          "name": "stdout",
          "text": [
            "5\n",
            "10 1\n",
            "10 1 1\n",
            "4 1 1\n",
            "4 3 1 1\n",
            "3 3 1\n",
            "index= 1\n",
            "index= 2\n",
            "index= 3\n",
            "index= 4\n",
            "index= 5\n"
          ]
        },
        {
          "output_type": "execute_result",
          "data": {
            "text/plain": [
              "[0, 10, 20, 14, 18, 17]"
            ]
          },
          "metadata": {},
          "execution_count": 24
        }
      ]
    }
  ]
}