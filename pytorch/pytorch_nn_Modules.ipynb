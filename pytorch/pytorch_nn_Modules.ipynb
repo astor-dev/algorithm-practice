{
  "nbformat": 4,
  "nbformat_minor": 0,
  "metadata": {
    "colab": {
      "provenance": [],
      "authorship_tag": "ABX9TyO96x5svh6yeD0xxbgtGngr",
      "include_colab_link": true
    },
    "kernelspec": {
      "name": "python3",
      "display_name": "Python 3"
    },
    "language_info": {
      "name": "python"
    }
  },
  "cells": [
    {
      "cell_type": "markdown",
      "metadata": {
        "id": "view-in-github",
        "colab_type": "text"
      },
      "source": [
        "<a href=\"https://colab.research.google.com/github/orangNLP/Algorithm_practice/blob/main/pytorch/pytorch_nn_Modules.ipynb\" target=\"_parent\"><img src=\"https://colab.research.google.com/assets/colab-badge.svg\" alt=\"Open In Colab\"/></a>"
      ]
    },
    {
      "cell_type": "markdown",
      "source": [
        "#**Run All Codes**"
      ],
      "metadata": {
        "id": "3yzLoYr2Wu_R"
      }
    },
    {
      "cell_type": "code",
      "execution_count": 1,
      "metadata": {
        "id": "JoykYtCjQ-Yk"
      },
      "outputs": [],
      "source": [
        "import torch\n",
        "import torch.nn as nn\n",
        "import torch.nn.functional as F\n",
        "import torch.optim as optim"
      ]
    },
    {
      "cell_type": "markdown",
      "source": [
        "##**Linear Regression**"
      ],
      "metadata": {
        "id": "J078PXP6Wx3R"
      }
    },
    {
      "cell_type": "code",
      "source": [
        "x_train = torch.FloatTensor([[1],[2],[3]])\n",
        "y_train = torch.FloatTensor([[2],[4],[6]])"
      ],
      "metadata": {
        "id": "kYHlAZTJReXo"
      },
      "execution_count": 2,
      "outputs": []
    },
    {
      "cell_type": "code",
      "source": [
        "x_train"
      ],
      "metadata": {
        "colab": {
          "base_uri": "https://localhost:8080/"
        },
        "id": "ZbnjJSaoRuta",
        "outputId": "29dac918-de3b-44c1-dc2a-b74aa6573f44"
      },
      "execution_count": 3,
      "outputs": [
        {
          "output_type": "execute_result",
          "data": {
            "text/plain": [
              "tensor([[1.],\n",
              "        [2.],\n",
              "        [3.]])"
            ]
          },
          "metadata": {},
          "execution_count": 3
        }
      ]
    },
    {
      "cell_type": "code",
      "source": [
        "W = torch.zeros(1, requires_grad =  True)\n",
        "W"
      ],
      "metadata": {
        "colab": {
          "base_uri": "https://localhost:8080/"
        },
        "id": "wAed1_B-RyXw",
        "outputId": "069ddc06-29ce-4ab6-9f8f-7802a8945f2f"
      },
      "execution_count": 4,
      "outputs": [
        {
          "output_type": "execute_result",
          "data": {
            "text/plain": [
              "tensor([0.], requires_grad=True)"
            ]
          },
          "metadata": {},
          "execution_count": 4
        }
      ]
    },
    {
      "cell_type": "code",
      "source": [
        "b = torch.zeros(1, requires_grad = True)\n",
        "b"
      ],
      "metadata": {
        "colab": {
          "base_uri": "https://localhost:8080/"
        },
        "id": "cTumqKuYR9OZ",
        "outputId": "5ae948d4-31f5-41e7-e718-9bce5972251e"
      },
      "execution_count": 5,
      "outputs": [
        {
          "output_type": "execute_result",
          "data": {
            "text/plain": [
              "tensor([0.], requires_grad=True)"
            ]
          },
          "metadata": {},
          "execution_count": 5
        }
      ]
    },
    {
      "cell_type": "code",
      "source": [
        "hypothesis = torch.matmul(x_train, W) + b\n",
        "hypothesis"
      ],
      "metadata": {
        "colab": {
          "base_uri": "https://localhost:8080/"
        },
        "id": "_Mcm0og8SPuC",
        "outputId": "66335d98-f3ab-4dac-e6a9-ad8c70eeb324"
      },
      "execution_count": 6,
      "outputs": [
        {
          "output_type": "execute_result",
          "data": {
            "text/plain": [
              "tensor([0., 0., 0.], grad_fn=<AddBackward0>)"
            ]
          },
          "metadata": {},
          "execution_count": 6
        }
      ]
    },
    {
      "cell_type": "code",
      "source": [
        "cost = torch.mean((hypothesis - y_train)**2)\n",
        "cost"
      ],
      "metadata": {
        "colab": {
          "base_uri": "https://localhost:8080/"
        },
        "id": "ozIkzf4SSWg2",
        "outputId": "7988ff43-9b91-4f84-b639-d226764f366c"
      },
      "execution_count": 7,
      "outputs": [
        {
          "output_type": "execute_result",
          "data": {
            "text/plain": [
              "tensor(18.6667, grad_fn=<MeanBackward0>)"
            ]
          },
          "metadata": {},
          "execution_count": 7
        }
      ]
    },
    {
      "cell_type": "code",
      "source": [
        "optimizer = optim.SGD([W,b], lr = 0.01)"
      ],
      "metadata": {
        "id": "ie7DelArSlHh"
      },
      "execution_count": 8,
      "outputs": []
    },
    {
      "cell_type": "code",
      "source": [
        "optimizer.zero_grad()\n",
        "cost.backward() #미분\n",
        "optimizer.step()"
      ],
      "metadata": {
        "id": "1yhol_J5UdkP"
      },
      "execution_count": 9,
      "outputs": []
    },
    {
      "cell_type": "code",
      "source": [
        "cost.backward"
      ],
      "metadata": {
        "colab": {
          "base_uri": "https://localhost:8080/"
        },
        "id": "FleQW_O3UryZ",
        "outputId": "252f31fd-e9bd-4b35-be87-0a10d5327621"
      },
      "execution_count": 10,
      "outputs": [
        {
          "output_type": "execute_result",
          "data": {
            "text/plain": [
              "<bound method Tensor.backward of tensor(18.6667, grad_fn=<MeanBackward0>)>"
            ]
          },
          "metadata": {},
          "execution_count": 10
        }
      ]
    },
    {
      "cell_type": "code",
      "source": [
        "x_train = torch.FloatTensor([[1],[2],[3]])\n",
        "y_train = torch.FloatTensor([[2],[4],[6]])\n",
        "W = torch.zeros(1, requires_grad =  True)\n",
        "b = torch.zeros(1, requires_grad = True)\n",
        "epochs = 2000\n",
        "for i in range(epochs+1):\n",
        "  hypothesis = x_train.matmul(W) + b\n",
        "  cost = torch.mean((hypothesis - y_train)**2)\n",
        "  optimizer = optim.SGD([W,b], lr = 0.01)\n",
        "  optimizer.zero_grad()\n",
        "  cost.backward()\n",
        "  optimizer.step()\n",
        "  if i % 100 == 0:\n",
        "    print('epochs:', i, f'W: {W[0]}, b: {b[0]}, cost: {cost}')"
      ],
      "metadata": {
        "colab": {
          "base_uri": "https://localhost:8080/"
        },
        "id": "nxBLmBm-Vfgi",
        "outputId": "e19ddc97-b208-4aa9-cdd3-478b7c4a65e3"
      },
      "execution_count": 11,
      "outputs": [
        {
          "output_type": "stream",
          "name": "stdout",
          "text": [
            "epochs: 0 W: 0.1599999964237213, b: 0.07999999821186066, cost: 18.66666603088379\n",
            "epochs: 100 W: 1.1561442613601685, b: 1.3717844486236572, cost: 3.662370443344116\n",
            "epochs: 200 W: 0.9088429808616638, b: 1.9339863061904907, cost: 3.281951665878296\n",
            "epochs: 300 W: 0.7144335508346558, b: 2.375924587249756, cost: 3.0468757152557373\n",
            "epochs: 400 W: 0.5616096258163452, b: 2.7233293056488037, cost: 2.9016122817993164\n",
            "epochs: 500 W: 0.44147637486457825, b: 2.996420383453369, cost: 2.8118488788604736\n",
            "epochs: 600 W: 0.3470405638217926, b: 3.2110955715179443, cost: 2.756380558013916\n",
            "epochs: 700 W: 0.27280542254447937, b: 3.3798491954803467, cost: 2.72210431098938\n",
            "epochs: 800 W: 0.21445001661777496, b: 3.512504816055298, cost: 2.7009239196777344\n",
            "epochs: 900 W: 0.1685771942138672, b: 3.6167845726013184, cost: 2.687835454940796\n",
            "epochs: 1000 W: 0.13251720368862152, b: 3.6987571716308594, cost: 2.6797475814819336\n",
            "epochs: 1100 W: 0.10417044907808304, b: 3.7631959915161133, cost: 2.6747500896453857\n",
            "epochs: 1200 W: 0.0818871557712555, b: 3.8138511180877686, cost: 2.671661615371704\n",
            "epochs: 1300 W: 0.06437119096517563, b: 3.8536691665649414, cost: 2.669753074645996\n",
            "epochs: 1400 W: 0.0506015345454216, b: 3.8849709033966064, cost: 2.668574094772339\n",
            "epochs: 1500 W: 0.039777591824531555, b: 3.909576177597046, cost: 2.6678452491760254\n",
            "epochs: 1600 W: 0.031269073486328125, b: 3.92891788482666, cost: 2.6673948764801025\n",
            "epochs: 1700 W: 0.02458047680556774, b: 3.944122791290283, cost: 2.667116641998291\n",
            "epochs: 1800 W: 0.019322622567415237, b: 3.9560749530792236, cost: 2.666944742202759\n",
            "epochs: 1900 W: 0.015189589001238346, b: 3.965470552444458, cost: 2.6668386459350586\n",
            "epochs: 2000 W: 0.011940622702240944, b: 3.972856044769287, cost: 2.6667728424072266\n"
          ]
        }
      ]
    },
    {
      "cell_type": "code",
      "source": [],
      "metadata": {
        "id": "EL1soWroWh6q"
      },
      "execution_count": 11,
      "outputs": []
    },
    {
      "cell_type": "markdown",
      "source": [
        "##**Autograd**"
      ],
      "metadata": {
        "id": "x-5_qCuHW1qS"
      }
    },
    {
      "cell_type": "code",
      "source": [
        "w = torch.tensor(2.0, requires_grad=True)\n"
      ],
      "metadata": {
        "id": "MjJ4gATgW5dW"
      },
      "execution_count": 12,
      "outputs": []
    },
    {
      "cell_type": "code",
      "source": [
        "y = w**2\n",
        "z = 2*y + 5\n",
        "z.backward()\n",
        "print(w.grad)"
      ],
      "metadata": {
        "colab": {
          "base_uri": "https://localhost:8080/"
        },
        "id": "iLIiNfVgXiy-",
        "outputId": "325c9f09-faad-4f8a-b504-b3ab606ad256"
      },
      "execution_count": 13,
      "outputs": [
        {
          "output_type": "stream",
          "name": "stdout",
          "text": [
            "tensor(8.)\n"
          ]
        }
      ]
    },
    {
      "cell_type": "code",
      "source": [
        "x = torch.FloatTensor([[2,3,4,7,3], [3,2,6,2,1]])\n",
        "w = torch.zeros((5,2), requires_grad = True)\n",
        "b = torch.tensor(5.0, requires_grad = True)\n",
        "z = torch.matmul(x, w) + b\n",
        "print(z.requires_grad)\n",
        "\n",
        "with torch.no_grad():\n",
        "    z = torch.matmul(x, w)+b\n",
        "print(z.requires_grad)"
      ],
      "metadata": {
        "colab": {
          "base_uri": "https://localhost:8080/"
        },
        "id": "vccdvARjXkFG",
        "outputId": "dd77bce8-8abf-4950-f482-dedc0e5147df"
      },
      "execution_count": 14,
      "outputs": [
        {
          "output_type": "stream",
          "name": "stdout",
          "text": [
            "True\n",
            "False\n"
          ]
        }
      ]
    },
    {
      "cell_type": "markdown",
      "source": [
        "##**nn.Module**"
      ],
      "metadata": {
        "id": "3lRu5MN6arwc"
      }
    },
    {
      "cell_type": "code",
      "source": [
        "import torch\n",
        "import torch.nn as nn\n",
        "import torch.nn.functional as F"
      ],
      "metadata": {
        "id": "GnoWBCDXbJpJ"
      },
      "execution_count": 15,
      "outputs": []
    },
    {
      "cell_type": "code",
      "source": [
        "x_train = torch.FloatTensor([[1], [2], [3]])\n",
        "y_train = torch.FloatTensor([[2], [4], [6]])"
      ],
      "metadata": {
        "id": "h0wK8kfTZqnQ"
      },
      "execution_count": 16,
      "outputs": []
    },
    {
      "cell_type": "code",
      "source": [
        "model = nn.Linear(1,1) #nn.Linear(input_dim. output_dim)\n",
        "print(list(model.parameters()))"
      ],
      "metadata": {
        "colab": {
          "base_uri": "https://localhost:8080/"
        },
        "id": "R5P1p1s5bWIv",
        "outputId": "f0acd095-5f9a-43d5-94d0-db2586857d6f"
      },
      "execution_count": 17,
      "outputs": [
        {
          "output_type": "stream",
          "name": "stdout",
          "text": [
            "[Parameter containing:\n",
            "tensor([[-0.8700]], requires_grad=True), Parameter containing:\n",
            "tensor([-0.8926], requires_grad=True)]\n"
          ]
        }
      ]
    },
    {
      "cell_type": "code",
      "source": [
        "optimizer = torch.optim.SGD(model.parameters(), lr=0.01) "
      ],
      "metadata": {
        "id": "dCeRG2GJbecs"
      },
      "execution_count": 18,
      "outputs": []
    },
    {
      "cell_type": "code",
      "source": [
        "epochs = 2000\n",
        "for i in range(epochs+1):\n",
        "  Hx = model(x_train)\n",
        "  cost =  F.mse_loss(Hx, y_train) #MeanSquaredError. Hx, y\n",
        "  optimizer.zero_grad()\n",
        "  cost.backward()\n",
        "  optimizer.step()"
      ],
      "metadata": {
        "id": "zqlFu4ibb9wC"
      },
      "execution_count": 19,
      "outputs": []
    },
    {
      "cell_type": "code",
      "source": [
        "type(list(model.parameters())[0])"
      ],
      "metadata": {
        "colab": {
          "base_uri": "https://localhost:8080/"
        },
        "id": "mcb3Wb_5c0Rb",
        "outputId": "ae5e0e29-6bda-418e-be55-a8a93ea59610"
      },
      "execution_count": 20,
      "outputs": [
        {
          "output_type": "execute_result",
          "data": {
            "text/plain": [
              "torch.nn.parameter.Parameter"
            ]
          },
          "metadata": {},
          "execution_count": 20
        }
      ]
    },
    {
      "cell_type": "code",
      "source": [
        "model(torch.FloatTensor([5]))"
      ],
      "metadata": {
        "colab": {
          "base_uri": "https://localhost:8080/"
        },
        "id": "16oWqpz-eZX_",
        "outputId": "f8f6dbd8-ed31-4563-f860-4c740b34df48"
      },
      "execution_count": 21,
      "outputs": [
        {
          "output_type": "execute_result",
          "data": {
            "text/plain": [
              "tensor([9.9970], grad_fn=<AddBackward0>)"
            ]
          },
          "metadata": {},
          "execution_count": 21
        }
      ]
    },
    {
      "cell_type": "code",
      "source": [
        "x_train = torch.FloatTensor([[73, 80, 75],\n",
        "                             [93, 88, 93],\n",
        "                             [89, 91, 90],\n",
        "                             [96, 98, 100],\n",
        "                             [73, 66, 70]])\n",
        "y_train = torch.FloatTensor([[152], [185], [180], [196], [142]])"
      ],
      "metadata": {
        "id": "78AIenVKet3F"
      },
      "execution_count": 22,
      "outputs": []
    },
    {
      "cell_type": "code",
      "source": [
        "Linear = nn.Linear(3,1)\n",
        "list(Linear.parameters())"
      ],
      "metadata": {
        "colab": {
          "base_uri": "https://localhost:8080/"
        },
        "id": "GZOShFEwewVD",
        "outputId": "578bb68f-bd9d-4ce0-d2b8-3ce29173eb8b"
      },
      "execution_count": 23,
      "outputs": [
        {
          "output_type": "execute_result",
          "data": {
            "text/plain": [
              "[Parameter containing:\n",
              " tensor([[-0.3112,  0.5575,  0.5478]], requires_grad=True),\n",
              " Parameter containing:\n",
              " tensor([-0.3518], requires_grad=True)]"
            ]
          },
          "metadata": {},
          "execution_count": 23
        }
      ]
    },
    {
      "cell_type": "code",
      "source": [
        "Linear_optimizer = optim.SGD(Linear.parameters(), lr = 1e-5)"
      ],
      "metadata": {
        "id": "5pUTYE2LfD93"
      },
      "execution_count": 24,
      "outputs": []
    },
    {
      "cell_type": "code",
      "source": [
        "epochs = 2000\n",
        "for i in range(epochs+1):\n",
        "  Hx = Linear(x_train)\n",
        "  loss_function = F.mse_loss(Hx,y_train)\n",
        "  Linear_optimizer.zero_grad()\n",
        "  loss_function.backward()\n",
        "  Linear_optimizer.step()\n",
        "print(list(Linear.parameters()))"
      ],
      "metadata": {
        "colab": {
          "base_uri": "https://localhost:8080/"
        },
        "id": "ePIxN4O6fh8J",
        "outputId": "2ec00d6b-1610-4e2a-b72f-2e80a332f5be"
      },
      "execution_count": 25,
      "outputs": [
        {
          "output_type": "stream",
          "name": "stdout",
          "text": [
            "[Parameter containing:\n",
            "tensor([[0.3336, 0.6976, 0.9801]], requires_grad=True), Parameter containing:\n",
            "tensor([-0.3410], requires_grad=True)]\n"
          ]
        }
      ]
    },
    {
      "cell_type": "code",
      "source": [
        "Linear(torch.FloatTensor([70, 60, 50]))"
      ],
      "metadata": {
        "colab": {
          "base_uri": "https://localhost:8080/"
        },
        "id": "V33GRe8GgXC2",
        "outputId": "48149d86-8ea2-46b0-e17d-cfee56a70147"
      },
      "execution_count": 26,
      "outputs": [
        {
          "output_type": "execute_result",
          "data": {
            "text/plain": [
              "tensor([113.8705], grad_fn=<AddBackward0>)"
            ]
          },
          "metadata": {},
          "execution_count": 26
        }
      ]
    },
    {
      "cell_type": "code",
      "source": [
        "class MultiLayerLinearRegression(nn.Module):\n",
        "  def __init__(self):\n",
        "    super().__init__()\n",
        "    self.linear = nn.Linear(3, 1) \n",
        "  \n",
        "  def forward(self, x):\n",
        "    return self.linear(x)\n",
        "config = {'input_dim': 3, 'output_dim':1} \n",
        "Model = MultiLayerLinearRegression()\n",
        "optimizer = optim.SGD(Model.parameters(), lr = 1e-5)\n",
        "for i in range(epochs+1):\n",
        "  Hx = Model(x_train)\n",
        "  loss_function = F.mse_loss(Hx, y_train)\n",
        "  optimizer.zero_grad()\n",
        "  loss_function.backward()\n",
        "  optimizer.step()"
      ],
      "metadata": {
        "id": "bLuCbwT1hWux"
      },
      "execution_count": 27,
      "outputs": []
    },
    {
      "cell_type": "code",
      "source": [
        "Model(torch.FloatTensor([1,21,50]))"
      ],
      "metadata": {
        "colab": {
          "base_uri": "https://localhost:8080/"
        },
        "id": "tHG65f79kXFt",
        "outputId": "21fc0ee9-cc96-4c66-90f9-616828eac9be"
      },
      "execution_count": 28,
      "outputs": [
        {
          "output_type": "execute_result",
          "data": {
            "text/plain": [
              "tensor([66.1544], grad_fn=<AddBackward0>)"
            ]
          },
          "metadata": {},
          "execution_count": 28
        }
      ]
    }
  ]
}