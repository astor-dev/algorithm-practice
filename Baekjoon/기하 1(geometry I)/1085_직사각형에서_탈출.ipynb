{
  "nbformat": 4,
  "nbformat_minor": 0,
  "metadata": {
    "colab": {
      "provenance": [],
      "authorship_tag": "ABX9TyMGrBh0gbVIQb/hMKngNSbM",
      "include_colab_link": true
    },
    "kernelspec": {
      "name": "python3",
      "display_name": "Python 3"
    },
    "language_info": {
      "name": "python"
    }
  },
  "cells": [
    {
      "cell_type": "markdown",
      "metadata": {
        "id": "view-in-github",
        "colab_type": "text"
      },
      "source": [
        "<a href=\"https://colab.research.google.com/github/do-huni/Algorithm_practice/blob/main/Baekjoon/%EA%B8%B0%ED%95%98%201(geometry%20I)/1085_%EC%A7%81%EC%82%AC%EA%B0%81%ED%98%95%EC%97%90%EC%84%9C_%ED%83%88%EC%B6%9C.ipynb\" target=\"_parent\"><img src=\"https://colab.research.google.com/assets/colab-badge.svg\" alt=\"Open In Colab\"/></a>"
      ]
    },
    {
      "cell_type": "markdown",
      "source": [
        "**문제**\n",
        "\n",
        "한수는 지금 (x, y)에 있다. 직사각형은 각 변이 좌표축에 평행하고, 왼쪽 아래 꼭짓점은 (0, 0), 오른쪽 위 꼭짓점은 (w, h)에 있다. 직사각형의 경계선까지 가는 거리의 최솟값을 구하는 프로그램을 작성하시오.\n",
        "\n",
        "**입력**\n",
        "\n",
        "첫째 줄에 x, y, w, h가 주어진다.\n",
        "\n",
        "**출력**\n",
        "\n",
        "첫째 줄에 문제의 정답을 출력한다.\n",
        "\n",
        "**제한**\n",
        "\n",
        "1 ≤ w, h ≤ 1,000\n",
        "1 ≤ x ≤ w-1\n",
        "1 ≤ y ≤ h-1\n",
        "x, y, w, h는 정수"
      ],
      "metadata": {
        "id": "DjLB5KmwEPX_"
      }
    },
    {
      "cell_type": "code",
      "execution_count": null,
      "metadata": {
        "id": "DkPKUhjCEO_7"
      },
      "outputs": [],
      "source": [
        "x, y, w, h = map(int,input().split())\n",
        "lst = [ ]\n",
        "lst += abs(x), abs(x-w), abs(y), abs(y-h)\n",
        "print(sorted(lst)[0])"
      ]
    }
  ]
}