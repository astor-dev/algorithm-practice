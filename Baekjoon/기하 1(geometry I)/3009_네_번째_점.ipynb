{
  "nbformat": 4,
  "nbformat_minor": 0,
  "metadata": {
    "colab": {
      "provenance": [],
      "authorship_tag": "ABX9TyNZak0LVH8jMJPQMKLWldq2",
      "include_colab_link": true
    },
    "kernelspec": {
      "name": "python3",
      "display_name": "Python 3"
    },
    "language_info": {
      "name": "python"
    }
  },
  "cells": [
    {
      "cell_type": "markdown",
      "metadata": {
        "id": "view-in-github",
        "colab_type": "text"
      },
      "source": [
        "<a href=\"https://colab.research.google.com/github/do-huni/Algorithm_practice/blob/main/Baekjoon/%EA%B8%B0%ED%95%98%201(geometry%20I)/3009_%EB%84%A4_%EB%B2%88%EC%A7%B8_%EC%A0%90.ipynb\" target=\"_parent\"><img src=\"https://colab.research.google.com/assets/colab-badge.svg\" alt=\"Open In Colab\"/></a>"
      ]
    },
    {
      "cell_type": "markdown",
      "source": [
        "**문제**\n",
        "\n",
        "세 점이 주어졌을 때, 축에 평행한 직사각형을 만들기 위해서 필요한 네 번째 점을 찾는 프로그램을 작성하시오.\n",
        "\n",
        "**입력**\n",
        "\n",
        "세 점의 좌표가 한 줄에 하나씩 주어진다. 좌표는 1보다 크거나 같고, 1000보다 작거나 같은 정수이다.\n",
        "\n",
        "**출력**\n",
        "\n",
        "직사각형의 네 번째 점의 좌표를 출력한다."
      ],
      "metadata": {
        "id": "NhiyucnLEjq8"
      }
    },
    {
      "cell_type": "code",
      "execution_count": null,
      "metadata": {
        "id": "XkXFvSW7EhmK"
      },
      "outputs": [],
      "source": [
        "import sys\n",
        "q = [ ]\n",
        "w = [ ]\n",
        "output = []\n",
        "answer = dict()\n",
        "for _ in range(3):\n",
        "  Q, W = map(int, sys.stdin.readline().split())\n",
        "  q.append(Q)\n",
        "  w.append(W)\n",
        "data = [q, w]\n",
        "for i in data:\n",
        "  tmp = i[0]\n",
        "  i.remove(tmp)\n",
        "  if tmp not in i:\n",
        "    output.append(tmp)\n",
        "    continue\n",
        "  for j in i:\n",
        "    if j != tmp:\n",
        "      output.append(j)\n",
        "print(' '.join(map(str,output)))"
      ]
    }
  ]
}