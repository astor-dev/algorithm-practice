{
  "nbformat": 4,
  "nbformat_minor": 0,
  "metadata": {
    "colab": {
      "provenance": [],
      "authorship_tag": "ABX9TyOuFeA5/0caTTYoO5l+gK7q",
      "include_colab_link": true
    },
    "kernelspec": {
      "name": "python3",
      "display_name": "Python 3"
    },
    "language_info": {
      "name": "python"
    }
  },
  "cells": [
    {
      "cell_type": "markdown",
      "metadata": {
        "id": "view-in-github",
        "colab_type": "text"
      },
      "source": [
        "<a href=\"https://colab.research.google.com/github/orangNLP/Algorithm_practice/blob/main/Baekjoon/%EC%9E%AC%EA%B7%80(recursion)/2447_%EB%B3%84_%EC%B0%8D%EA%B8%B0_10.ipynb\" target=\"_parent\"><img src=\"https://colab.research.google.com/assets/colab-badge.svg\" alt=\"Open In Colab\"/></a>"
      ]
    },
    {
      "cell_type": "markdown",
      "source": [
        "**문제**\n",
        "\n",
        "재귀적인 패턴으로 별을 찍어 보자. N이 3의 거듭제곱(3, 9, 27, ...)이라고 할 때, 크기 N의 패턴은 N×N 정사각형 모양이다.\n",
        "\n",
        "크기 3의 패턴은 가운데에 공백이 있고, 가운데를 제외한 모든 칸에 별이 하나씩 있는 패턴이다.\n",
        "\n",
        "\n",
        "---\n",
        "**\\*\\*\\***\n",
        "\n",
        "**\\* &nbsp;\\***\n",
        "\n",
        "**\\*\\*\\***\n",
        "\n",
        "---\n",
        "\n",
        "\n",
        "N이 3보다 클 경우, 크기 N의 패턴은 공백으로 채워진 가운데의 (N/3)×(N/3) 정사각형을 크기 N/3의 패턴으로 둘러싼 형태이다. 예를 들어 크기 27의 패턴은 예제 출력 1과 같다.\n",
        "\n",
        "**입력**\n",
        "\n",
        "첫째 줄에 N이 주어진다. N은 3의 거듭제곱이다. 즉 어떤 정수 k에 대해 N=3k이며, 이때 1 ≤ k < 8이다.\n",
        "\n",
        "**출력**\n",
        "\n",
        "첫째 줄부터 N번째 줄까지 별을 출력한다."
      ],
      "metadata": {
        "id": "OrjPuS9xBZA9"
      }
    },
    {
      "cell_type": "code",
      "execution_count": 116,
      "metadata": {
        "colab": {
          "base_uri": "https://localhost:8080/"
        },
        "id": "hBL0oRSCBWYT",
        "outputId": "858079d5-05a6-4cc7-ca43-ecf8ca0e30c5"
      },
      "outputs": [
        {
          "output_type": "stream",
          "name": "stdout",
          "text": [
            "9\n",
            "*********\n",
            "* ** ** *\n",
            "*********\n",
            "***   ***\n",
            "* *   * *\n",
            "***   ***\n",
            "*********\n",
            "* ** ** *\n",
            "*********\n"
          ]
        }
      ],
      "source": [
        "N = int(input())\n",
        "start = 1\n",
        "def threetimeslist(lst):\n",
        "  for i in range(len(lst)):\n",
        "    lst[i] = lst[i]*3\n",
        "  return lst*3\n",
        "def recur_star(N, before_list):\n",
        "  global start\n",
        "  #print(start)\n",
        "  post_N = start // 3\n",
        "  scope = range(post_N, post_N + post_N)\n",
        "  if start != 1:\n",
        "    now_list = threetimeslist(before_list)\n",
        "  else:\n",
        "    now_list = before_list\n",
        "  temp_list = [[True if i not in scope or j not in scope else False for j in range(start)] for i in range(start)]\n",
        "  #print(f\"{now_list=}\")\n",
        "  #print(temp_list)\n",
        "  for idx in range(len(temp_list)):\n",
        "    now_list[idx] = list(map(lambda a, b: bool(a * b), temp_list[idx], now_list[idx]))\n",
        "  if start == N:\n",
        "    return now_list\n",
        "  start *= 3\n",
        "  return recur_star(N, now_list)\n",
        "\n",
        "lst = recur_star(N, [[True]])\n",
        "for i in range(len(lst)):\n",
        "  for j in range(len(lst[i])):\n",
        "    if lst[i][j] == True:\n",
        "      lst[i][j] = '*'\n",
        "    else:\n",
        "      lst[i][j] = ' '\n",
        "for i in lst:\n",
        "  print(''.join(i))"
      ]
    },
    {
      "cell_type": "code",
      "source": [
        "def threetimeslist(lst):\n",
        "  for i in range(len(lst)):\n",
        "    lst[i] = lst[i]*3\n",
        "  return lst*3"
      ],
      "metadata": {
        "id": "eysVqpCeC-6P"
      },
      "execution_count": null,
      "outputs": []
    },
    {
      "cell_type": "code",
      "source": [],
      "metadata": {
        "id": "rkxjVYB0F4sa"
      },
      "execution_count": null,
      "outputs": []
    }
  ]
}