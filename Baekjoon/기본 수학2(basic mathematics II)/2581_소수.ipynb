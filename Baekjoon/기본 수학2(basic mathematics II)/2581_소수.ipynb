{
  "nbformat": 4,
  "nbformat_minor": 0,
  "metadata": {
    "colab": {
      "provenance": [],
      "authorship_tag": "ABX9TyNiG1B5mFdzvCqYt0WgJuJ3",
      "include_colab_link": true
    },
    "kernelspec": {
      "name": "python3",
      "display_name": "Python 3"
    },
    "language_info": {
      "name": "python"
    }
  },
  "cells": [
    {
      "cell_type": "markdown",
      "metadata": {
        "id": "view-in-github",
        "colab_type": "text"
      },
      "source": [
        "<a href=\"https://colab.research.google.com/github/orangNLP/Algorithm_practice/blob/main/Baekjoon/%EA%B8%B0%EB%B3%B8%20%EC%88%98%ED%95%992(basic%20mathematics%20II)/2581_%EC%86%8C%EC%88%98.ipynb\" target=\"_parent\"><img src=\"https://colab.research.google.com/assets/colab-badge.svg\" alt=\"Open In Colab\"/></a>"
      ]
    },
    {
      "cell_type": "markdown",
      "source": [
        "**문제**\n",
        "\n",
        "자연수 M과 N이 주어질 때 M이상 N이하의 자연수 중 소수인 것을 모두 골라 이들 소수의 합과 최솟값을 찾는 프로그램을 작성하시오.\n",
        "\n",
        "예를 들어 M=60, N=100인 경우 60이상 100이하의 자연수 중 소수는 61, 67, 71, 73, 79, 83, 89, 97 총 8개가 있으므로, 이들 소수의 합은 620이고, 최솟값은 61이 된다.\n",
        "\n",
        "**입력**\n",
        "\n",
        "입력의 첫째 줄에 M이, 둘째 줄에 N이 주어진다.\n",
        "\n",
        "M과 N은 10,000이하의 자연수이며, M은 N보다 작거나 같다.\n",
        "\n",
        "**출력**\n",
        "\n",
        "M이상 N이하의 자연수 중 소수인 것을 모두 찾아 첫째 줄에 그 합을, 둘째 줄에 그 중 최솟값을 출력한다. \n",
        "\n",
        "단, M이상 N이하의 자연수 중 소수가 없을 경우는 첫째 줄에 -1을 출력한다."
      ],
      "metadata": {
        "id": "nYAwNZ2Z2fpL"
      }
    },
    {
      "cell_type": "code",
      "execution_count": 1,
      "metadata": {
        "colab": {
          "base_uri": "https://localhost:8080/"
        },
        "id": "TWmXDjRz2eA8",
        "outputId": "f20f9983-3f71-4e96-a610-2f3a6d7a901a"
      },
      "outputs": [
        {
          "output_type": "stream",
          "name": "stdout",
          "text": [
            "60\n",
            "100\n",
            "620\n",
            "61\n"
          ]
        }
      ],
      "source": [
        "M = int(input())\n",
        "N = int(input())\n",
        "Memo = {i for i in range(M,N+1)}\n",
        "CompN = set()\n",
        "for i in range(M,N+1):\n",
        "  if i == 0 or i == 1:\n",
        "    CompN.add(i)\n",
        "  for k in range(2,i):\n",
        "    if i % k == 0:\n",
        "      CompN.add(i)\n",
        "PrimeN = list(Memo.difference(CompN))\n",
        "Sum = 0\n",
        "for i in PrimeN:\n",
        "  Sum += i\n",
        "if Sum == 0:\n",
        "  print('-1')\n",
        "else:\n",
        "  PrimeN.sort()\n",
        "  print(Sum)\n",
        "  print(PrimeN[0])"
      ]
    }
  ]
}