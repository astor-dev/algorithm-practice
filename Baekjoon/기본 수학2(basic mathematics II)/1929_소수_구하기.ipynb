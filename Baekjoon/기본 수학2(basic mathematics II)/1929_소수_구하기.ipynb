{
  "nbformat": 4,
  "nbformat_minor": 0,
  "metadata": {
    "colab": {
      "provenance": [],
      "authorship_tag": "ABX9TyPa5No4afBbKl0rzFoCp5yL",
      "include_colab_link": true
    },
    "kernelspec": {
      "name": "python3",
      "display_name": "Python 3"
    },
    "language_info": {
      "name": "python"
    }
  },
  "cells": [
    {
      "cell_type": "markdown",
      "metadata": {
        "id": "view-in-github",
        "colab_type": "text"
      },
      "source": [
        "<a href=\"https://colab.research.google.com/github/orangNLP/Algorithm_practice/blob/main/Baekjoon/%EA%B8%B0%EB%B3%B8%20%EC%88%98%ED%95%992(basic%20mathematics%20II)/1929_%EC%86%8C%EC%88%98_%EA%B5%AC%ED%95%98%EA%B8%B0.ipynb\" target=\"_parent\"><img src=\"https://colab.research.google.com/assets/colab-badge.svg\" alt=\"Open In Colab\"/></a>"
      ]
    },
    {
      "cell_type": "markdown",
      "source": [
        "**문제**\n",
        "\n",
        "M이상 N이하의 소수를 모두 출력하는 프로그램을 작성하시오.\n",
        "\n",
        "**입력**\n",
        "\n",
        "첫째 줄에 자연수 M과 N이 빈 칸을 사이에 두고 주어진다. (1 ≤ M ≤ N ≤ 1,000,000) M이상 N이하의 소수가 하나 이상 있는 입력만 주어진다.\n",
        "\n",
        "**출력**\n",
        "\n",
        "한 줄에 하나씩, 증가하는 순서대로 소수를 출력한다.\n",
        "\n"
      ],
      "metadata": {
        "id": "lM8sa2kp3Bjf"
      }
    },
    {
      "cell_type": "code",
      "execution_count": 1,
      "metadata": {
        "id": "BBnJFaob3AKh",
        "outputId": "e6e71ab8-c1cd-4623-932e-d9de50799ae4",
        "colab": {
          "base_uri": "https://localhost:8080/"
        }
      },
      "outputs": [
        {
          "output_type": "stream",
          "name": "stdout",
          "text": [
            "3 16\n",
            "3\n",
            "5\n",
            "7\n",
            "11\n",
            "13\n"
          ]
        }
      ],
      "source": [
        "M, N = map(int,input().split())\n",
        "primeN = [True] * (N+1)\n",
        "primeN[1] = False\n",
        "for k in range(2,int(N**0.5)+1):\n",
        "  if primeN[k] == True:\n",
        "    for i in range(k+k,N+1,k):\n",
        "      primeN[i] = False\n",
        "for i in range(M,N+1):\n",
        "  if primeN[i] == True:\n",
        "    print(i)"
      ]
    }
  ]
}