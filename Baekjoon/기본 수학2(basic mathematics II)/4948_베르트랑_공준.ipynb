{
  "nbformat": 4,
  "nbformat_minor": 0,
  "metadata": {
    "colab": {
      "provenance": [],
      "authorship_tag": "ABX9TyOZIPLZsE0/mQx1N9xwP8Iq",
      "include_colab_link": true
    },
    "kernelspec": {
      "name": "python3",
      "display_name": "Python 3"
    },
    "language_info": {
      "name": "python"
    }
  },
  "cells": [
    {
      "cell_type": "markdown",
      "metadata": {
        "id": "view-in-github",
        "colab_type": "text"
      },
      "source": [
        "<a href=\"https://colab.research.google.com/github/orangNLP/Algorithm_practice/blob/main/Baekjoon/%EA%B8%B0%EB%B3%B8%20%EC%88%98%ED%95%992(basic%20mathematics%20II)/4948_%EB%B2%A0%EB%A5%B4%ED%8A%B8%EB%9E%91_%EA%B3%B5%EC%A4%80.ipynb\" target=\"_parent\"><img src=\"https://colab.research.google.com/assets/colab-badge.svg\" alt=\"Open In Colab\"/></a>"
      ]
    },
    {
      "cell_type": "markdown",
      "source": [
        "**문제**\n",
        "\n",
        "베르트랑 공준은 임의의 자연수 n에 대하여, n보다 크고, 2n보다 작거나 같은 소수는 적어도 하나 존재한다는 내용을 담고 있다.\n",
        "\n",
        "이 명제는 조제프 베르트랑이 1845년에 추측했고, 파프누티 체비쇼프가 1850년에 증명했다.\n",
        "\n",
        "예를 들어, 10보다 크고, 20보다 작거나 같은 소수는 4개가 있다. (11, 13, 17, 19) 또, 14보다 크고, 28보다 작거나 같은 소수는 3개가 있다. (17,19, 23)\n",
        "\n",
        "자연수 n이 주어졌을 때, n보다 크고, 2n보다 작거나 같은 소수의 개수를 구하는 프로그램을 작성하시오. \n",
        "\n",
        "**입력**\n",
        "\n",
        "입력은 여러 개의 테스트 케이스로 이루어져 있다. 각 케이스는 n을 포함하는 한 줄로 이루어져 있다.\n",
        "\n",
        "입력의 마지막에는 0이 주어진다.\n",
        "\n",
        "**출력**\n",
        "\n",
        "각 테스트 케이스에 대해서, n보다 크고, 2n보다 작거나 같은 소수의 개수를 출력한다.\n",
        "\n",
        "**제한**\n",
        "\n",
        "1 ≤ n ≤ 123,456"
      ],
      "metadata": {
        "id": "b8J7A87k3TMz"
      }
    },
    {
      "cell_type": "code",
      "execution_count": 1,
      "metadata": {
        "colab": {
          "base_uri": "https://localhost:8080/"
        },
        "id": "9Eq370pl3SRG",
        "outputId": "13826b9e-66cd-4ebc-9d99-5a24bd9f8036"
      },
      "outputs": [
        {
          "name": "stdout",
          "output_type": "stream",
          "text": [
            "1\n",
            "1\n",
            "10\n",
            "4\n",
            "13\n",
            "3\n",
            "100\n",
            "21\n",
            "1000\n",
            "135\n",
            "10000\n",
            "1033\n",
            "100000\n",
            "8392\n",
            "0\n"
          ]
        }
      ],
      "source": [
        "while True:\n",
        "  num = int(input())\n",
        "  Cnt = 0\n",
        "  if num == 0:\n",
        "    break\n",
        "  primeN = [True] * (2*num +1)\n",
        "  primeN[1] = False\n",
        "  for i in range(2,int(2*num**0.5)+1):\n",
        "    if primeN[i] == True:\n",
        "      for k in range(i+i,2*num+1,i):\n",
        "        primeN[k] = False\n",
        "  for i in range(num+1,2*num +1):\n",
        "    if primeN[i] == True:\n",
        "      Cnt += 1\n",
        "  print(Cnt)"
      ]
    }
  ]
}