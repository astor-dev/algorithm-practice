{
  "nbformat": 4,
  "nbformat_minor": 0,
  "metadata": {
    "colab": {
      "provenance": [],
      "authorship_tag": "ABX9TyOXQZvgskjiu4eJxIvckxbZ",
      "include_colab_link": true
    },
    "kernelspec": {
      "name": "python3",
      "display_name": "Python 3"
    },
    "language_info": {
      "name": "python"
    }
  },
  "cells": [
    {
      "cell_type": "markdown",
      "metadata": {
        "id": "view-in-github",
        "colab_type": "text"
      },
      "source": [
        "<a href=\"https://colab.research.google.com/github/orangNLP/Algorithm_practice/blob/main/Baekjoon/%EA%B8%B0%EB%B3%B8%20%EC%88%98%ED%95%992(basic%20mathematics%20II)/11653_%EC%86%8C%EC%9D%B8%EC%88%98%EB%B6%84%ED%95%B4.ipynb\" target=\"_parent\"><img src=\"https://colab.research.google.com/assets/colab-badge.svg\" alt=\"Open In Colab\"/></a>"
      ]
    },
    {
      "cell_type": "markdown",
      "source": [
        "**문제**\n",
        "\n",
        "정수 N이 주어졌을 때, 소인수분해하는 프로그램을 작성하시오.\n",
        "\n",
        "**입력**\n",
        "\n",
        "첫째 줄에 정수 N (1 ≤ N ≤ 10,000,000)이 주어진다.\n",
        "\n",
        "**출력**\n",
        "\n",
        "N의 소인수분해 결과를 한 줄에 하나씩 오름차순으로 출력한다. N이 1인 경우 아무것도 출력하지 않는다."
      ],
      "metadata": {
        "id": "ls20xsoG2xo_"
      }
    },
    {
      "cell_type": "code",
      "execution_count": 1,
      "metadata": {
        "id": "IKHUU0Ea2ww9",
        "outputId": "57fe9a83-ec60-49e6-937c-95ff140f10eb",
        "colab": {
          "base_uri": "https://localhost:8080/"
        }
      },
      "outputs": [
        {
          "output_type": "stream",
          "name": "stdout",
          "text": [
            "72\n",
            "2\n",
            "2\n",
            "2\n",
            "3\n",
            "3\n"
          ]
        }
      ],
      "source": [
        "x = int(input())\n",
        "a = []\n",
        "if x == 1:\n",
        "  a.append(x)\n",
        "for i in range(2,x):\n",
        "  if x%i == 0:\n",
        "    a.append(x)\n",
        "if len(a) == 0:\n",
        "  print(x)\n",
        "else:\n",
        "  primeF = [ ]\n",
        "  k = x\n",
        "  for i in range(2,k):\n",
        "    while x%i == 0:\n",
        "      x = x/i\n",
        "      primeF.append(i)\n",
        "    if x == 1:\n",
        "      print('\\n'.join(map(str,primeF)))\n",
        "      break\t"
      ]
    }
  ]
}