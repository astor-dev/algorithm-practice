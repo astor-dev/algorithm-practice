{
  "nbformat": 4,
  "nbformat_minor": 0,
  "metadata": {
    "colab": {
      "provenance": [],
      "authorship_tag": "ABX9TyMhwbWnyR2AIKcyp4AFZZ31",
      "include_colab_link": true
    },
    "kernelspec": {
      "name": "python3",
      "display_name": "Python 3"
    },
    "language_info": {
      "name": "python"
    }
  },
  "cells": [
    {
      "cell_type": "markdown",
      "metadata": {
        "id": "view-in-github",
        "colab_type": "text"
      },
      "source": [
        "<a href=\"https://colab.research.google.com/github/orangNLP/Algorithm_practice/blob/main/Baekjoon/%EA%B8%B0%EB%B3%B8%20%EC%88%98%ED%95%991(basic%20mathematics%20I)/1193_%EB%B6%84%EC%88%98%EC%B0%BE%EA%B8%B0.ipynb\" target=\"_parent\"><img src=\"https://colab.research.google.com/assets/colab-badge.svg\" alt=\"Open In Colab\"/></a>"
      ]
    },
    {
      "cell_type": "markdown",
      "source": [
        "**문제**\n",
        "\n",
        "무한히 큰 배열에 다음과 같이 분수들이 적혀있다.\n",
        "\n",
        "1/1\t1/2\t1/3\t1/4\t1/5\t…\n",
        "\n",
        "2/1\t2/2\t2/3\t2/4\t…\t…\n",
        "\n",
        "3/1\t3/2\t3/3\t…\t…\t…\n",
        "\n",
        "4/1\t4/2\t…\t…\t…\t…\n",
        "\n",
        "5/1\t…\t … … … …\n",
        "\n",
        "…\t …\t…\t…\t…\t…\n",
        "\n",
        "이와 같이 나열된 분수들을 1/1 → 1/2 → 2/1 → 3/1 → 2/2 → … 과 같은 지그재그 순서로 차례대로 1번, 2번, 3번, 4번, 5번, … 분수라고 하자.\n",
        "\n",
        "X가 주어졌을 때, X번째 분수를 구하는 프로그램을 작성하시오.\n",
        "\n",
        "**입력**\n",
        "\n",
        "첫째 줄에 X(1 ≤ X ≤ 10,000,000)가 주어진다.\n",
        "\n",
        "**출력**\n",
        "\n",
        "첫째 줄에 분수를 출력한다."
      ],
      "metadata": {
        "id": "unvMFJLuy75l"
      }
    },
    {
      "cell_type": "code",
      "execution_count": 1,
      "metadata": {
        "colab": {
          "base_uri": "https://localhost:8080/"
        },
        "id": "CSkPAHs0y7cd",
        "outputId": "cb55ed89-ae8a-4452-d5c1-b6cc31e83fdb"
      },
      "outputs": [
        {
          "output_type": "stream",
          "name": "stdout",
          "text": [
            "6\n",
            "1/3\n"
          ]
        }
      ],
      "source": [
        "a=int(input())\n",
        "i=1\n",
        "b=1\n",
        "while a>b:\n",
        "  i += 1\n",
        "  b += i\n",
        "first = a-(b-i)\n",
        "if i%2 == 0:\n",
        "  print(str(first)+'/'+str(i+1-first))\n",
        "else:\n",
        "  print(str(i+1-first)+ '/' + str(first))"
      ]
    }
  ]
}