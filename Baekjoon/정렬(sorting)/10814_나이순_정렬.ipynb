{
  "nbformat": 4,
  "nbformat_minor": 0,
  "metadata": {
    "colab": {
      "provenance": [],
      "authorship_tag": "ABX9TyPuWb44f04tdwzxibm1c/AN",
      "include_colab_link": true
    },
    "kernelspec": {
      "name": "python3",
      "display_name": "Python 3"
    },
    "language_info": {
      "name": "python"
    }
  },
  "cells": [
    {
      "cell_type": "markdown",
      "metadata": {
        "id": "view-in-github",
        "colab_type": "text"
      },
      "source": [
        "<a href=\"https://colab.research.google.com/github/do-huni/Algorithm_practice/blob/main/Baekjoon/%EC%A0%95%EB%A0%AC(sorting)/10814_%EB%82%98%EC%9D%B4%EC%88%9C_%EC%A0%95%EB%A0%AC.ipynb\" target=\"_parent\"><img src=\"https://colab.research.google.com/assets/colab-badge.svg\" alt=\"Open In Colab\"/></a>"
      ]
    },
    {
      "cell_type": "markdown",
      "source": [
        "**문제**\n",
        "\n",
        "온라인 저지에 가입한 사람들의 나이와 이름이 가입한 순서대로 주어진다. 이때, 회원들을 나이가 증가하는 순으로, 나이가 같으면 먼저 가입한 사람이 앞에 오는 순서로 정렬하는 프로그램을 작성하시오.\n",
        "\n",
        "**입력**\n",
        "\n",
        "첫째 줄에 온라인 저지 회원의 수 N이 주어진다. (1 ≤ N ≤ 100,000)\n",
        "\n",
        "둘째 줄부터 N개의 줄에는 각 회원의 나이와 이름이 공백으로 구분되어 주어진다. 나이는 1보다 크거나 같으며, 200보다 작거나 같은 정수이고, 이름은 알파벳 대소문자로 이루어져 있고, 길이가 100보다 작거나 같은 문자열이다. 입력은 가입한 순서로 주어진다.\n",
        "\n",
        "**출력**\n",
        "\n",
        "첫째 줄부터 총 N개의 줄에 걸쳐 온라인 저지 회원을 나이 순, 나이가 같으면 가입한 순으로 한 줄에 한 명씩 나이와 이름을 공백으로 구분해 출력한다."
      ],
      "metadata": {
        "id": "e35FT9Jz3r6R"
      }
    },
    {
      "cell_type": "code",
      "execution_count": 13,
      "metadata": {
        "colab": {
          "base_uri": "https://localhost:8080/"
        },
        "id": "b3gYfPYB3rhU",
        "outputId": "a5534d38-fe48-4ac4-a74c-cec10fd5c871"
      },
      "outputs": [
        {
          "output_type": "stream",
          "name": "stdout",
          "text": [
            "4\n",
            "3 qwer\n",
            "3 asdf\n",
            "5 q\n",
            "2 w\n",
            "2 w\n",
            "3 qwer\n",
            "3 asdf\n",
            "5 q\n"
          ]
        }
      ],
      "source": [
        "import sys\n",
        "N = int(input())\n",
        "array = []\n",
        "for _ in range(N):\n",
        "  #age, name = input().split()\n",
        "  age, name = sys.stdin.readline().rstrip().split()\n",
        "  array.append((int(age),name))\n",
        "for i in sorted(array, key = lambda x: x[0]):\n",
        "  print(str(i[0]), i[1])"
      ]
    }
  ]
}