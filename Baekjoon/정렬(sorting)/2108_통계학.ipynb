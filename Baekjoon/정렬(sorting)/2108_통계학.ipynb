{
  "nbformat": 4,
  "nbformat_minor": 0,
  "metadata": {
    "colab": {
      "provenance": [],
      "authorship_tag": "ABX9TyNX3jEybZgqKBM6wJ1C9pOq",
      "include_colab_link": true
    },
    "kernelspec": {
      "name": "python3",
      "display_name": "Python 3"
    },
    "language_info": {
      "name": "python"
    }
  },
  "cells": [
    {
      "cell_type": "markdown",
      "metadata": {
        "id": "view-in-github",
        "colab_type": "text"
      },
      "source": [
        "<a href=\"https://colab.research.google.com/github/do-huni/Algorithm_practice/blob/main/Baekjoon/%EC%A0%95%EB%A0%AC(sorting)/2108_%ED%86%B5%EA%B3%84%ED%95%99.ipynb\" target=\"_parent\"><img src=\"https://colab.research.google.com/assets/colab-badge.svg\" alt=\"Open In Colab\"/></a>"
      ]
    },
    {
      "cell_type": "markdown",
      "source": [
        "**문제**\n",
        "\n",
        "수를 처리하는 것은 통계학에서 상당히 중요한 일이다. 통계학에서 N개의 수를 대표하는 기본 통계값에는 다음과 같은 것들이 있다. 단, N은 홀수라고 가정하자.\n",
        "\n",
        "**산술평균** : N개의 수들의 합을 N으로 나눈 값\n",
        "\n",
        "**중앙값** : N개의 수들을 증가하는 순서로 나열했을 경우 그 중앙에 위치하는 값\n",
        "\n",
        "**최빈값** : N개의 수들 중 가장 많이 나타나는 값\n",
        "\n",
        "**범위** : N개의 수들 중 최댓값과 최솟값의 차이\n",
        "\n",
        "N개의 수가 주어졌을 때, 네 가지 기본 통계값을 구하는 프로그램을 작성하시오.\n",
        "\n",
        "**입력**\n",
        "\n",
        "첫째 줄에 수의 개수 N(1 ≤ N ≤ 500,000)이 주어진다. 단, N은 홀수이다. 그 다음 N개의 줄에는 정수들이 주어진다. 입력되는 정수의 절댓값은 4,000을 넘지 않는다.\n",
        "\n",
        "**출력**\n",
        "\n",
        "첫째 줄에는 산술평균을 출력한다. 소수점 이하 첫째 자리에서 반올림한 값을 출력한다.\n",
        "\n",
        "둘째 줄에는 중앙값을 출력한다.\n",
        "\n",
        "셋째 줄에는 최빈값을 출력한다. 여러 개 있을 때에는 최빈값 중 두 번째로 작은 값을 출력한다.\n",
        "\n",
        "넷째 줄에는 범위를 출력한다.\n",
        "\n"
      ],
      "metadata": {
        "id": "C-NaagMj6TEQ"
      }
    },
    {
      "cell_type": "code",
      "execution_count": null,
      "metadata": {
        "id": "qfRufP0D6Ss0"
      },
      "outputs": [],
      "source": [
        "import sys\n",
        "\n",
        "N = int(input())\n",
        "import collections\n",
        "\n",
        "array = []\n",
        "for _ in range(N):\n",
        "  array.append(int(sys.stdin.readline()))\n",
        "sorted_array = sorted(array)\n",
        "def mean(array):\n",
        "  return (sum(array) / N)\n",
        "\n",
        "def median(array):\n",
        "  return sorted(array)[N//2]  \n",
        "  \n",
        "def count(array):\n",
        "  check = collections.defaultdict(int)\n",
        "  final = collections.defaultdict(set)\n",
        "  for i in array:\n",
        "    check[i] += 1\n",
        "    final[check[i]].add(i)\n",
        "  return check, final\n",
        "  \n",
        "check, final = count(array)\n",
        "a = sorted(list(final[max(check.values())]))\n",
        "b = round(mean(array)+1e-10)\n",
        "\n",
        "print(b)\n",
        "print(median(array))\n",
        "if len(a) == 1:\n",
        "  print(a[0])\n",
        "else:\n",
        "  print(a[1])\n",
        "print(sorted_array[-1] - sorted_array[0])"
      ]
    }
  ]
}