{
  "nbformat": 4,
  "nbformat_minor": 0,
  "metadata": {
    "colab": {
      "provenance": [],
      "authorship_tag": "ABX9TyOYwpz/+yeRHNwmMpBc36AY",
      "include_colab_link": true
    },
    "kernelspec": {
      "name": "python3",
      "display_name": "Python 3"
    },
    "language_info": {
      "name": "python"
    }
  },
  "cells": [
    {
      "cell_type": "markdown",
      "metadata": {
        "id": "view-in-github",
        "colab_type": "text"
      },
      "source": [
        "<a href=\"https://colab.research.google.com/github/do-huni/Algorithm_practice/blob/main/Baekjoon/%EC%A0%95%EB%A0%AC(sorting)/1181_%EB%8B%A8%EC%96%B4_%EC%A0%95%EB%A0%AC.ipynb\" target=\"_parent\"><img src=\"https://colab.research.google.com/assets/colab-badge.svg\" alt=\"Open In Colab\"/></a>"
      ]
    },
    {
      "cell_type": "markdown",
      "source": [
        "**문제**\n",
        "\n",
        "알파벳 소문자로 이루어진 N개의 단어가 들어오면 아래와 같은 조건에 따라 정렬하는 프로그램을 작성하시오.\n",
        "\n",
        "길이가 짧은 것부터\n",
        "길이가 같으면 사전 순으로\n",
        "단, 중복된 단어는 하나만 남기고 제거해야 한다.\n",
        "\n",
        "**입력**\n",
        "\n",
        "첫째 줄에 단어의 개수 N이 주어진다. (1 ≤ N ≤ 20,000) 둘째 줄부터 N개의 줄에 걸쳐 알파벳 소문자로 이루어진 단어가 한 줄에 하나씩 주어진다. 주어지는 문자열의 길이는 50을 넘지 않는다.\n",
        "\n",
        "**출력**\n",
        "\n",
        "조건에 따라 정렬하여 단어들을 출력한다."
      ],
      "metadata": {
        "id": "_11hFjxs0o8h"
      }
    },
    {
      "cell_type": "code",
      "execution_count": 7,
      "metadata": {
        "colab": {
          "base_uri": "https://localhost:8080/"
        },
        "id": "zvDGN6z70ljI",
        "outputId": "eb1871c2-6f6d-4e65-9119-ffec57f58353"
      },
      "outputs": [
        {
          "output_type": "stream",
          "name": "stdout",
          "text": [
            "4\n",
            "i\n",
            "i\n",
            "ab\n",
            "afadf\n",
            "i\n",
            "ab\n",
            "afadf\n"
          ]
        }
      ],
      "source": [
        "import sys \n",
        "N = int(input())\n",
        "array = []\n",
        "for _ in range(N):\n",
        "  #array.append(str(input()))\n",
        "  array.append(str(sys.stdin.readline().rstrip()))\n",
        "for i in sorted(list(set(array)), key = lambda x: (len(x),x)):\n",
        "  print(i)"
      ]
    }
  ]
}