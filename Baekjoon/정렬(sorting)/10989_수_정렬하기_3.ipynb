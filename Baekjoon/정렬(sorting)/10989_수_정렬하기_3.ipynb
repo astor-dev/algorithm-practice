{
  "nbformat": 4,
  "nbformat_minor": 0,
  "metadata": {
    "colab": {
      "provenance": [],
      "authorship_tag": "ABX9TyNxz3zdcxtexQza8bccb/wn",
      "include_colab_link": true
    },
    "kernelspec": {
      "name": "python3",
      "display_name": "Python 3"
    },
    "language_info": {
      "name": "python"
    }
  },
  "cells": [
    {
      "cell_type": "markdown",
      "metadata": {
        "id": "view-in-github",
        "colab_type": "text"
      },
      "source": [
        "<a href=\"https://colab.research.google.com/github/do-huni/Algorithm_practice/blob/main/Baekjoon/%EC%A0%95%EB%A0%AC(sorting)/10989_%EC%88%98_%EC%A0%95%EB%A0%AC%ED%95%98%EA%B8%B0_3.ipynb\" target=\"_parent\"><img src=\"https://colab.research.google.com/assets/colab-badge.svg\" alt=\"Open In Colab\"/></a>"
      ]
    },
    {
      "cell_type": "markdown",
      "source": [
        "**문제**\n",
        "\n",
        "N개의 수가 주어졌을 때, 이를 오름차순으로 정렬하는 프로그램을 작성하시오.\n",
        "\n",
        "**입력**\n",
        "\n",
        "첫째 줄에 수의 개수 N(1 ≤ N ≤ 10,000,000)이 주어진다. 둘째 줄부터 N개의 줄에는 수가 주어진다. 이 수는 10,000보다 작거나 같은 자연수이다.\n",
        "\n",
        "**출력**\n",
        "\n",
        "첫째 줄부터 N개의 줄에 오름차순으로 정렬한 결과를 한 줄에 하나씩 출력한다."
      ],
      "metadata": {
        "id": "w09jfKhwXhV2"
      }
    },
    {
      "cell_type": "code",
      "execution_count": null,
      "metadata": {
        "id": "Qee1X-TrXg9G"
      },
      "outputs": [],
      "source": [
        "import sys\n",
        "\n",
        "N = int(input())\n",
        "array = []\n",
        "count = [0]*(10001)\n",
        "for _ in range(N):\n",
        "  count[int(sys.stdin.readline().strip())] += 1\n",
        "\n",
        "for i in range(10001):\n",
        "  for _ in range(count[i]):\n",
        "    print(i)"
      ]
    }
  ]
}