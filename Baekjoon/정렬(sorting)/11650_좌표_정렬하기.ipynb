{
  "nbformat": 4,
  "nbformat_minor": 0,
  "metadata": {
    "colab": {
      "provenance": [],
      "authorship_tag": "ABX9TyP305A+ORyWM15YSXY7IA5m",
      "include_colab_link": true
    },
    "kernelspec": {
      "name": "python3",
      "display_name": "Python 3"
    },
    "language_info": {
      "name": "python"
    }
  },
  "cells": [
    {
      "cell_type": "markdown",
      "metadata": {
        "id": "view-in-github",
        "colab_type": "text"
      },
      "source": [
        "<a href=\"https://colab.research.google.com/github/do-huni/Algorithm_practice/blob/main/Baekjoon/%EC%A0%95%EB%A0%AC(sorting)/11650_%EC%A2%8C%ED%91%9C_%EC%A0%95%EB%A0%AC%ED%95%98%EA%B8%B0.ipynb\" target=\"_parent\"><img src=\"https://colab.research.google.com/assets/colab-badge.svg\" alt=\"Open In Colab\"/></a>"
      ]
    },
    {
      "cell_type": "markdown",
      "source": [
        "**문제**\n",
        "\n",
        "2차원 평면 위의 점 N개가 주어진다. 좌표를 x좌표가 증가하는 순으로, x좌표가 같으면 y좌표가 증가하는 순서로 정렬한 다음 출력하는 프로그램을 작성하시오.\n",
        "\n",
        "**입력**\n",
        "\n",
        "첫째 줄에 점의 개수 N (1 ≤ N ≤ 100,000)이 주어진다. 둘째 줄부터 N개의 줄에는 i번점의 위치 xi와 yi가 주어진다. (-100,000 ≤ xi, yi ≤ 100,000) 좌표는 항상 정수이고, 위치가 같은 두 점은 없다.\n",
        "\n",
        "**출력**\n",
        "\n",
        "첫째 줄부터 N개의 줄에 점을 정렬한 결과를 출력한다."
      ],
      "metadata": {
        "id": "MDZKJdQzye8u"
      }
    },
    {
      "cell_type": "code",
      "execution_count": 10,
      "metadata": {
        "colab": {
          "base_uri": "https://localhost:8080/"
        },
        "id": "U7hU2sSNwNeo",
        "outputId": "16a0c4e7-63bc-4471-c80b-ae4093ad6269"
      },
      "outputs": [
        {
          "output_type": "stream",
          "name": "stdout",
          "text": [
            "2\n",
            "1 2\n",
            "1 3\n",
            "1 2\n",
            "1 3\n"
          ]
        }
      ],
      "source": [
        "import sys\n",
        "N = int(input())\n",
        "array = []\n",
        "for _ in range(N):\n",
        "  #array.append(list(map(int,input().split())))\n",
        "  array.append(list(map(int,sys.stdin.readline().split())))\n",
        "for i in sorted(array, key = lambda x: (x[0],x[1])):\n",
        "  print(' '.join(map(str,i)))"
      ]
    }
  ]
}