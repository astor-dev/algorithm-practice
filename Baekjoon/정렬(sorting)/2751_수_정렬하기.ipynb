{
  "nbformat": 4,
  "nbformat_minor": 0,
  "metadata": {
    "colab": {
      "provenance": [],
      "authorship_tag": "ABX9TyPBcIJqWssPxSCoUZ46ZQfR",
      "include_colab_link": true
    },
    "kernelspec": {
      "name": "python3",
      "display_name": "Python 3"
    },
    "language_info": {
      "name": "python"
    }
  },
  "cells": [
    {
      "cell_type": "markdown",
      "metadata": {
        "id": "view-in-github",
        "colab_type": "text"
      },
      "source": [
        "<a href=\"https://colab.research.google.com/github/do-huni/Algorithm_practice/blob/main/Baekjoon/%EC%A0%95%EB%A0%AC(sorting)/2751_%EC%88%98_%EC%A0%95%EB%A0%AC%ED%95%98%EA%B8%B0.ipynb\" target=\"_parent\"><img src=\"https://colab.research.google.com/assets/colab-badge.svg\" alt=\"Open In Colab\"/></a>"
      ]
    },
    {
      "cell_type": "markdown",
      "source": [],
      "metadata": {
        "id": "w09jfKhwXhV2"
      }
    },
    {
      "cell_type": "code",
      "execution_count": null,
      "metadata": {
        "id": "Qee1X-TrXg9G"
      },
      "outputs": [],
      "source": [
        "import sys\n",
        "sys.setrecursionlimit(10**6) #재귀 깊이 한도를 늘림. pypy에서는 사용 불가\n",
        "def merge_sort(arr):\n",
        "    def sort(low, high):\n",
        "        if high - low < 2:\n",
        "            return\n",
        "        mid = (low + high) // 2\n",
        "        sort(low, mid)\n",
        "        sort(mid, high)\n",
        "        merge(low, mid, high)\n",
        "\n",
        "    def merge(low, mid, high):\n",
        "        temp = []\n",
        "        l, h = low, mid\n",
        "\n",
        "        while l < mid and h < high:\n",
        "            if arr[l] < arr[h]:\n",
        "                temp.append(arr[l])\n",
        "                l += 1\n",
        "            else:\n",
        "                temp.append(arr[h])\n",
        "                h += 1\n",
        "\n",
        "        while l < mid:\n",
        "            temp.append(arr[l])\n",
        "            l += 1\n",
        "        while h < high:\n",
        "            temp.append(arr[h])\n",
        "            h += 1\n",
        "\n",
        "        for i in range(low, high):\n",
        "            arr[i] = temp[i - low]\n",
        "\n",
        "    return sort(0, len(arr))\n",
        "N = int(input())\n",
        "array = []\n",
        "for _ in range(N):\n",
        "  array.append(int(sys.stdin.readline().strip()))\n",
        "merge_sort(array)\n",
        "for i in array:\n",
        "  print(i)"
      ]
    }
  ]
}