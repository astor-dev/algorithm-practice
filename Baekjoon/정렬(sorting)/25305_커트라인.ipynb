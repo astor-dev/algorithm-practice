{
  "nbformat": 4,
  "nbformat_minor": 0,
  "metadata": {
    "colab": {
      "provenance": [],
      "authorship_tag": "ABX9TyPf+g3efy1yCS/NvTnKaiHw",
      "include_colab_link": true
    },
    "kernelspec": {
      "name": "python3",
      "display_name": "Python 3"
    },
    "language_info": {
      "name": "python"
    }
  },
  "cells": [
    {
      "cell_type": "markdown",
      "metadata": {
        "id": "view-in-github",
        "colab_type": "text"
      },
      "source": [
        "<a href=\"https://colab.research.google.com/github/do-huni/Algorithm_practice/blob/main/Baekjoon/%EC%A0%95%EB%A0%AC(sorting)/25305_%EC%BB%A4%ED%8A%B8%EB%9D%BC%EC%9D%B8.ipynb\" target=\"_parent\"><img src=\"https://colab.research.google.com/assets/colab-badge.svg\" alt=\"Open In Colab\"/></a>"
      ]
    },
    {
      "cell_type": "markdown",
      "source": [
        "**문제**\n",
        "\n",
        "2022 연세대학교 미래캠퍼스 슬기로운 코딩생활에 $N$명의 학생들이 응시했다.\n",
        "\n",
        "이들 중 점수가 가장 높은 $k$명은 상을 받을 것이다. 이 때, 상을 받는 커트라인이 몇 점인지 구하라.\n",
        "\n",
        "커트라인이란 상을 받는 사람들 중 점수가 가장 가장 낮은 사람의 점수를 말한다.\n",
        "\n",
        "**입력**\n",
        "\n",
        "첫째 줄에는 응시자의 수 $N$과 상을 받는 사람의 수 $k$가 공백을 사이에 두고 주어진다.\n",
        "\n",
        "둘째 줄에는 각 학생의 점수 $x$가 공백을 사이에 두고 주어진다.\n",
        "\n",
        "**출력**\n",
        "\n",
        "상을 받는 커트라인을 출력하라."
      ],
      "metadata": {
        "id": "9t5Jvw8mUNqR"
      }
    },
    {
      "cell_type": "code",
      "execution_count": 12,
      "metadata": {
        "colab": {
          "base_uri": "https://localhost:8080/"
        },
        "id": "J5srIiLSUJPy",
        "outputId": "ca63e424-4dad-41fb-b23d-ec2559a9ece4"
      },
      "outputs": [
        {
          "output_type": "stream",
          "name": "stdout",
          "text": [
            "3 2\n",
            "5 1 2\n",
            "2\n"
          ]
        }
      ],
      "source": [
        "N, k = map(int,input().split())\n",
        "scores = []\n",
        "scores.extend(map(int,(input().split())))\n",
        "\n",
        "def quick_sort(array, start, end):\n",
        "  if start >= end:\n",
        "    return\n",
        "  left = start + 1\n",
        "  right = end\n",
        "  pivot = start\n",
        "  while left <= right:\n",
        "    while left <= end and array[left] <= array[pivot]:\n",
        "      left +=1\n",
        "    while right > start and array[right] >= array[pivot]:\n",
        "      right -= 1\n",
        "    if left > right:\n",
        "      array[pivot], array[right] = array[right], array[pivot]\n",
        "    else:\n",
        "      array[left], array[right] = array[right], array[left]\n",
        "  quick_sort(array, start, right)\n",
        "  quick_sort(array, right+1, end)\n",
        "\n",
        "quick_sort(scores, 0, len(scores)-1)\n",
        "print(scores[-k])"
      ]
    }
  ]
}