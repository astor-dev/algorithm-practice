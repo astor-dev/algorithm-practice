{
  "nbformat": 4,
  "nbformat_minor": 0,
  "metadata": {
    "colab": {
      "provenance": [],
      "authorship_tag": "ABX9TyN0r4QhLnDadJwE9Oyp8Tqc",
      "include_colab_link": true
    },
    "kernelspec": {
      "name": "python3",
      "display_name": "Python 3"
    },
    "language_info": {
      "name": "python"
    }
  },
  "cells": [
    {
      "cell_type": "markdown",
      "metadata": {
        "id": "view-in-github",
        "colab_type": "text"
      },
      "source": [
        "<a href=\"https://colab.research.google.com/github/orangNLP/Algorithm_practice/blob/main/Baekjoon/%EC%A7%91%ED%95%A9%EA%B3%BC%20%EB%A7%B5(set%20%26%20map)/10816_%EC%88%AB%EC%9E%90_%EC%B9%B4%EB%93%9C_2.ipynb\" target=\"_parent\"><img src=\"https://colab.research.google.com/assets/colab-badge.svg\" alt=\"Open In Colab\"/></a>"
      ]
    },
    {
      "cell_type": "markdown",
      "source": [
        "**문제**\n",
        "\n",
        "숫자 카드는 정수 하나가 적혀져 있는 카드이다. 상근이는 숫자 카드 N개를 가지고 있다. 정수 M개가 주어졌을 때, 이 수가 적혀있는 숫자 카드를 상근이가 몇 개 가지고 있는지 구하는 프로그램을 작성하시오.\n",
        "\n",
        "**입력**\n",
        "\n",
        "첫째 줄에 상근이가 가지고 있는 숫자 카드의 개수 N(1 ≤ N ≤ 500,000)이 주어진다. 둘째 줄에는 숫자 카드에 적혀있는 정수가 주어진다. 숫자 카드에 적혀있는 수는 -10,000,000보다 크거나 같고, 10,000,000보다 작거나 같다.\n",
        "\n",
        "셋째 줄에는 M(1 ≤ M ≤ 500,000)이 주어진다. 넷째 줄에는 상근이가 몇 개 가지고 있는 숫자 카드인지 구해야 할 M개의 정수가 주어지며, 이 수는 공백으로 구분되어져 있다. 이 수도 -10,000,000보다 크거나 같고, 10,000,000보다 작거나 같다.\n",
        "\n",
        "**출력**\n",
        "\n",
        "첫째 줄에 입력으로 주어진 M개의 수에 대해서, 각 수가 적힌 숫자 카드를 상근이가 몇 개 가지고 있는지를 공백으로 구분해 출력한다."
      ],
      "metadata": {
        "id": "GlrAAotpma96"
      }
    },
    {
      "cell_type": "code",
      "execution_count": null,
      "metadata": {
        "id": "WDBZXnt0mY2x"
      },
      "outputs": [],
      "source": [
        "import sys\n",
        "def lower_bound(left, right, k):\n",
        "  global my_list\n",
        "  while left < right:\n",
        "    mid = (left + right) //2\n",
        "    if my_list[mid] < k:\n",
        "      left = mid +1\n",
        "    else: right = mid\n",
        "  if right == len(my_list):\n",
        "    return 0\n",
        "  elif my_list[right] == k:\n",
        "    return right\n",
        "  else:\n",
        "    return 0\n",
        "def upper_bound(left, right, k):\n",
        "  global my_list\n",
        "  while left < right:\n",
        "    mid = (left + right) //2\n",
        "    if my_list[mid] <= k:\n",
        "      left = mid +1\n",
        "    else: right = mid\n",
        "  if my_list[right-1] == k:\n",
        "    return right\n",
        "  else:\n",
        "    return 0\n",
        "answer = []\n",
        "a = sys.stdin.readline()\n",
        "my_list = sorted(list(map(int, sys.stdin.readline().split())))\n",
        "p = sys.stdin.readline()\n",
        "input_list = list(map(int, sys.stdin.readline().split()))\n",
        "for i in range(len(input_list)):\n",
        "  answer.append(upper_bound(0,len(my_list), input_list[i]) - lower_bound(0,len(my_list), input_list[i]))\n",
        "print(' '.join(map(str, answer)))"
      ]
    }
  ]
}