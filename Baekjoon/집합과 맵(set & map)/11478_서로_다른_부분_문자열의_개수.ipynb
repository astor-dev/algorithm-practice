{
  "nbformat": 4,
  "nbformat_minor": 0,
  "metadata": {
    "colab": {
      "provenance": [],
      "authorship_tag": "ABX9TyO3MEptlzBaYM89oAFXl7H8",
      "include_colab_link": true
    },
    "kernelspec": {
      "name": "python3",
      "display_name": "Python 3"
    },
    "language_info": {
      "name": "python"
    }
  },
  "cells": [
    {
      "cell_type": "markdown",
      "metadata": {
        "id": "view-in-github",
        "colab_type": "text"
      },
      "source": [
        "<a href=\"https://colab.research.google.com/github/orangNLP/Algorithm_practice/blob/main/Baekjoon/%EC%A7%91%ED%95%A9%EA%B3%BC%20%EB%A7%B5(set%20%26%20map)/11478_%EC%84%9C%EB%A1%9C_%EB%8B%A4%EB%A5%B8_%EB%B6%80%EB%B6%84_%EB%AC%B8%EC%9E%90%EC%97%B4%EC%9D%98_%EA%B0%9C%EC%88%98.ipynb\" target=\"_parent\"><img src=\"https://colab.research.google.com/assets/colab-badge.svg\" alt=\"Open In Colab\"/></a>"
      ]
    },
    {
      "cell_type": "markdown",
      "source": [
        "**문제**\n",
        "\n",
        "문자열 S가 주어졌을 때, S의 서로 다른 부분 문자열의 개수를 구하는 프로그램을 작성하시오.\n",
        "\n",
        "부분 문자열은 S에서 연속된 일부분을 말하며, 길이가 1보다 크거나 같아야 한다.\n",
        "\n",
        "예를 들어, ababc의 부분 문자열은 a, b, a, b, c, ab, ba, ab, bc, aba, bab, abc, abab, babc, ababc가 있고, 서로 다른것의 개수는 12개이다.\n",
        "\n",
        "**입력**\n",
        "\n",
        "첫째 줄에 문자열 S가 주어진다. S는 알파벳 소문자로만 이루어져 있고, 길이는 1,000 이하이다.\n",
        "\n",
        "**출력**\n",
        "\n",
        "첫째 줄에 S의 서로 다른 부분 문자열의 개수를 출력한다."
      ],
      "metadata": {
        "id": "ia1IDaWwnQzv"
      }
    },
    {
      "cell_type": "code",
      "execution_count": null,
      "metadata": {
        "id": "_WbIrUxWnM3B"
      },
      "outputs": [],
      "source": [
        "import sys\n",
        "s = sys.stdin.readline().strip()\n",
        "a = set()\n",
        "for i in range(len(s)):\n",
        "  for j in range(i,len(s)):\n",
        "    temp = s[i:j+1]\n",
        "    a.add(temp)\n",
        "print(len(a))"
      ]
    }
  ]
}