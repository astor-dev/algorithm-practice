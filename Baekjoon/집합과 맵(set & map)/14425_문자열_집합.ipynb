{
  "nbformat": 4,
  "nbformat_minor": 0,
  "metadata": {
    "colab": {
      "provenance": [],
      "authorship_tag": "ABX9TyNlIbm2JhmNcPe5V7c7h3IS",
      "include_colab_link": true
    },
    "kernelspec": {
      "name": "python3",
      "display_name": "Python 3"
    },
    "language_info": {
      "name": "python"
    }
  },
  "cells": [
    {
      "cell_type": "markdown",
      "metadata": {
        "id": "view-in-github",
        "colab_type": "text"
      },
      "source": [
        "<a href=\"https://colab.research.google.com/github/orangNLP/Algorithm_practice/blob/main/Baekjoon/%EC%A7%91%ED%95%A9%EA%B3%BC%20%EB%A7%B5(set%20%26%20map)/14425_%EB%AC%B8%EC%9E%90%EC%97%B4_%EC%A7%91%ED%95%A9.ipynb\" target=\"_parent\"><img src=\"https://colab.research.google.com/assets/colab-badge.svg\" alt=\"Open In Colab\"/></a>"
      ]
    },
    {
      "cell_type": "markdown",
      "source": [
        "**문제**\n",
        "\n",
        "총 N개의 문자열로 이루어진 집합 S가 주어진다.\n",
        "\n",
        "입력으로 주어지는 M개의 문자열 중에서 집합 S에 포함되어 있는 것이 총 몇 개인지 구하는 프로그램을 작성하시오.\n",
        "\n",
        "**입력**\n",
        "\n",
        "첫째 줄에 문자열의 개수 N과 M (1 ≤ N ≤ 10,000, 1 ≤ M ≤ 10,000)이 주어진다. \n",
        "\n",
        "다음 N개의 줄에는 집합 S에 포함되어 있는 문자열들이 주어진다.\n",
        "\n",
        "다음 M개의 줄에는 검사해야 하는 문자열들이 주어진다.\n",
        "\n",
        "입력으로 주어지는 문자열은 알파벳 소문자로만 이루어져 있으며, 길이는 500을 넘지 않는다. 집합 S에 같은 문자열이 여러 번 주어지는 경우는 없다.\n",
        "\n",
        "**출력**\n",
        "\n",
        "첫째 줄에 M개의 문자열 중에 총 몇 개가 집합 S에 포함되어 있는지 출력한다."
      ],
      "metadata": {
        "id": "so7Ec1MAluem"
      }
    },
    {
      "cell_type": "code",
      "execution_count": null,
      "metadata": {
        "id": "sDdXGLa2lrkV"
      },
      "outputs": [],
      "source": [
        "a,b = map(int,input().split())\n",
        "Q = set()\n",
        "W = []\n",
        "count = 0\n",
        "for i in range(a):\n",
        "  Q.add(str(input()))\n",
        "for i in range(b):\n",
        "  if str(input()) in Q:\n",
        "    count +=1\n",
        "print(count)"
      ]
    }
  ]
}