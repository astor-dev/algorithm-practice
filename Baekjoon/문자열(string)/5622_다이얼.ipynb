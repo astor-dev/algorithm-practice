{
  "nbformat": 4,
  "nbformat_minor": 0,
  "metadata": {
    "colab": {
      "provenance": [],
      "authorship_tag": "ABX9TyPM/WOkSnd8B+oNw4d6P2Tr",
      "include_colab_link": true
    },
    "kernelspec": {
      "name": "python3",
      "display_name": "Python 3"
    },
    "language_info": {
      "name": "python"
    }
  },
  "cells": [
    {
      "cell_type": "markdown",
      "metadata": {
        "id": "view-in-github",
        "colab_type": "text"
      },
      "source": [
        "<a href=\"https://colab.research.google.com/github/do-huni/algorithm-practice/blob/main/Baekjoon/%EB%AC%B8%EC%9E%90%EC%97%B4(string)/5622_%EB%8B%A4%EC%9D%B4%EC%96%BC.ipynb\" target=\"_parent\"><img src=\"https://colab.research.google.com/assets/colab-badge.svg\" alt=\"Open In Colab\"/></a>"
      ]
    },
    {
      "cell_type": "code",
      "execution_count": null,
      "metadata": {
        "colab": {
          "base_uri": "https://localhost:8080/"
        },
        "id": "AwU5wejovplE",
        "outputId": "23e76ee1-52fe-4b38-f446-46bb9bca910e"
      },
      "outputs": [
        {
          "output_type": "stream",
          "name": "stdout",
          "text": [
            "WA\n",
            "13\n"
          ]
        }
      ],
      "source": [
        "dic={'ABC':3, 'DEF':4, 'GHI':5, 'JKL':6, 'MNO': 7, 'PQRS':8, 'TUV':9, 'WXYZ': 10}\n",
        "a = input()\n",
        "time = 0\n",
        "for i in a:\n",
        "  for k in dic.keys():\n",
        "    if i in k:\n",
        "      time += dic[k]\n",
        "print(time)"
      ]
    }
  ]
}