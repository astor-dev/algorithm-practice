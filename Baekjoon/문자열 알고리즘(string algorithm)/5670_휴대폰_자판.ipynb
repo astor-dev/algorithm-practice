{
  "nbformat": 4,
  "nbformat_minor": 0,
  "metadata": {
    "colab": {
      "provenance": [],
      "authorship_tag": "ABX9TyOaBveDtuizFFQ1dQlRs0P4",
      "include_colab_link": true
    },
    "kernelspec": {
      "name": "python3",
      "display_name": "Python 3"
    },
    "language_info": {
      "name": "python"
    }
  },
  "cells": [
    {
      "cell_type": "markdown",
      "metadata": {
        "id": "view-in-github",
        "colab_type": "text"
      },
      "source": [
        "<a href=\"https://colab.research.google.com/github/orangNLP/Algorithm_practice/blob/main/Baekjoon/%EB%AC%B8%EC%9E%90%EC%97%B4%20%EC%95%8C%EA%B3%A0%EB%A6%AC%EC%A6%98(string%20algorithm)/5670_%ED%9C%B4%EB%8C%80%ED%8F%B0_%EC%9E%90%ED%8C%90.ipynb\" target=\"_parent\"><img src=\"https://colab.research.google.com/assets/colab-badge.svg\" alt=\"Open In Colab\"/></a>"
      ]
    },
    {
      "cell_type": "markdown",
      "source": [
        "**문제**\n",
        "\n",
        "\n",
        "---\n",
        "\n",
        "\n",
        "\n",
        "휴대폰에서 길이가 P인 영단어를 입력하려면 버튼을 P번 눌러야 한다. 그러나 시스템프로그래밍 연구실에 근무하는 승혁연구원은 사전을 사용해 이 입력을 더 빨리 할 수 있는 자판 모듈을 개발하였다. 이 모듈은 사전 내에서 가능한 다음 글자가 하나뿐이라면 그 글자를 버튼 입력 없이 자동으로 입력해 준다! 자세한 작동 과정을 설명하자면 다음과 같다.\n",
        "\n",
        "1. 모듈이 단어의 첫 번째 글자를 추론하지는 않는다. 즉, 사전의 모든 단어가 같은 알파벳으로 시작하더라도 반드시 첫 글자는 사용자가 버튼을 눌러 입력해야 한다.\n",
        "2. 길이가 1 이상인 문자열 c1c2...cn이 지금까지 입력되었을 때, 사전 안의 모든 c1c2...cn으로 시작하는 단어가 c1c2...cnc로도 시작하는 글자 c가 존재한다면 모듈은 사용자의 버튼 입력 없이도 자동으로 c를 입력해 준다. 그렇지 않다면 사용자의 입력을 기다린다.\n",
        "\n",
        "예를 들면, 사전에 \"hello\", \"hell\", \"heaven\", \"goodbye\" 4개의 단어가 있고 사용자가 \"h\"를 입력하면 모듈은 자동으로 \"e\"를 입력해 준다. 사전상의 \"h\"로 시작하는 단어들은 모두 그 뒤에 \"e\"가 오기 때문이다. 그러나 단어들 중 \"hel\"로 시작하는 것도, \"hea\"로 시작하는 것도 있기 때문에 여기서 모듈은 사용자의 입력을 기다린다. 이어서 사용자가 \"l\"을 입력하면 모듈은 \"l\"을 자동으로 입력해 준다. 그러나 여기서 끝나는 단어인 \"hell\"과 그렇지 않은 단어인 \"hello\"가 공존하므로 모듈은 다시 입력을 기다린다. 사용자가 \"hell\"을 입력하기 원한다면 여기서 입력을 멈출 것이고, \"hello\"를 입력하기 원한다면 직접 \"o\" 버튼을 눌러서 입력해 줘야 한다. 따라서 \"hello\"를 입력하려면 사용자는 총 3번 버튼을 눌러야 하고, \"hell\", \"heaven\"은 2번이다. \"heaven\"의 경우 \"he\"에서 \"a\"를 입력하면 바로 뒷부분이 모두 자동으로 입력되기 때문이다. 비슷하게, \"goodbye\"는 단 한 번만 버튼을 눌러도 입력이 완료될 것이다. \"g\"를 입력하는 순간 뒤에 오는 글자가 항상 유일하므로 끝까지 자동으로 입력되기 때문이다. 이때 사전에 있는 단어들을 입력하기 위해 버튼을 눌러야 하는 횟수의 평균은 (3 + 2 + 2 + 1)/4 = 2.00이다.\n",
        "\n",
        "사전이 주어졌을 때, 이 모듈을 사용하면서 이와 같이 각 단어를 입력하기 위해 버튼을 눌러야 하는 횟수의 평균을 구하는 프로그램을 작성하시오.\n",
        "\n",
        "**입력**\n",
        "\n",
        "---\n",
        "\n",
        "\n",
        "\n",
        "입력은 여러 개의 테스트 케이스로 이루어져 있다.\n",
        "\n",
        "각 테스트 케이스의 첫째 줄에 사전에 속한 단어의 개수 N이 주어지며(1 ≤ N ≤ 105), 이어서 N개의 줄에 1~80글자인 영어 소문자로만 이루어진 단어가 하나씩 주어진다. 이 단어들로 사전이 구성되어 있으며, 똑같은 단어는 두 번 주어지지 않는다. 각 테스트 케이스마다 입력으로 주어지는 단어의 길이 총합은 최대 106이다.\n",
        "\n",
        "**출력**\n",
        "\n",
        "\n",
        "---\n",
        "\n",
        "\n",
        "각 테스트 케이스마다 한 줄에 걸쳐 문제의 정답을 소수점 둘째 자리까지 반올림하여 출력한다."
      ],
      "metadata": {
        "id": "vSdS6ZXE2PQ6"
      }
    },
    {
      "cell_type": "code",
      "execution_count": 1,
      "metadata": {
        "colab": {
          "base_uri": "https://localhost:8080/",
          "height": 256
        },
        "id": "JMhEKkTG2H0X",
        "outputId": "0fca0e7e-dd55-4bf1-9a18-ec577171d5eb"
      },
      "outputs": [
        {
          "output_type": "error",
          "ename": "NameError",
          "evalue": "ignored",
          "traceback": [
            "\u001b[0;31m---------------------------------------------------------------------------\u001b[0m",
            "\u001b[0;31mNameError\u001b[0m                                 Traceback (most recent call last)",
            "\u001b[0;32m<ipython-input-1-435cc6fab36d>\u001b[0m in \u001b[0;36m<module>\u001b[0;34m\u001b[0m\n\u001b[1;32m     42\u001b[0m   \u001b[0mdic\u001b[0m \u001b[0;34m=\u001b[0m \u001b[0;34m[\u001b[0m\u001b[0;34m]\u001b[0m\u001b[0;34m\u001b[0m\u001b[0;34m\u001b[0m\u001b[0m\n\u001b[1;32m     43\u001b[0m   \u001b[0manswer\u001b[0m \u001b[0;34m=\u001b[0m \u001b[0;34m[\u001b[0m\u001b[0;34m]\u001b[0m\u001b[0;34m\u001b[0m\u001b[0;34m\u001b[0m\u001b[0m\n\u001b[0;32m---> 44\u001b[0;31m   \u001b[0;32mfor\u001b[0m \u001b[0mi\u001b[0m \u001b[0;32min\u001b[0m \u001b[0mrange\u001b[0m\u001b[0;34m(\u001b[0m\u001b[0mn\u001b[0m\u001b[0;34m)\u001b[0m\u001b[0;34m:\u001b[0m\u001b[0;34m\u001b[0m\u001b[0;34m\u001b[0m\u001b[0m\n\u001b[0m\u001b[1;32m     45\u001b[0m     \u001b[0mstring\u001b[0m \u001b[0;34m=\u001b[0m \u001b[0mstr\u001b[0m\u001b[0;34m(\u001b[0m\u001b[0msys\u001b[0m\u001b[0;34m.\u001b[0m\u001b[0mstdin\u001b[0m\u001b[0;34m.\u001b[0m\u001b[0mreadline\u001b[0m\u001b[0;34m.\u001b[0m\u001b[0mrstrip\u001b[0m\u001b[0;34m(\u001b[0m\u001b[0;34m)\u001b[0m\u001b[0;34m)\u001b[0m\u001b[0;34m\u001b[0m\u001b[0;34m\u001b[0m\u001b[0m\n\u001b[1;32m     46\u001b[0m     \u001b[0mdic\u001b[0m\u001b[0;34m.\u001b[0m\u001b[0mappend\u001b[0m\u001b[0;34m(\u001b[0m\u001b[0mstring\u001b[0m\u001b[0;34m)\u001b[0m\u001b[0;34m\u001b[0m\u001b[0;34m\u001b[0m\u001b[0m\n",
            "\u001b[0;31mNameError\u001b[0m: name 'n' is not defined"
          ]
        }
      ],
      "source": [
        "import sys\n",
        "\n",
        "class Node(object):\n",
        "  def __init__(self, key):\n",
        "    self.key = key\n",
        "    self.flag = False\n",
        "    self.children = {}\n",
        "\n",
        "class Trie:\n",
        "  def __init__(self):\n",
        "    self.head = Node(None)\n",
        "  \n",
        "  def insert(self, string):\n",
        "    current_node = self.head\n",
        "    for char in string:\n",
        "      if char not in current_node.children:\n",
        "        current_node.children[char] = Node(char)\n",
        "      current_node = current_node.children[char]\n",
        "    current_node.flag = True\n",
        "  \n",
        "  def count(self,char):\n",
        "    cur = self.head\n",
        "    return_value = 0\n",
        "\n",
        "    for c in char :\n",
        "      #현재 노드가 Head일 때, 1번의 경우\n",
        "      if cur == self.head :\n",
        "        return_value +=1\n",
        "\t\t  #현재 노드의 자식 노드가 2개 이상 or 현재 노드에서 문자가 끝났었던 적이 있다면 (2+3번)\n",
        "      elif len(cur.children) > 1 or cur.flag == True :\n",
        "        return_value +=1\n",
        "      \n",
        "      cur = cur.children[c]\n",
        "\n",
        "    return return_value\n",
        "\n",
        "while True:\n",
        "  try:\n",
        "    n = int(sys.stdin.readline().rstrip())\n",
        "  except:\n",
        "    exit()\n",
        "  trie = Trie()\n",
        "  dic = []\n",
        "  answer = []\n",
        "  for i in range(n):\n",
        "    string = str(sys.stdin.readline().rstrip())\n",
        "    trie.insert(string)\n",
        "    dic.append(string)\n",
        "  count_sum = 0\n",
        "  for i in dic:\n",
        "    count_sum += trie.count(i)\n",
        "  print('{:.2f}'.format(count_sum/n))  "
      ]
    },
    {
      "cell_type": "code",
      "source": [
        "import sys\n",
        "\n",
        "class Node(object):\n",
        "  def __init__(self, key):\n",
        "    self.key = key\n",
        "    self.flag = False\n",
        "    self.children = {}\n",
        "\n",
        "class Trie:\n",
        "  def __init__(self):\n",
        "    self.head = Node(None)\n",
        "  \n",
        "  def insert(self, string):\n",
        "    current_node = self.head\n",
        "    for char in string:\n",
        "      if char not in current_node.children:\n",
        "        current_node.children[char] = Node(char)\n",
        "      current_node = current_node.children[char]\n",
        "    current_node.flag = True\n",
        "  \n",
        "  def count(self,char):\n",
        "    cur = self.head\n",
        "    return_value = 0\n",
        "\n",
        "    for c in char :\n",
        "      #현재 노드가 Head일 때, 1번의 경우\n",
        "      if cur == self.head :\n",
        "        return_value +=1\n",
        "\t\t  #현재 노드의 자식 노드가 2개 이상 or 현재 노드에서 문자가 끝났었던 적이 있다면 (2+3번)\n",
        "      elif len(cur.children) > 1 or cur.flag == True :\n",
        "        return_value +=1\n",
        "      \n",
        "      cur = cur.children[c]\n",
        "\n",
        "    return return_value\n",
        "\n",
        "while True:\n",
        "  try:\n",
        "    n = int(input())\n",
        "  except:\n",
        "    exit()\n",
        "  trie = Trie()\n",
        "  dic = []\n",
        "  answer = []\n",
        "  for i in range(n):\n",
        "    string = str(input())\n",
        "    trie.insert(string)\n",
        "    dic.append(string)\n",
        "  count_sum = 0\n",
        "  for i in dic:\n",
        "    count_sum += trie.count(i)\n",
        "    print(i, trie.count(i))\n",
        "  print('{:.2f}'.format(count_sum/n))  "
      ],
      "metadata": {
        "colab": {
          "base_uri": "https://localhost:8080/"
        },
        "id": "xIu22ta0LnQ_",
        "outputId": "a7d58c14-7bfe-4263-f38d-8612ae87d5bc"
      },
      "execution_count": null,
      "outputs": [
        {
          "output_type": "stream",
          "name": "stdout",
          "text": [
            "4\n",
            "hello\n",
            "hell\n",
            "goodbye\n",
            "heaven\n",
            "hello 2\n",
            "hell 2\n",
            "goodbye 1\n",
            "heaven 2\n",
            "1.75\n"
          ]
        }
      ]
    },
    {
      "cell_type": "code",
      "source": [],
      "metadata": {
        "id": "JFEvLQJNMbIC"
      },
      "execution_count": null,
      "outputs": []
    },
    {
      "cell_type": "code",
      "source": [
        "trie"
      ],
      "metadata": {
        "colab": {
          "base_uri": "https://localhost:8080/",
          "height": 180
        },
        "id": "jZ0VFNxIEC5K",
        "outputId": "54d66021-5c7f-42f4-cfb7-fd9742d28004"
      },
      "execution_count": 1,
      "outputs": [
        {
          "output_type": "error",
          "ename": "NameError",
          "evalue": "ignored",
          "traceback": [
            "\u001b[0;31m---------------------------------------------------------------------------\u001b[0m",
            "\u001b[0;31mNameError\u001b[0m                                 Traceback (most recent call last)",
            "\u001b[0;32m<ipython-input-1-38e8234b313c>\u001b[0m in \u001b[0;36m<module>\u001b[0;34m\u001b[0m\n\u001b[0;32m----> 1\u001b[0;31m \u001b[0mtrie\u001b[0m\u001b[0;34m\u001b[0m\u001b[0;34m\u001b[0m\u001b[0m\n\u001b[0m",
            "\u001b[0;31mNameError\u001b[0m: name 'trie' is not defined"
          ]
        }
      ]
    }
  ]
}