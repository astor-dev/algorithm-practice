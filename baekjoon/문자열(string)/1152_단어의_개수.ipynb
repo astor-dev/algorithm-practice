{
  "nbformat": 4,
  "nbformat_minor": 0,
  "metadata": {
    "colab": {
      "provenance": [],
      "authorship_tag": "ABX9TyMOnPnFr+/X3cbjrZxtLRc+",
      "include_colab_link": true
    },
    "kernelspec": {
      "name": "python3",
      "display_name": "Python 3"
    },
    "language_info": {
      "name": "python"
    }
  },
  "cells": [
    {
      "cell_type": "markdown",
      "metadata": {
        "id": "view-in-github",
        "colab_type": "text"
      },
      "source": [
        "<a href=\"https://colab.research.google.com/github/orangNLP/Algorithm_practice/blob/main/Baekjoon/%EB%AC%B8%EC%9E%90%EC%97%B4(string)/1152_%EB%8B%A8%EC%96%B4%EC%9D%98_%EA%B0%9C%EC%88%98.ipynb\" target=\"_parent\"><img src=\"https://colab.research.google.com/assets/colab-badge.svg\" alt=\"Open In Colab\"/></a>"
      ]
    },
    {
      "cell_type": "markdown",
      "source": [
        "**문제**\n",
        "\n",
        "영어 대소문자와 공백으로 이루어진 문자열이 주어진다. 이 문자열에는 몇 개의 단어가 있을까? 이를 구하는 프로그램을 작성하시오. 단, 한 단어가 여러 번 등장하면 등장한 횟수만큼 모두 세어야 한다.\n",
        "\n",
        "**입력**\n",
        "\n",
        "첫 줄에 영어 대소문자와 공백으로 이루어진 문자열이 주어진다. 이 문자열의 길이는 1,000,000을 넘지 않는다. 단어는 공백 한 개로 구분되며, 공백이 연속해서 나오는 경우는 없다. 또한 문자열은 공백으로 시작하거나 끝날 수 있다.\n",
        "\n",
        "**출력**\n",
        "\n",
        "첫째 줄에 단어의 개수를 출력한다."
      ],
      "metadata": {
        "id": "v6V3C8J2vDzc"
      }
    },
    {
      "cell_type": "code",
      "execution_count": 1,
      "metadata": {
        "colab": {
          "base_uri": "https://localhost:8080/"
        },
        "id": "BciXjdmWvBWU",
        "outputId": "d72b1373-4b46-4fa7-9d5b-0ea050eaa7d3"
      },
      "outputs": [
        {
          "output_type": "stream",
          "name": "stdout",
          "text": [
            " The first character is a blank\n",
            "6\n"
          ]
        }
      ],
      "source": [
        "a = input()\n",
        "i = a.strip().split(' ')\n",
        "if i == ['']:\n",
        "  print('0')\n",
        "else: print(len(i))"
      ]
    }
  ]
}