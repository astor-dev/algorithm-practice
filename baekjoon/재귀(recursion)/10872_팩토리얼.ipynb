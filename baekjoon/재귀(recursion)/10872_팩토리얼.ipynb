{
  "nbformat": 4,
  "nbformat_minor": 0,
  "metadata": {
    "colab": {
      "provenance": [],
      "authorship_tag": "ABX9TyPRQKcupLj1zGVM6kCIaLzg",
      "include_colab_link": true
    },
    "kernelspec": {
      "name": "python3",
      "display_name": "Python 3"
    },
    "language_info": {
      "name": "python"
    }
  },
  "cells": [
    {
      "cell_type": "markdown",
      "metadata": {
        "id": "view-in-github",
        "colab_type": "text"
      },
      "source": [
        "<a href=\"https://colab.research.google.com/github/orangNLP/Algorithm_practice/blob/main/Baekjoon/%EC%9E%AC%EA%B7%80(recursion)/10872_%ED%8C%A9%ED%86%A0%EB%A6%AC%EC%96%BC.ipynb\" target=\"_parent\"><img src=\"https://colab.research.google.com/assets/colab-badge.svg\" alt=\"Open In Colab\"/></a>"
      ]
    },
    {
      "cell_type": "markdown",
      "source": [
        "**문제**\n",
        "\n",
        "0보다 크거나 같은 정수 N이 주어진다. 이때, N!을 출력하는 프로그램을 작성하시오.\n",
        "\n",
        "**입력**\n",
        "\n",
        "첫째 줄에 정수 N(0 ≤ N ≤ 12)이 주어진다.\n",
        "\n",
        "**출력**\n",
        "\n",
        "첫째 줄에 N!을 출력한다."
      ],
      "metadata": {
        "id": "Pui0ZcDNZK4p"
      }
    },
    {
      "cell_type": "code",
      "execution_count": 1,
      "metadata": {
        "colab": {
          "base_uri": "https://localhost:8080/"
        },
        "id": "l8cSaF5yZHXl",
        "outputId": "38ff392f-9e28-4b3d-ac19-a4c843baf5d3"
      },
      "outputs": [
        {
          "output_type": "stream",
          "name": "stdout",
          "text": [
            "10\n",
            "3628800\n"
          ]
        }
      ],
      "source": [
        "a = int(input())\n",
        "def factorial(number):\n",
        "  result = 1\n",
        "  if number > 1 :\n",
        "    result = number * factorial(number-1)\n",
        "  return result\n",
        "print(factorial(a))"
      ]
    }
  ]
}