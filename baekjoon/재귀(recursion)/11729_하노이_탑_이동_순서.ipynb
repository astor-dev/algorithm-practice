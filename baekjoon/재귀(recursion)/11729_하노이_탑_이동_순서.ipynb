{
  "nbformat": 4,
  "nbformat_minor": 0,
  "metadata": {
    "colab": {
      "provenance": [],
      "authorship_tag": "ABX9TyOlyZKwhGUk4oXyFOJ77nwj",
      "include_colab_link": true
    },
    "kernelspec": {
      "name": "python3",
      "display_name": "Python 3"
    },
    "language_info": {
      "name": "python"
    }
  },
  "cells": [
    {
      "cell_type": "markdown",
      "metadata": {
        "id": "view-in-github",
        "colab_type": "text"
      },
      "source": [
        "<a href=\"https://colab.research.google.com/github/orangNLP/Algorithm_practice/blob/main/Baekjoon/%EC%9E%AC%EA%B7%80(recursion)/11729_%ED%95%98%EB%85%B8%EC%9D%B4_%ED%83%91_%EC%9D%B4%EB%8F%99_%EC%88%9C%EC%84%9C.ipynb\" target=\"_parent\"><img src=\"https://colab.research.google.com/assets/colab-badge.svg\" alt=\"Open In Colab\"/></a>"
      ]
    },
    {
      "cell_type": "markdown",
      "source": [
        "**문제**\n",
        "\n",
        "세 개의 장대가 있고 첫 번째 장대에는 반경이 서로 다른 n개의 원판이 쌓여 있다. 각 원판은 반경이 큰 순서대로 쌓여있다. 이제 수도승들이 다음 규칙에 따라 첫 번째 장대에서 세 번째 장대로 옮기려 한다.\n",
        "\n",
        "한 번에 한 개의 원판만을 다른 탑으로 옮길 수 있다.\n",
        "쌓아 놓은 원판은 항상 위의 것이 아래의 것보다 작아야 한다.\n",
        "이 작업을 수행하는데 필요한 이동 순서를 출력하는 프로그램을 작성하라. 단, 이동 횟수는 최소가 되어야 한다.\n",
        "\n",
        "\n",
        "**입력**\n",
        "\n",
        "첫째 줄에 첫 번째 장대에 쌓인 원판의 개수 N (1 ≤ N ≤ 20)이 주어진다.\n",
        "\n",
        "**출력**\n",
        "\n",
        "첫째 줄에 옮긴 횟수 K를 출력한다.\n",
        "\n",
        "두 번째 줄부터 수행 과정을 출력한다. 두 번째 줄부터 K개의 줄에 걸쳐 두 정수 A B를 빈칸을 사이에 두고 출력하는데, 이는 A번째 탑의 가장 위에 있는 원판을 B번째 탑의 가장 위로 옮긴다는 뜻이다."
      ],
      "metadata": {
        "id": "xPFwzpiFbgfd"
      }
    },
    {
      "cell_type": "code",
      "execution_count": null,
      "metadata": {
        "id": "_EAjY4RTbYMO"
      },
      "outputs": [],
      "source": [
        "def hanoi(N, start, end):\n",
        "  if N == 1:\n",
        "    print(start, end)\n",
        "    return\n",
        "  \n",
        "  hanoi(N-1, start, 6-start-end)\n",
        "  print(start, end)\n",
        "  hanoi(N-1, 6-start-end, end)\n",
        "\n",
        "N = int(input())\n",
        "print(2**N -1)\n",
        "hanoi(N, 1, 3)"
      ]
    }
  ]
}