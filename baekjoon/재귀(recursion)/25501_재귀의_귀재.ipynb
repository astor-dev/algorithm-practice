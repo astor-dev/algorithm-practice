{
  "nbformat": 4,
  "nbformat_minor": 0,
  "metadata": {
    "colab": {
      "provenance": [],
      "authorship_tag": "ABX9TyP5uDBXEOLIJkK0AatRWUD7",
      "include_colab_link": true
    },
    "kernelspec": {
      "name": "python3",
      "display_name": "Python 3"
    },
    "language_info": {
      "name": "python"
    }
  },
  "cells": [
    {
      "cell_type": "markdown",
      "metadata": {
        "id": "view-in-github",
        "colab_type": "text"
      },
      "source": [
        "<a href=\"https://colab.research.google.com/github/orangNLP/Algorithm_practice/blob/main/Baekjoon/%EC%9E%AC%EA%B7%80(recursion)/25501_%EC%9E%AC%EA%B7%80%EC%9D%98_%EA%B7%80%EC%9E%AC.ipynb\" target=\"_parent\"><img src=\"https://colab.research.google.com/assets/colab-badge.svg\" alt=\"Open In Colab\"/></a>"
      ]
    },
    {
      "cell_type": "markdown",
      "source": [
        "**문제**\n",
        "\n",
        "정휘는 후배들이 재귀 함수를 잘 다루는 재귀의 귀재인지 알아보기 위해 재귀 함수와 관련된 문제를 출제하기로 했다.\n",
        "\n",
        "팰린드롬이란, 앞에서부터 읽었을 때와 뒤에서부터 읽었을 때가 같은 문자열을 말한다. 팰린드롬의 예시로 AAA, ABBA, ABABA 등이 있고, 팰린드롬이 아닌 문자열의 예시로 ABCA, PALINDROME 등이 있다.\n",
        "\n",
        "어떤 문자열이 팰린드롬인지 판별하는 문제는 재귀 함수를 이용해 쉽게 해결할 수 있다. 아래 코드의 isPalindrome 함수는 주어진 문자열이 팰린드롬이면 1, 팰린드롬이 아니면 0을 반환하는 함수다.\n",
        "\n",
        "\\#include <stdio.h>\n",
        "\\#include <string.h>\n",
        "\n",
        "int recursion(const char *s, int l, int r){\n",
        "    if(l >= r) return 1;\n",
        "    else if(s[l] != s[r]) return 0;\n",
        "    else return recursion(s, l+1, r-1);\n",
        "}\n",
        "\n",
        "int isPalindrome(const char *s){\n",
        "    return recursion(s, 0, strlen(s)-1);\n",
        "}\n",
        "\n",
        "int main(){\n",
        "    printf(\"ABBA: %d\\n\", isPalindrome(\"ABBA\")); // 1\n",
        "    printf(\"ABC: %d\\n\", isPalindrome(\"ABC\"));   // 0\n",
        "}\n",
        "정휘는 위에 작성된 isPalindrome 함수를 이용하여 어떤 문자열이 팰린드롬인지 여부를 판단하려고 한다.\n",
        "\n",
        "구체적으로는, 문자열 $S$를 isPalindrome 함수의 인자로 전달하여 팰린드롬 여부를 반환값으로 알아낼 것이다. 더불어 판별하는 과정에서 recursion 함수를 몇 번 호출하는지 셀 것이다.\n",
        "\n",
        "정휘를 따라 여러분도 함수의 반환값과 recursion 함수의 호출 횟수를 구해보자.\n",
        "\n",
        "**입력**\n",
        "\n",
        "첫째 줄에 테스트케이스의 개수 $T$가 주어진다. ($1 \\leq T \\leq 1\\,000$)\n",
        "\n",
        "둘째 줄부터 $T$개의 줄에 알파벳 대문자로 구성된 문자열 $S$가 주어진다. ($1 \\leq \\vert S\\vert \\leq 1\\,000$)\n",
        "\n",
        "**출력**\n",
        "\n",
        "각 테스트케이스마다, isPalindrome 함수의 반환값과 recursion 함수의 호출 횟수를 한 줄에 공백으로 구분하여 출력한다."
      ],
      "metadata": {
        "id": "C4UTE9Atam3D"
      }
    },
    {
      "cell_type": "code",
      "execution_count": 1,
      "metadata": {
        "colab": {
          "base_uri": "https://localhost:8080/"
        },
        "id": "2jnpYKXLamb7",
        "outputId": "825c6035-c030-4508-bca4-abfce2fd3ae4"
      },
      "outputs": [
        {
          "output_type": "stream",
          "name": "stdout",
          "text": [
            "5\n",
            "ABA\n",
            "1 2\n",
            "AAA\n",
            "1 2\n",
            "ABABA\n",
            "1 3\n",
            "ABCA\n",
            "0 2\n",
            "PALINDROME\n",
            "0 1\n"
          ]
        }
      ],
      "source": [
        "def recursion(chars, minlen, maxlen):\n",
        "  global count\n",
        "  count+=1\n",
        "  if minlen >= maxlen:\n",
        "    return '1'\n",
        "  elif chars[minlen] != chars[maxlen]:\n",
        "    return '0'\n",
        "  else:\n",
        "    return recursion(chars, minlen +1, maxlen -1)\n",
        "   \n",
        "def ispalindrome(chars):\n",
        "  return recursion(chars,0,len(chars)-1)\n",
        "for i in range(int(input())):\n",
        "  x = input()\n",
        "  count = 0\n",
        "  print(ispalindrome(x), count)"
      ]
    }
  ]
}