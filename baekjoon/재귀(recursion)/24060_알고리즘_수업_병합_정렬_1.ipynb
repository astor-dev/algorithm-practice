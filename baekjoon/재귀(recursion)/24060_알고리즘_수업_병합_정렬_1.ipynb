{
  "nbformat": 4,
  "nbformat_minor": 0,
  "metadata": {
    "colab": {
      "provenance": [],
      "authorship_tag": "ABX9TyPEixYj+TvKqViMb87Zf/Jy",
      "include_colab_link": true
    },
    "kernelspec": {
      "name": "python3",
      "display_name": "Python 3"
    },
    "language_info": {
      "name": "python"
    }
  },
  "cells": [
    {
      "cell_type": "markdown",
      "metadata": {
        "id": "view-in-github",
        "colab_type": "text"
      },
      "source": [
        "<a href=\"https://colab.research.google.com/github/orangNLP/Algorithm_practice/blob/main/Baekjoon/%EC%9E%AC%EA%B7%80(recursion)/24060_%EC%95%8C%EA%B3%A0%EB%A6%AC%EC%A6%98_%EC%88%98%EC%97%85_%EB%B3%91%ED%95%A9_%EC%A0%95%EB%A0%AC_1.ipynb\" target=\"_parent\"><img src=\"https://colab.research.google.com/assets/colab-badge.svg\" alt=\"Open In Colab\"/></a>"
      ]
    },
    {
      "cell_type": "markdown",
      "source": [
        "**문제**\n",
        "\n",
        "오늘도 서준이는 병합 정렬 수업 조교를 하고 있다. 아빠가 수업한 내용을 학생들이 잘 이해했는지 문제를 통해서 확인해보자.\n",
        "\n",
        "N개의 서로 다른 양의 정수가 저장된 배열 A가 있다. 병합 정렬로 배열 A를 오름차순 정렬할 경우 배열 A에 K 번째 저장되는 수를 구해서 우리 서준이를 도와주자.\n",
        "\n",
        "크기가 N인 배열에 대한 병합 정렬 의사 코드는 다음과 같다.\n",
        "\n",
        "merge_sort(A[p..r]) { # A[p..r]을 오름차순 정렬한다.\n",
        "    if (p < r) then {\n",
        "        q <- ⌊(p + r) / 2⌋;       # q는 p, r의 중간 지점\n",
        "        merge_sort(A, p, q);      # 전반부 정렬\n",
        "        merge_sort(A, q + 1, r);  # 후반부 정렬\n",
        "        merge(A, p, q, r);        # 병합\n",
        "    }\n",
        "}\n",
        "\n",
        "\\# A[p..q]와 A[q+1..r]을 병합하여 A[p..r]을 오름차순 정렬된 상태로 만든다.\n",
        "\\# A[p..q]와 A[q+1..r]은 이미 오름차순으로 정렬되어 있다.\n",
        "merge(A[], p, q, r) {\n",
        "    i <- p; j <- q + 1; t <- 1;\n",
        "    while (i ≤ q and j ≤ r) {\n",
        "        if (A[i] ≤ A[j])\n",
        "        then tmp[t++] <- A[i++]; # tmp[t] <- A[i]; t++; i++;\n",
        "        else tmp[t++] <- A[j++]; # tmp[t] <- A[j]; t++; j++;\n",
        "    }\n",
        "    while (i ≤ q)  # 왼쪽 배열 부분이 남은 경우\n",
        "        tmp[t++] <- A[i++];\n",
        "    while (j ≤ r)  # 오른쪽 배열 부분이 남은 경우\n",
        "        tmp[t++] <- A[j++];\n",
        "    i <- p; t <- 1;\n",
        "    while (i ≤ r)  # 결과를 A[p..r]에 저장\n",
        "        A[i++] <- tmp[t++]; \n",
        "}\n",
        "\n",
        "**입력**\n",
        "\n",
        "첫째 줄에 배열 A의 크기 N(5 ≤ N ≤ 500,000), 저장 횟수 K(1 ≤ K ≤ 108)가 주어진다.\n",
        "\n",
        "다음 줄에 서로 다른 배열 A의 원소 A1, A2, ..., AN이 주어진다. (1 ≤ Ai ≤ 109)\n",
        "\n",
        "**출력**\n",
        "\n",
        "배열 A에 K 번째 저장 되는 수를 출력한다. 저장 횟수가 K 보다 작으면 -1을 출력한다."
      ],
      "metadata": {
        "id": "384uYruvbOJc"
      }
    },
    {
      "cell_type": "code",
      "source": [
        "_, k = map(int,input().split())\n",
        "lst = list(map(int,input().split()))\n",
        "\n",
        "\n",
        "def merge_sort(lst):\n",
        "  left = 0\n",
        "  right = len(lst)\n",
        "  mid = (left + right + 1)//2\n",
        "  if len(lst) == 1:\n",
        "    return(lst)\n",
        "  a = merge_sort(lst[0:mid])\n",
        "  b = merge_sort(lst[mid:right])\n",
        "#  print('merge \\n', 'a:', a, 'b:', b)\n",
        "\n",
        "  return merge(a, b)\n",
        "\n",
        "\n",
        "\n",
        "def merge(a, b):\n",
        "  tmp = []\n",
        "  a_index, b_index = 0, 0\n",
        "  while a_index < len(a) and b_index < len(b):\n",
        "    if a[a_index] < b[b_index]:\n",
        "      tmp.append(a[a_index])\n",
        "      answer.append(a[a_index])\n",
        "      a_index += 1\n",
        "    else:\n",
        "      tmp.append(b[b_index])\n",
        "      answer.append(b[b_index])\n",
        "      b_index += 1\n",
        "  if a_index < len(a):\n",
        "    tmp.extend(a[a_index:])\n",
        "    answer.extend(a[a_index:])\n",
        "  elif b_index < len(b):\n",
        "    tmp.extend(b[b_index:])\n",
        "    answer.extend(b[b_index:])\n",
        "#  print('merged \\t', tmp)\n",
        "  return tmp\n",
        "\n",
        "answer = []\n",
        "lst = merge_sort(lst)\n",
        "if len(answer) >= k:\n",
        "  print(answer[k-1])\n",
        "else:\n",
        "  print('-1')"
      ],
      "metadata": {
        "colab": {
          "base_uri": "https://localhost:8080/"
        },
        "id": "bzFu2_CWlypO",
        "outputId": "b8d5ea51-08cf-40dc-ea4e-41736b9889dd"
      },
      "execution_count": 102,
      "outputs": [
        {
          "output_type": "stream",
          "name": "stdout",
          "text": [
            "4 5\n",
            "4 5 1 3 2\n",
            "merge \n",
            " a: [4] b: [5]\n",
            "merged \t [4, 5]\n",
            "merge \n",
            " a: [4, 5] b: [1]\n",
            "merged \t [1, 4, 5]\n",
            "merge \n",
            " a: [3] b: [2]\n",
            "merged \t [2, 3]\n",
            "merge \n",
            " a: [1, 4, 5] b: [2, 3]\n",
            "merged \t [1, 2, 3, 4, 5]\n",
            "5\n"
          ]
        }
      ]
    },
    {
      "cell_type": "code",
      "source": [
        "lst[1:]"
      ],
      "metadata": {
        "colab": {
          "base_uri": "https://localhost:8080/"
        },
        "id": "no54H6eisbOn",
        "outputId": "dbb6906e-ae7a-4e6a-bfac-26fef43266a5"
      },
      "execution_count": 101,
      "outputs": [
        {
          "output_type": "execute_result",
          "data": {
            "text/plain": [
              "[2, 3, 1, 4, 5]"
            ]
          },
          "metadata": {},
          "execution_count": 101
        }
      ]
    },
    {
      "cell_type": "code",
      "execution_count": 42,
      "metadata": {
        "colab": {
          "base_uri": "https://localhost:8080/"
        },
        "id": "Pu8SZ3K1bJB1",
        "outputId": "7607a16b-e97a-4e12-cbfb-669f82e5ea33"
      },
      "outputs": [
        {
          "output_type": "stream",
          "name": "stdout",
          "text": [
            "lst: [2, 120, 21, 53, 76, 32, 12, 53, 123, 43, 12, 10] mid: 6 right: 12\n",
            "lst: [2, 120, 21, 53, 76, 32] mid: 3 right: 6\n",
            "lst: [2, 120, 21] mid: 1 right: 3\n",
            "lst: [2] mid: 0 right: 1\n",
            "lst: [120, 21] mid: 1 right: 2\n",
            "lst: [120] mid: 0 right: 1\n",
            "lst: [21] mid: 0 right: 1\n",
            "merge \n",
            " a: [120] b: [21]\n",
            "merged \t [21, 120]\n",
            "merge \n",
            " a: [2] b: [21, 120]\n",
            "merged \t [2, 21, 120]\n",
            "lst: [53, 76, 32] mid: 1 right: 3\n",
            "lst: [53] mid: 0 right: 1\n",
            "lst: [76, 32] mid: 1 right: 2\n",
            "lst: [76] mid: 0 right: 1\n",
            "lst: [32] mid: 0 right: 1\n",
            "merge \n",
            " a: [76] b: [32]\n",
            "merged \t [32, 76]\n",
            "merge \n",
            " a: [53] b: [32, 76]\n",
            "merged \t [32, 53, 76]\n",
            "merge \n",
            " a: [2, 21, 120] b: [32, 53, 76]\n",
            "merged \t [2, 21, 32, 53, 76, 120]\n",
            "lst: [12, 53, 123, 43, 12, 10] mid: 3 right: 6\n",
            "lst: [12, 53, 123] mid: 1 right: 3\n",
            "lst: [12] mid: 0 right: 1\n",
            "lst: [53, 123] mid: 1 right: 2\n",
            "lst: [53] mid: 0 right: 1\n",
            "lst: [123] mid: 0 right: 1\n",
            "merge \n",
            " a: [53] b: [123]\n",
            "merged \t [53, 123]\n",
            "merge \n",
            " a: [12] b: [53, 123]\n",
            "merged \t [12, 53, 123]\n",
            "lst: [43, 12, 10] mid: 1 right: 3\n",
            "lst: [43] mid: 0 right: 1\n",
            "lst: [12, 10] mid: 1 right: 2\n",
            "lst: [12] mid: 0 right: 1\n",
            "lst: [10] mid: 0 right: 1\n",
            "merge \n",
            " a: [12] b: [10]\n",
            "merged \t [10, 12]\n",
            "merge \n",
            " a: [43] b: [10, 12]\n",
            "merged \t [10, 12, 43]\n",
            "merge \n",
            " a: [12, 53, 123] b: [10, 12, 43]\n",
            "merged \t [10, 12, 12, 43, 53, 123]\n",
            "merge \n",
            " a: [2, 21, 32, 53, 76, 120] b: [10, 12, 12, 43, 53, 123]\n",
            "merged \t [2, 10, 12, 12, 21, 32, 43, 53, 53, 76, 120, 123]\n"
          ]
        },
        {
          "output_type": "execute_result",
          "data": {
            "text/plain": [
              "[2, 10, 12, 12, 21, 32, 43, 53, 53, 76, 120, 123]"
            ]
          },
          "metadata": {},
          "execution_count": 42
        }
      ],
      "source": [
        "def merge_sort(lst):\n",
        "  left = 0\n",
        "  right = len(lst)\n",
        "  mid = (left + right)//2\n",
        "  #print('lst:', lst, 'mid:', mid, 'right:', right)\n",
        "  if 1 < right :\n",
        "    a = merge_sort(lst[0:mid])\n",
        "    b = merge_sort(lst[mid:right])\n",
        "    #print('merge \\n', 'a:', a, 'b:', b)\n",
        "    return merge(a, b)\n",
        "  return(lst)\n",
        "\n",
        "def merge(a, b):\n",
        "  tmp = []\n",
        "  while a and b:\n",
        "    if a[0] <= b[0]:\n",
        "      tmp.append(a[0])\n",
        "      a.pop(0)\n",
        "    else:\n",
        "      tmp.append(b[0])\n",
        "      b.pop(0)\n",
        "  if a:\n",
        "    tmp.extend(a)\n",
        "  elif b:\n",
        "    tmp.extend(b)\n",
        "  #print('merged \\t', tmp)\n",
        "  return tmp\n",
        "\n",
        "a = [2, 120, 21, 53, 76, 32, 12, 53, 123, 43, 12, 10]\n",
        "merge_sort(a)"
      ]
    }
  ]
}