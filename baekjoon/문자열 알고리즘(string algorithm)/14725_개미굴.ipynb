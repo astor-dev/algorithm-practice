{
  "nbformat": 4,
  "nbformat_minor": 0,
  "metadata": {
    "colab": {
      "provenance": [],
      "authorship_tag": "ABX9TyM4DZg6VG6uXTyIbD+lLQpJ",
      "include_colab_link": true
    },
    "kernelspec": {
      "name": "python3",
      "display_name": "Python 3"
    },
    "language_info": {
      "name": "python"
    }
  },
  "cells": [
    {
      "cell_type": "markdown",
      "metadata": {
        "id": "view-in-github",
        "colab_type": "text"
      },
      "source": [
        "<a href=\"https://colab.research.google.com/github/orangNLP/Algorithm_practice/blob/main/Baekjoon/%EB%AC%B8%EC%9E%90%EC%97%B4%20%EC%95%8C%EA%B3%A0%EB%A6%AC%EC%A6%98(string%20algorithm)/14725_%EA%B0%9C%EB%AF%B8%EA%B5%B4.ipynb\" target=\"_parent\"><img src=\"https://colab.research.google.com/assets/colab-badge.svg\" alt=\"Open In Colab\"/></a>"
      ]
    },
    {
      "cell_type": "code",
      "execution_count": 23,
      "metadata": {
        "colab": {
          "base_uri": "https://localhost:8080/"
        },
        "id": "yEfnUn17QoJY",
        "outputId": "d8310b74-9573-4598-c567-37438f8d6b95"
      },
      "outputs": [
        {
          "output_type": "stream",
          "name": "stdout",
          "text": [
            "apple\n",
            "--kiwi\n",
            "--apple\n",
            "kiwi\n",
            "--banana\n"
          ]
        }
      ],
      "source": [
        "class Node(object):\n",
        "  def __init__(self, key):\n",
        "    self.key = key\n",
        "    self.flag = False\n",
        "    self.children = {}\n",
        "  \n",
        "class Trie:\n",
        "  def __init__(self):\n",
        "    self.head = Node(None)\n",
        "  \n",
        "  def insert(self, lst):\n",
        "    cur = self.head\n",
        "    for string in lst:\n",
        "      if string not in cur.children:\n",
        "        cur.children[string] = Node(string)\n",
        "      cur = cur.children[string]\n",
        "    cur.flag = True\n",
        "  \n",
        "  def travel(self, level, cur):\n",
        "    if cur.flag:\n",
        "      return\n",
        "    for ch in sorted(cur.children.keys()):\n",
        "      print(\"--\"*level + ch)\n",
        "      self.travel(level+1, cur.children[ch])\n",
        "\n",
        "trie = Trie()\n",
        "import sys\n",
        "n = int(sys.stdin.readline())\n",
        "for i in range(n):\n",
        "  a = list(map(str,sys.stdin.readline().split()))\n",
        "  trie.insert(a[1:])\n",
        "trie.travel(0, trie.head)"
      ]
    },
    {
      "cell_type": "code",
      "source": [
        "class Node(object):\n",
        "  def __init__(self, key):\n",
        "    self.key = key\n",
        "    self.flag = False\n",
        "    self.children = {}\n",
        "  \n",
        "class Trie:\n",
        "  def __init__(self):\n",
        "    self.head = Node(None)\n",
        "  \n",
        "  def insert(self, lst):\n",
        "    cur = self.head\n",
        "    for string in lst:\n",
        "      if string not in cur.children:\n",
        "        cur.children[string] = Node(string)\n",
        "      cur = cur.children[string]\n",
        "    cur.flag = True\n",
        "  \n",
        "  def travel(self, level, cur):\n",
        "    if cur.flag:\n",
        "      return\n",
        "    for ch in sorted(cur.children.keys()):\n",
        "      print(\"--\"*level + ch)\n",
        "      self.travel(level+1, cur.children[ch])\n",
        "\n",
        "trie = Trie()\n",
        "n = int(input())\n",
        "for i in range(n):\n",
        "  a = list(map(str,input().split()))\n",
        "  trie.insert(a[1:])\n",
        "trie.travel(0, trie.head)"
      ],
      "metadata": {
        "colab": {
          "base_uri": "https://localhost:8080/"
        },
        "id": "ZfjTZ3nvYeeW",
        "outputId": "a28bf083-3f23-483a-bb2a-6405e2eb013f"
      },
      "execution_count": 26,
      "outputs": [
        {
          "output_type": "stream",
          "name": "stdout",
          "text": [
            "3\n",
            "2 B A\n",
            "4 A B C D\n",
            "2 A C\n",
            "A\n",
            "--B\n",
            "----C\n",
            "------D\n",
            "--C\n",
            "B\n",
            "--A\n"
          ]
        }
      ]
    }
  ]
}