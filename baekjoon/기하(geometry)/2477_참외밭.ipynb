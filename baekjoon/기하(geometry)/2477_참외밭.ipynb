{
  "nbformat": 4,
  "nbformat_minor": 0,
  "metadata": {
    "colab": {
      "provenance": [],
      "authorship_tag": "ABX9TyNyAf2i9H2Ep4RpM+zH+P1c",
      "include_colab_link": true
    },
    "kernelspec": {
      "name": "python3",
      "display_name": "Python 3"
    },
    "language_info": {
      "name": "python"
    }
  },
  "cells": [
    {
      "cell_type": "markdown",
      "metadata": {
        "id": "view-in-github",
        "colab_type": "text"
      },
      "source": [
        "<a href=\"https://colab.research.google.com/github/do-huni/Algorithm_practice/blob/main/Baekjoon/%EA%B8%B0%ED%95%98%201(geometry%20I)/2477_%EC%B0%B8%EC%99%B8%EB%B0%AD.ipynb\" target=\"_parent\"><img src=\"https://colab.research.google.com/assets/colab-badge.svg\" alt=\"Open In Colab\"/></a>"
      ]
    },
    {
      "cell_type": "markdown",
      "source": [
        "**문제**\n",
        "\n",
        "시골에 있는 태양이의 삼촌 댁에는 커다란 참외밭이 있다. 문득 태양이는 이 밭에서 자라는 참외가 도대체 몇 개나 되는지 궁금해졌다. 어떻게 알아낼 수 있는지 골똘히 생각하다가 드디어 좋은 아이디어가 떠올랐다. 유레카! 1m2의 넓이에 자라는 참외 개수를 헤아린 다음, 참외밭의 넓이를 구하면 비례식을 이용하여 참외의 총개수를 구할 수 있다.\n",
        "\n",
        "1m2의 넓이에 자라는 참외의 개수는 헤아렸고, 이제 참외밭의 넓이만 구하면 된다. 참외밭은 ㄱ-자 모양이거나 ㄱ-자를 90도, 180도, 270도 회전한 모양(┏, ┗, ┛ 모양)의 육각형이다. 다행히도 밭의 경계(육각형의 변)는 모두 동서 방향이거나 남북 방향이었다. 밭의 한 모퉁이에서 출발하여 밭의 둘레를 돌면서 밭경계 길이를 모두 측정하였다.\n",
        "\n",
        "\n",
        "![qqq.png](data:image/png;base64,iVBORw0KGgoAAAANSUhEUgAAAMEAAABdCAIAAACThJXzAAAFW0lEQVR4nO3dz0/iaBgH8HfI/A9WOFCrcSTZ7NxNPBjDKHEy8bAHL2YOmxAnZhdFTia7hmziyRiymQE18WD24mEOo5kJGavhMuE+JxhjKxcM/wV7KD8KvFSYh9L27fdzKhZI0359eVv6PLA6cGnZ3ZzG+ft1IhycCAcnwpOvTjrX67lXxqpV7gvFFWDQTU0FJXkhXeas2ZbfsrNqrVKtVb6tXW3lHkyrFi/XCtVapVp8czmfUse4vY5zOsRuxRuHbnYmdq/5zz5ZMQ1LWnZ1JavbuXWugnFocGr+Yj0W5a7S7thaVGk+UpbfsB/62LbLacjQMF6+0JKSHJLkkCQHt29bf9fvy5GZqfbzlOlISfNNiJChgen35e/pq9lixZgPnbPfY6b5kI8hQ8NY/+/zZvMTK5o5i3xSjcFGmZkr3ZvypGulyLTS+3oxIUMDswrK9Cxr5okxpn+9Yi98EyFkaAjRWCT9x3EzKeq/B+2gKPFk5KBxqq+fbqXnku+m+G8ioOdOb4CXLB0Vtdi8/A9jjLFf9wt5U1CimYK2vBhKM8Z++av4mX/6JqZn9Xrd6W0Ab8NnGVAhQ0CFDAEVMgRU1PMyOSSNZDvAKZVqjfgOpHEIARIA/SCO4PoQPcjglJGMApgPARUyBFTIEFAhQ0CFDAEVMgRUyBBQIUNAhQwBFTIEVMgQUBkZUlPBZuldsrtS/OF42Vj1+tg3VXcwjABj+mlsg53XjNK7wuxhR4z83IoABhNgTLtj+1vNOoSpzdRv7Soq/fSotPfBqF5Q4h/2y0eo7IRuAcaih6Yal4fjw4/t0nFftyKAAbXm1PppTJJD0uLlWuGoOSj5uxUBDKiVISWer1WqtUryx2LPtBrAQs+5fTRzxr40uqL4uxUBDCjA9NzrjoFH10qtDyxftyKAAQWYMjN3cXjaDMrD8buD9jza160IYEDPGYsePrJUUJKfMcbQigCGR2nmaLTSHVFnSB408rUZ5whq2dXJicZuD06EdzqamHJ3u4szdJ0ITyZujOWuTqvXiXDjoXay0q9XKzyNcwSvE33/LfvsdvdmCI18x6D3COq5xAk/Qpzdbiy69nt7NPJ1hn7H7t5zv4Dn7HZj0bUZQiNfR+ha6aLc7H3b8QU8b7cbS27NEBr5OkOJ52ut3rdTm7m90pdb61e4N0MMjXzdwDTG83a7seTWDKGRrys8sdsby6Od1Y/QzY7pIkT7rLLrIc7tSbqPYOdJ7s1O5/Uhz53bGxvauNLVc/aOa4wjwb0+1O8CY73Pbif1Fja616D/kHeN5Ai6dT4E3oEMAdUIeukJ05URH8o/hzQOYacDo49DwsRImNF0/DAfAipkCKiQIaBChoBKvAw1CnblkCT33C6CHiZ2EC1Dt8n5u2Sjh0l3zS56mNhDsAzpWsl0B230T9MtVOhhYhfBMqTE85ml1qOOW4twF7ZdBMuQibotL5gKc3EXtm2E/G1yNRXc+MjWzx5rS08/GajEG4fUVHCj/Hex8pjpCBDuwraNaBm6TW6w83ZlggnuwraLYBlS86V2b8lO6GFiF7HmQ/p9+Xva6FLSUH+59+1r3Bhw0MPEHqT7qUUihyRh7mMZHO6nBldAhoAKGQIqZAiokCGgQoaASqzrQzQo7fg5GIeACtcYgQrjEFAhQ0CFDI2LnkvxikksSk28UoWCDI2BmgpK8kK6zFnTv9TEQ1UodndrgwYtu9vd9s+i4b+XfgsA45CDLEpNvFSFggw5x6LUxFNVKMgQUCFDzrEoNfFUFQoy5CCLUhNPVaE4Pan3Dc55mWXDf+/8FgC+t3eURamJd6pQ8J0rUGE+BFT/A18goM1tfNNxAAAAAElFTkSuQmCC)\n",
        "\n",
        "\n",
        "\n",
        "예를 들어 참외밭이 위 그림과 같은 모양이라고 하자. 그림에서 오른쪽은 동쪽, 왼쪽은 서쪽, 아래쪽은 남쪽, 위쪽은 북쪽이다. 이 그림의 왼쪽위 꼭짓점에서 출발하여, 반시계방향으로 남쪽으로 30m, 동쪽으로 60m, 남쪽으로 20m, 동쪽으로 100m, 북쪽으로 50m, 서쪽으로 160m 이동하면 다시 출발점으로 되돌아가게 된다.\n",
        "\n",
        "위 그림의 참외밭  면적은 6800m2이다. 만약 1m2의 넓이에 자라는 참외의 개수가 7이라면, 이 밭에서 자라는 참외의 개수는 47600으로 계산된다.\n",
        "\n",
        "1m2의 넓이에 자라는 참외의 개수와, 참외밭을 이루는 육각형의 임의의 한 꼭짓점에서 출발하여 반시계방향으로 둘레를 돌면서 지나는 변의 방향과 길이가 순서대로 주어진다. 이 참외밭에서 자라는 참외의 수를 구하는 프로그램을 작성하시오.\n",
        "\n",
        "**입력**\n",
        "\n",
        "첫 번째 줄에 1m2의 넓이에 자라는 참외의 개수를 나타내는 양의 정수 K (1 ≤ K ≤ 20)가 주어진다. 참외밭을 나타내는 육각형의 임의의 한 꼭짓점에서 출발하여 반시계방향으로 둘레를 돌면서 지나는 변의 방향과 길이 (1 이상 500 이하의 정수) 가 둘째 줄부터 일곱 번째 줄까지 한 줄에 하나씩 순서대로 주어진다. 변의 방향에서 동쪽은 1, 서쪽은 2, 남쪽은 3, 북쪽은 4로 나타낸다.\n",
        "\n",
        "**출력**\n",
        "\n",
        "첫째 줄에 입력으로 주어진 밭에서 자라는 참외의 수를 출력한다."
      ],
      "metadata": {
        "id": "ECmIBqSUFBC7"
      }
    },
    {
      "cell_type": "code",
      "execution_count": null,
      "metadata": {
        "id": "VM4oAg4hE-pM"
      },
      "outputs": [],
      "source": [
        "K = int(input())\n",
        "max_height = 0  # 가장 긴 높이를 저장할 변수\n",
        "max_width = 0  # 가장 긴 가로길이를 저장할 변수\n",
        "max_width_index = 0  # 가장 긴 가로길이의 인덱스를 저장할 변수\n",
        "max_height_index = 0  # 가장 긴 높이의 인덱스를 저장할 변수\n",
        "info = []  # 변의 정보들을 저장할 리스트\n",
        "for i in range(6):\n",
        "    temp = list(map(int, input().split()))\n",
        "    info.append(temp)\n",
        "    if temp[0] == 1 or temp[0] == 2:  # 만약 가로 길이라면\n",
        "        if max_width < temp[1]:  # 해당 길이가 가장 길다면\n",
        "            max_width = temp[1]  # 그 길이를 가장긴 가로로 저장한 후\n",
        "            max_width_index = i  # 그에 해당하는 인덱스를 저장\n",
        "    else:\n",
        "        if max_height < temp[1]:  # 해당 길이가 가장 길다면\n",
        "            max_height = temp[1]  # 그 길이를 가장긴 세로로 저장한 후\n",
        "            max_height_index = i  # 그에 해당하는 인덱스를 저장\n",
        "\n",
        "# 그 후 가장 긴 가로 및 세로와 인접한 변 2개와 가장긴 가로와 세로 총 4개를 새로운 리스트에 저장한다.\n",
        "index_list = [info[max_height_index - 1], info[(max_height_index + 1) % 6], info[max_width_index - 1],\n",
        "              info[(max_width_index + 1) % 6]]\n",
        "\n",
        "product = 1  # 곱을 저장할 변수\n",
        "for i in info:  # 입력받은 변들 중에\n",
        "    if i not in index_list:  # 만약 새로운 리스트에 저장한 변 4개 중에 없다면 빈 사각형이므로\n",
        "        product *= i[1]  # 그 넓이를 변수에 저장한다.\n",
        "\n",
        "result = (max_width * max_height - product) * K  # 전체 큰 직사각형 넓이에서 빈 사각형 넓이를 빼준 후 K를 곱한다.\n",
        "print(result)"
      ]
    }
  ]
}