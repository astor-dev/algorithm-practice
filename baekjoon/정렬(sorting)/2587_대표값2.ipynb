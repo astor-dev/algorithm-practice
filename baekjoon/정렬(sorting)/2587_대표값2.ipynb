{
  "nbformat": 4,
  "nbformat_minor": 0,
  "metadata": {
    "colab": {
      "provenance": [],
      "authorship_tag": "ABX9TyNs+y/2O507QEjf7JI/tMXV",
      "include_colab_link": true
    },
    "kernelspec": {
      "name": "python3",
      "display_name": "Python 3"
    },
    "language_info": {
      "name": "python"
    }
  },
  "cells": [
    {
      "cell_type": "markdown",
      "metadata": {
        "id": "view-in-github",
        "colab_type": "text"
      },
      "source": [
        "<a href=\"https://colab.research.google.com/github/do-huni/Algorithm_practice/blob/main/Baekjoon/%EC%A0%95%EB%A0%AC(sorting)/2587_%EB%8C%80%ED%91%9C%EA%B0%922.ipynb\" target=\"_parent\"><img src=\"https://colab.research.google.com/assets/colab-badge.svg\" alt=\"Open In Colab\"/></a>"
      ]
    },
    {
      "cell_type": "markdown",
      "source": [
        "**문제**\n",
        "\n",
        "어떤 수들이 있을 때, 그 수들을 대표하는 값으로 가장 흔하게 쓰이는 것은 평균이다. 평균은 주어진 모든 수의 합을 수의 개수로 나눈 것이다. 예를 들어 10, 40, 30, 60, 30의 평균은 (10 + 40 + 30 + 60 + 30) / 5 = 170 / 5 = 34가 된다.\n",
        "\n",
        "평균 이외의 또 다른 대표값으로 중앙값이라는 것이 있다. 중앙값은 주어진 수를 크기 순서대로 늘어 놓았을 때 가장 중앙에 놓인 값이다. 예를 들어 10, 40, 30, 60, 30의 경우, 크기 순서대로 늘어 놓으면\n",
        "\n",
        "10 30 30 40 60\n",
        "\n",
        "이 되고 따라서 중앙값은 30이 된다.\n",
        "\n",
        "다섯 개의 자연수가 주어질 때 이들의 평균과 중앙값을 구하는 프로그램을 작성하시오.\n",
        "\n",
        "**입력**\n",
        "\n",
        "첫째 줄부터 다섯 번째 줄까지 한 줄에 하나씩 자연수가 주어진다. 주어지는 자연수는 100 보다 작은 10의 배수이다.\n",
        "\n",
        "**출력**\n",
        "\n",
        "첫째 줄에는 평균을 출력하고, 둘째 줄에는 중앙값을 출력한다. 평균과 중앙값은 모두 자연수이다."
      ],
      "metadata": {
        "id": "94lc20UIOykY"
      }
    },
    {
      "cell_type": "code",
      "execution_count": 22,
      "metadata": {
        "colab": {
          "base_uri": "https://localhost:8080/"
        },
        "id": "GUan37CXOxLt",
        "outputId": "463a5aef-a98a-4823-a413-d13b00462fe3"
      },
      "outputs": [
        {
          "output_type": "stream",
          "name": "stdout",
          "text": [
            "10\n",
            "40\n",
            "30\n",
            "60\n",
            "30\n",
            "34\n",
            "30\n"
          ]
        }
      ],
      "source": [
        "def mean(array):\n",
        "  return int(sum(array)/len(array))\n",
        "\n",
        "def median(array):\n",
        "  return array[len(array)//2]\n",
        "\n",
        "def quick_sort(array, start, end):\n",
        "  if start >= end:\n",
        "    return\n",
        "  left = start + 1\n",
        "  pivot = start\n",
        "  right = end\n",
        "  while left <= right:\n",
        "    while left <= end and array[left] <= array[pivot]:\n",
        "      left += 1\n",
        "    while right > start and array[right] >= array[pivot]:\n",
        "      right -= 1\n",
        "    if left > right:\n",
        "      array[right], array[pivot] = array[pivot], array[right]\n",
        "    else:\n",
        "      array[left], array[right] = array[right], array[left]\n",
        "  \n",
        "  quick_sort(array, start, right)\n",
        "  quick_sort(array, right+1,end)\n",
        "  \n",
        "array = []\n",
        "for _ in range(5):\n",
        "  array.append(int(input()))\n",
        "quick_sort(array, 0, len(array)-1)\n",
        "print(mean(array))\n",
        "print(median(array))"
      ]
    }
  ]
}