{
  "nbformat": 4,
  "nbformat_minor": 0,
  "metadata": {
    "colab": {
      "provenance": [],
      "authorship_tag": "ABX9TyNqf6Wt/FoDJgk1oHfIRrB8",
      "include_colab_link": true
    },
    "kernelspec": {
      "name": "python3",
      "display_name": "Python 3"
    },
    "language_info": {
      "name": "python"
    }
  },
  "cells": [
    {
      "cell_type": "markdown",
      "metadata": {
        "id": "view-in-github",
        "colab_type": "text"
      },
      "source": [
        "<a href=\"https://colab.research.google.com/github/do-huni/Algorithm_practice/blob/main/Baekjoon/%EC%A0%95%EB%A0%AC(sorting)/1427_%EC%86%8C%ED%8A%B8%EC%9D%B8%EC%82%AC%EC%9D%B4%EB%93%9C.ipynb\" target=\"_parent\"><img src=\"https://colab.research.google.com/assets/colab-badge.svg\" alt=\"Open In Colab\"/></a>"
      ]
    },
    {
      "cell_type": "markdown",
      "source": [
        "**문제**\n",
        "\n",
        "배열을 정렬하는 것은 쉽다. 수가 주어지면, 그 수의 각 자리수를 내림차순으로 정렬해보자.\n",
        "\n",
        "**입력**\n",
        "\n",
        "첫째 줄에 정렬하려고 하는 수 N이 주어진다. N은 1,000,000,000보다 작거나 같은 자연수이다.\n",
        "\n",
        "**출력**\n",
        "\n",
        "첫째 줄에 자리수를 내림차순으로 정렬한 수를 출력한다."
      ],
      "metadata": {
        "id": "w504CoOqF79N"
      }
    },
    {
      "cell_type": "code",
      "execution_count": 4,
      "metadata": {
        "colab": {
          "base_uri": "https://localhost:8080/"
        },
        "id": "aDvcxfavF6EE",
        "outputId": "be368c76-2806-4118-c40d-f1590ce840cd"
      },
      "outputs": [
        {
          "output_type": "stream",
          "name": "stdout",
          "text": [
            "500613009\n",
            "965310000\n"
          ]
        }
      ],
      "source": [
        "a = str(input())\n",
        "print(''.join(sorted(list(a), reverse=True)))"
      ]
    }
  ]
}