{
  "nbformat": 4,
  "nbformat_minor": 0,
  "metadata": {
    "colab": {
      "provenance": [],
      "authorship_tag": "ABX9TyN34mVPJFOIkM+WLEx7D3D/",
      "include_colab_link": true
    },
    "kernelspec": {
      "name": "python3",
      "display_name": "Python 3"
    },
    "language_info": {
      "name": "python"
    }
  },
  "cells": [
    {
      "cell_type": "markdown",
      "metadata": {
        "id": "view-in-github",
        "colab_type": "text"
      },
      "source": [
        "<a href=\"https://colab.research.google.com/github/do-huni/Algorithm_practice/blob/main/Baekjoon/%EC%A0%95%EB%A0%AC(sorting)/18870_%EC%A2%8C%ED%91%9C_%EC%95%95%EC%B6%95.ipynb\" target=\"_parent\"><img src=\"https://colab.research.google.com/assets/colab-badge.svg\" alt=\"Open In Colab\"/></a>"
      ]
    },
    {
      "cell_type": "markdown",
      "source": [
        "**문제**\n",
        "\n",
        "수직선 위에 N개의 좌표 X1, X2, ..., XN이 있다. 이 좌표에 좌표 압축을 적용하려고 한다.\n",
        "\n",
        "Xi를 좌표 압축한 결과 X'i의 값은 Xi > Xj를 만족하는 서로 다른 좌표의 개수와 같아야 한다.\n",
        "\n",
        "X1, X2, ..., XN에 좌표 압축을 적용한 결과 X'1, X'2, ..., X'N를 출력해보자.\n",
        "\n",
        "**입력**\n",
        "\n",
        "첫째 줄에 N이 주어진다.\n",
        "\n",
        "둘째 줄에는 공백 한 칸으로 구분된 X1, X2, ..., XN이 주어진다.\n",
        "\n",
        "**출력**\n",
        "\n",
        "첫째 줄에 X'1, X'2, ..., X'N을 공백 한 칸으로 구분해서 출력한다.\n",
        "\n",
        "**제한**\n",
        "\n",
        "1 ≤ N ≤ 1,000,000\n",
        "\n",
        "-109 ≤ Xi ≤ 109"
      ],
      "metadata": {
        "id": "-hXnOUYI6LWa"
      }
    },
    {
      "cell_type": "code",
      "execution_count": 18,
      "metadata": {
        "colab": {
          "base_uri": "https://localhost:8080/"
        },
        "id": "PnL0Y6WM6C86",
        "outputId": "a8d41cc5-9406-4a55-c3f2-f5c22864edcf"
      },
      "outputs": [
        {
          "output_type": "stream",
          "name": "stdout",
          "text": [
            "3\n",
            "105 105 100\n",
            "1 1 0 "
          ]
        }
      ],
      "source": [
        "import sys\n",
        "\n",
        "N = int(input())\n",
        "#array = list(map(int, input().split()))\n",
        "array = list(map(int,sys.stdin.readline().strip().split()))\n",
        "sorted_list = sorted(list(set(array)))\n",
        "\n",
        "def binary_search(target, array):\n",
        "  start = 0 \n",
        "  end = len(array) -1\n",
        "\n",
        "  while start <= end:\n",
        "    mid = (start + end)//2\n",
        "    if array[mid] == target:\n",
        "      return mid\n",
        "    elif array[mid] > target:\n",
        "      end = mid - 1\n",
        "    else:\n",
        "      start = mid + 1\n",
        "  return None\n",
        "\n",
        "for i in array:\n",
        "  print(binary_search(i,sorted_list), end= ' ')"
      ]
    }
  ]
}