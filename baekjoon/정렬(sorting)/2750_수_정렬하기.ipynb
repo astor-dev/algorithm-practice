{
  "nbformat": 4,
  "nbformat_minor": 0,
  "metadata": {
    "colab": {
      "provenance": [],
      "authorship_tag": "ABX9TyNO/2cVy0/WrUe1n7vhhM2u",
      "include_colab_link": true
    },
    "kernelspec": {
      "name": "python3",
      "display_name": "Python 3"
    },
    "language_info": {
      "name": "python"
    }
  },
  "cells": [
    {
      "cell_type": "markdown",
      "metadata": {
        "id": "view-in-github",
        "colab_type": "text"
      },
      "source": [
        "<a href=\"https://colab.research.google.com/github/do-huni/Algorithm_practice/blob/main/Baekjoon/%EC%A0%95%EB%A0%AC(sorting)2750_%EC%88%98_%EC%A0%95%EB%A0%AC%ED%95%98%EA%B8%B0.ipynb\" target=\"_parent\"><img src=\"https://colab.research.google.com/assets/colab-badge.svg\" alt=\"Open In Colab\"/></a>"
      ]
    },
    {
      "cell_type": "markdown",
      "source": [
        "**문제**\n",
        "\n",
        "N개의 수가 주어졌을 때, 이를 오름차순으로 정렬하는 프로그램을 작성하시오.\n",
        "\n",
        "**입력**\n",
        "\n",
        "첫째 줄에 수의 개수 N(1 ≤ N ≤ 1,000)이 주어진다. 둘째 줄부터 N개의 줄에는 수가 주어진다. 이 수는 절댓값이 1,000보다 작거나 같은 정수이다. 수는 중복되지 않는다.\n",
        "\n",
        "**출력**\n",
        "\n",
        "첫째 줄부터 N개의 줄에 오름차순으로 정렬한 결과를 한 줄에 하나씩 출력한다."
      ],
      "metadata": {
        "id": "P4sXBwNXluRs"
      }
    },
    {
      "cell_type": "code",
      "execution_count": null,
      "metadata": {
        "colab": {
          "base_uri": "https://localhost:8080/"
        },
        "id": "9tmpFg6KlqZb",
        "outputId": "f4478357-160b-4716-ba09-f9eae106d91f"
      },
      "outputs": [
        {
          "output_type": "stream",
          "name": "stdout",
          "text": [
            "5\n",
            "5\n",
            "2\n",
            "3\n",
            "4\n",
            "1\n",
            "1\n",
            "2\n",
            "3\n",
            "4\n",
            "5\n"
          ]
        }
      ],
      "source": [
        "def quick_sort(array,start,end):\n",
        "  if start >= end:\n",
        "    return\n",
        "  left = start+1\n",
        "  right = end\n",
        "  pivot = start\n",
        "  while left <= right:\n",
        "\n",
        "    while left <= end and array[pivot] >= array[left]:\n",
        "      left += 1\n",
        "    while array[pivot] <= array[right] and right > start:\n",
        "      right -= 1\n",
        "    if left > right:\n",
        "      array[pivot], array[right] = array[right], array[pivot]\n",
        "    else:\n",
        "      array[left], array[right] = array[right], array[left]\n",
        "  quick_sort(array, start, right)\n",
        "  quick_sort(array, right+1, end) \n",
        "N = int(input())\n",
        "array = []\n",
        "for i in range(N):\n",
        "  array.append(int(input()))\n",
        "quick_sort(array, 0, len(array)-1)\n",
        "for i in array:\n",
        "  print(i)"
      ]
    }
  ]
}
