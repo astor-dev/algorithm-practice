{
  "nbformat": 4,
  "nbformat_minor": 0,
  "metadata": {
    "colab": {
      "provenance": [],
      "authorship_tag": "ABX9TyOTDDyasHTOTELNLKuXgER2",
      "include_colab_link": true
    },
    "kernelspec": {
      "name": "python3",
      "display_name": "Python 3"
    },
    "language_info": {
      "name": "python"
    }
  },
  "cells": [
    {
      "cell_type": "markdown",
      "metadata": {
        "id": "view-in-github",
        "colab_type": "text"
      },
      "source": [
        "<a href=\"https://colab.research.google.com/github/do-huni/Algorithm_practice/blob/main/Baekjoon/%EB%8F%99%EC%A0%81%20%EA%B3%84%ED%9A%8D%EB%B2%951(dynamic%20programming%20I)/24416_%EC%95%8C%EA%B3%A0%EB%A6%AC%EC%A6%98_%EC%88%98%EC%97%85_%ED%94%BC%EB%B3%B4%EB%82%98%EC%B9%98_%EC%88%98_1_.ipynb\" target=\"_parent\"><img src=\"https://colab.research.google.com/assets/colab-badge.svg\" alt=\"Open In Colab\"/></a>"
      ]
    },
    {
      "cell_type": "markdown",
      "source": [
        "**문제**\n",
        "\n",
        "오늘도 서준이는 동적 프로그래밍 수업 조교를 하고 있다. 아빠가 수업한 내용을 학생들이 잘 이해했는지 문제를 통해서 확인해보자.\n",
        "\n",
        "오늘은 n의 피보나치 수를 재귀호출과 동적 프로그래밍으로 구하는 알고리즘을 배웠다. 재귀호출에 비해 동적 프로그래밍이 얼마나 빠른지 확인해 보자. 아래 의사 코드를 이용하여 n의 피보나치 수를 구할 경우 코드1 코드2 실행 횟수를 출력하자.\n",
        "\n",
        "피보나치 수 재귀호출 의사 코드는 다음과 같다.\n",
        "\n",
        "\n",
        "\n",
        "```\n",
        "fib(n) {\n",
        "    if (n = 1 or n = 2)\n",
        "    then return 1;  # 코드1\n",
        "    else return (fib(n - 1) + fib(n - 2));\n",
        "}\n",
        "```\n",
        "\n",
        "\n",
        "피보나치 수 동적 프로그래밍 의사 코드는 다음과 같다.\n",
        "\n",
        "\n",
        "```\n",
        "fibonacci(n) {\n",
        "    f[1] <- f[2] <- 1;\n",
        "    for i <- 3 to n\n",
        "        f[i] <- f[i - 1] + f[i - 2];  # 코드2\n",
        "    return f[n];\n",
        "}\n",
        "```\n",
        "\n",
        "\n",
        "\n",
        "**입력**\n",
        "\n",
        "첫째 줄에 n(5 ≤ n ≤ 40)이 주어진다.\n",
        "\n",
        "\n",
        "**출력**\n",
        "\n",
        "코드1 코드2 실행 횟수를 한 줄에 출력한다.\n"
      ],
      "metadata": {
        "id": "yv8rk2IJVtZ5"
      }
    },
    {
      "cell_type": "code",
      "execution_count": 14,
      "metadata": {
        "colab": {
          "base_uri": "https://localhost:8080/"
        },
        "id": "xrTIzsGdVtBH",
        "outputId": "6444bd0d-630f-430b-d456-0c740a5f795d"
      },
      "outputs": [
        {
          "output_type": "stream",
          "name": "stdout",
          "text": [
            "35\n",
            "9227465\n",
            "33\n"
          ]
        }
      ],
      "source": [
        "countf = 1\n",
        "countfib = 0\n",
        "n = int(input())\n",
        "def fib(n):\n",
        "  global countf\n",
        "  if n==1 or n==2:\n",
        "    return 1\n",
        "  else:\n",
        "    countf += 1\n",
        "    return (fib(n-1) + fib(n-2))\n",
        "\n",
        "fib(n)\n",
        "\n",
        "d = [0]*41\n",
        "\n",
        "d[1] = 1\n",
        "d[2] = 1\n",
        "for i in range(3, n+1):\n",
        "  countfib += 1\n",
        "  d[i] = d[i-1] + d[i-2]\n",
        "\n",
        "print(countf)\n",
        "print(countfib)"
      ]
    }
  ]
}