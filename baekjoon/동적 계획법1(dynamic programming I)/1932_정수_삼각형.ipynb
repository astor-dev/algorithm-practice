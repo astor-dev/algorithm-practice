{
  "nbformat": 4,
  "nbformat_minor": 0,
  "metadata": {
    "colab": {
      "provenance": [],
      "authorship_tag": "ABX9TyM6YJ1Pb8T4f7t62TKBnAWh",
      "include_colab_link": true
    },
    "kernelspec": {
      "name": "python3",
      "display_name": "Python 3"
    },
    "language_info": {
      "name": "python"
    }
  },
  "cells": [
    {
      "cell_type": "markdown",
      "metadata": {
        "id": "view-in-github",
        "colab_type": "text"
      },
      "source": [
        "<a href=\"https://colab.research.google.com/github/do-huni/Algorithm_practice/blob/main/Baekjoon/%EB%8F%99%EC%A0%81%20%EA%B3%84%ED%9A%8D%EB%B2%951(dynamic%20programming%20I)/1932_%EC%A0%95%EC%88%98_%EC%82%BC%EA%B0%81%ED%98%95.ipynb\" target=\"_parent\"><img src=\"https://colab.research.google.com/assets/colab-badge.svg\" alt=\"Open In Colab\"/></a>"
      ]
    },
    {
      "cell_type": "markdown",
      "source": [
        "**문제**\n",
        "\n",
        "\n",
        "```\n",
        "        7\n",
        "\n",
        "      3   8\n",
        "\n",
        "    8   1   0\n",
        "\n",
        "  2   7   4   4\n",
        "  \n",
        "4   5   2   6   5\n",
        "```\n",
        "위 그림은 크기가 5인 정수 삼각형의 한 모습이다.\n",
        "\n",
        "맨 위층 7부터 시작해서 아래에 있는 수 중 하나를 선택하여 아래층으로 내려올 때, 이제까지 선택된 수의 합이 최대가 되는 경로를 구하는 프로그램을 작성하라. 아래층에 있는 수는 현재 층에서 선택된 수의 대각선 왼쪽 또는 대각선 오른쪽에 있는 것 중에서만 선택할 수 있다.\n",
        "\n",
        "삼각형의 크기는 1 이상 500 이하이다. 삼각형을 이루고 있는 각 수는 모두 정수이며, 범위는 0 이상 9999 이하이다.\n",
        "\n",
        "**입력**\n",
        "\n",
        "첫째 줄에 삼각형의 크기 n(1 ≤ n ≤ 500)이 주어지고, 둘째 줄부터 n+1번째 줄까지 정수 삼각형이 주어진다.\n",
        "\n",
        "**출력**\n",
        "\n",
        "첫째 줄에 합이 최대가 되는 경로에 있는 수의 합을 출력한다"
      ],
      "metadata": {
        "id": "8TE9VVFd031l"
      }
    },
    {
      "cell_type": "code",
      "execution_count": 39,
      "metadata": {
        "colab": {
          "base_uri": "https://localhost:8080/"
        },
        "id": "oj6iBZGK03hF",
        "outputId": "ccc85d19-34dd-4625-fa2c-757b241a7795"
      },
      "outputs": [
        {
          "output_type": "stream",
          "name": "stdout",
          "text": [
            "3\n",
            "7\n",
            "3 8\n",
            "8 1 0\n",
            "18\n"
          ]
        }
      ],
      "source": [
        "n = int(input())\n",
        "dpt = [0]*int((((n)*(n+1)/2))+1)\n",
        "counter = 1\n",
        "total = 0\n",
        "table = [0]\n",
        "\n",
        "for _ in range(n):\n",
        "  table.extend(map(int,input().split()))\n",
        "dpt[1] = table[1]\n",
        "while counter < n:\n",
        "  for i in range(total+1, total + counter+1):\n",
        "    dpt[i+counter] = max(dpt[i]+table[i+counter], dpt[i+counter])\n",
        "    dpt[i+counter+1] = max(dpt[i]+table[i+counter+1], dpt[i+counter+1])\n",
        "  total += counter\n",
        "  counter += 1\n",
        "answer = []\n",
        "for i in range(total+1, total + counter+1):\n",
        "  answer.append(dpt[i])\n",
        "print(max(answer))"
      ]
    }
  ]
}