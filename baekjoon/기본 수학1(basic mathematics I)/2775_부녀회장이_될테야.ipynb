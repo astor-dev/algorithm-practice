{
  "nbformat": 4,
  "nbformat_minor": 0,
  "metadata": {
    "colab": {
      "provenance": [],
      "authorship_tag": "ABX9TyO7rpXGHHSpBkE/0eHObOyp",
      "include_colab_link": true
    },
    "kernelspec": {
      "name": "python3",
      "display_name": "Python 3"
    },
    "language_info": {
      "name": "python"
    }
  },
  "cells": [
    {
      "cell_type": "markdown",
      "metadata": {
        "id": "view-in-github",
        "colab_type": "text"
      },
      "source": [
        "<a href=\"https://colab.research.google.com/github/orangNLP/Algorithm_practice/blob/main/Baekjoon/%EA%B8%B0%EB%B3%B8%20%EC%88%98%ED%95%991(basic%20mathematics%20I)/2775_%EB%B6%80%EB%85%80%ED%9A%8C%EC%9E%A5%EC%9D%B4_%EB%90%A0%ED%85%8C%EC%95%BC.ipynb\" target=\"_parent\"><img src=\"https://colab.research.google.com/assets/colab-badge.svg\" alt=\"Open In Colab\"/></a>"
      ]
    },
    {
      "cell_type": "markdown",
      "source": [
        "**문제**\n",
        "\n",
        "평소 반상회에 참석하는 것을 좋아하는 주희는 이번 기회에 부녀회장이 되고 싶어 각 층의 사람들을 불러 모아 반상회를 주최하려고 한다.\n",
        "\n",
        "이 아파트에 거주를 하려면 조건이 있는데, “a층의 b호에 살려면 자신의 아래(a-1)층의 1호부터 b호까지 사람들의 수의 합만큼 사람들을 데려와 살아야 한다” 는 계약 조항을 꼭 지키고 들어와야 한다.\n",
        "\n",
        "아파트에 비어있는 집은 없고 모든 거주민들이 이 계약 조건을 지키고 왔다고 가정했을 때, 주어지는 양의 정수 k와 n에 대해 k층에 n호에는 몇 명이 살고 있는지 출력하라. 단, 아파트에는 0층부터 있고 각층에는 1호부터 있으며, 0층의 i호에는 i명이 산다.\n",
        "\n",
        "**입력**\n",
        "\n",
        "첫 번째 줄에 Test case의 수 T가 주어진다. 그리고 각각의 케이스마다 입력으로 첫 번째 줄에 정수 k, 두 번째 줄에 정수 n이 주어진다\n",
        "\n",
        "**출력**\n",
        "\n",
        "각각의 Test case에 대해서 해당 집에 거주민 수를 출력하라.\n",
        "\n",
        "**제한**\n",
        "\n",
        "1 ≤ k, n ≤ 14"
      ],
      "metadata": {
        "id": "-CxXdoPC0iSJ"
      }
    },
    {
      "cell_type": "code",
      "execution_count": 1,
      "metadata": {
        "colab": {
          "base_uri": "https://localhost:8080/"
        },
        "id": "wC8h0zNu0fVm",
        "outputId": "15a8fd31-4c14-4966-eb98-ccc8a4fc3016"
      },
      "outputs": [
        {
          "output_type": "stream",
          "name": "stdout",
          "text": [
            "2\n",
            "1\n",
            "3\n",
            "6\n",
            "1\n",
            "3\n",
            "6\n"
          ]
        }
      ],
      "source": [
        "a = int(input())\n",
        "for i in range(a):\n",
        "  k = int(input())\n",
        "  n = int(input())\n",
        "  A = [o for o in range(1,n+1)]\n",
        "  for q in range(k):\n",
        "    for w in range(1,n):\n",
        "      A[w] += A[w-1]\n",
        "  print(A[-1])"
      ]
    }
  ]
}