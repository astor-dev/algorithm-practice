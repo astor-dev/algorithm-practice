{
  "nbformat": 4,
  "nbformat_minor": 0,
  "metadata": {
    "colab": {
      "provenance": [],
      "authorship_tag": "ABX9TyOzND9sXEHkZRgJZfTIh0eN",
      "include_colab_link": true
    },
    "kernelspec": {
      "name": "python3",
      "display_name": "Python 3"
    },
    "language_info": {
      "name": "python"
    }
  },
  "cells": [
    {
      "cell_type": "markdown",
      "metadata": {
        "id": "view-in-github",
        "colab_type": "text"
      },
      "source": [
        "<a href=\"https://colab.research.google.com/github/do-huni/Algorithm_practice/blob/main/Baekjoon/%EA%B8%B0%ED%95%98%201(geometry%20I)/1002_%ED%84%B0%EB%A0%9B.ipynb\" target=\"_parent\"><img src=\"https://colab.research.google.com/assets/colab-badge.svg\" alt=\"Open In Colab\"/></a>"
      ]
    },
    {
      "cell_type": "markdown",
      "source": [
        "**문제**\n",
        "\n",
        "조규현과 백승환은 터렛에 근무하는 직원이다. 하지만 워낙 존재감이 없어서 인구수는 차지하지 않는다.\n",
        "\n",
        "\n",
        "이석원은 조규현과 백승환에게 상대편 마린(류재명)의 위치를 계산하라는 명령을 내렸다. 조규현과 백승환은 각각 자신의 터렛 위치에서 현재 적까지의 거리를 계산했다.\n",
        "\n",
        "조규현의 좌표 (x1, y1)와 백승환의 좌표 (x2, y2)가 주어지고, 조규현이 계산한 류재명과의 거리 r1과 백승환이 계산한 류재명과의 거리 r2가 주어졌을 때, 류재명이 있을 수 있는 좌표의 수를 출력하는 프로그램을 작성하시오.\n",
        "\n",
        "**입력**\n",
        "\n",
        "첫째 줄에 테스트 케이스의 개수 T가 주어진다. 각 테스트 케이스는 다음과 같이 이루어져 있다.\n",
        "\n",
        "한 줄에 x1, y1, r1, x2, y2, r2가 주어진다. x1, y1, x2, y2는 -10,000보다 크거나 같고, 10,000보다 작거나 같은 정수이고, r1, r2는 10,000보다 작거나 같은 자연수이다.\n",
        "\n",
        "**출력**\n",
        "\n",
        "각 테스트 케이스마다 류재명이 있을 수 있는 위치의 수를 출력한다. 만약 류재명이 있을 수 있는 위치의 개수가 무한대일 경우에는 -1을 출력한다."
      ],
      "metadata": {
        "id": "w-DUE8prGDe1"
      }
    },
    {
      "cell_type": "code",
      "execution_count": 19,
      "metadata": {
        "colab": {
          "base_uri": "https://localhost:8080/"
        },
        "id": "G0vsNk_zGDIJ",
        "outputId": "44ab143e-3c39-48ee-f8af-8e66fe63a0e5"
      },
      "outputs": [
        {
          "output_type": "stream",
          "name": "stdout",
          "text": [
            "1\n",
            "0 0 3 0 7 44\n",
            "0\n"
          ]
        }
      ],
      "source": [
        "import math\n",
        "\n",
        "def euclidean_distance(x1,y1,x2,y2):\n",
        "  return math.sqrt((x2-x1)**2 + (y2-y1)**2)\n",
        "\n",
        "T = int(input())\n",
        "for _ in range(T):\n",
        "  x1, y1, r1, x2, y2, r2 = map(float,input().split())\n",
        "  distance = euclidean_distance(x1,y1,x2,y2)\n",
        "  sum_r = r1+r2\n",
        "  r1, r2 = min(r1,r2), max(r1,r2)\n",
        "  if x1 == x2 and y1 == y2:\n",
        "    if r1 != r2:\n",
        "      print('0')\n",
        "    elif r1 == 0:\n",
        "      print('1')\n",
        "    else:\n",
        "      print('-1')\n",
        "  elif distance == sum_r:\n",
        "    print('1')\n",
        "  elif distance > sum_r:\n",
        "    print('0')\n",
        "  elif distance < sum_r:\n",
        "    if r1 + distance == r2:\n",
        "      print('1')\n",
        "    elif r1 + distance < r2:\n",
        "      print('0')\n",
        "    else:\n",
        "      print('2')\n",
        "  else:\n",
        "    print('-1')"
      ]
    }
  ]
}